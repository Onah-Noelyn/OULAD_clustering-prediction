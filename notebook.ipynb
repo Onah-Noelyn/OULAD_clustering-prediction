{
 "cells": [
  {
   "cell_type": "markdown",
   "metadata": {},
   "source": [
    "ENVS615: Analysis of Human Dynamics                                                                      \n",
    
   ]
  },
  {
   "cell_type": "markdown",
   "metadata": {},
   "source": [
    "# CLUSTERING OF STUDENTS AND PREDICTION OF EXPECTED SCORES"
   ]
  },
  {
   "cell_type": "markdown",
   "metadata": {},
   "source": [
    "## INTRODUCTION"
   ]
  },
  {
   "cell_type": "markdown",
   "metadata": {},
   "source": [
    "Despite increasing enrollment on online courses, there is evidence of receding student retention rates (Bawa, 2016). To reduce this attrition, data driven approaches can be adopted especially since student activity is easily captured with online courses compared to traditional face-to-face learning. \n",
    "\n",
    "Predictive models can be used to identify poor performing students with appropiate support provided to help these students. Learning from students who withdrew from the courses, further withdrawals can be predicted and personalised action put in place to reduce this attrition. The results produced from these two examples of the use of data driven approaches can further be improved by identifying homogeonous groups of students.\n",
    "\n",
    "This computational is aimed at analysing data to identify key patterns, with clustering and predictive models performed in an attempt to identify unique groups and predict total scores of student.\n",
    "\n",
    "The dataset used for this computational essay is open sourced from OU Analyse (https://analyse.kmi.open.ac.uk/#open-dataset). \n",
    "The Open University Learning Analytics dataset (OULAD) contains demographic, assessment, registration and virtual learning environment (VLE) data for 28785 unique students. The information are for seven courses (called modules)."
   ]
  },
  {
   "cell_type": "code",
   "execution_count": 118,
   "metadata": {},
   "outputs": [],
   "source": [
    "%matplotlib inline \n",
    "#this ensures that plots render inline and are saved as part of this notebook\n",
    "\n",
    "#import packages and name them\n",
    "import pandas as pd \n",
    "import numpy as np \n",
    "import seaborn as sns\n",
    "import matplotlib.pyplot as plt\n",
    "\n",
    "from scipy import stats\n",
    "import statsmodels.formula.api as sm\n",
    "\n",
    "from sklearn import preprocessing\n",
    "from sklearn.decomposition import PCA\n",
    "from sklearn import cluster, metrics\n",
    "from scipy.cluster.hierarchy import dendrogram, linkage\n",
    "import scipy.cluster.hierarchy as hac\n",
    "from scipy.cluster.hierarchy import fcluster\n",
    "\n",
    "\n",
    "from sklearn.linear_model import LinearRegression, LassoLarsCV\n",
    "#from sklearn.linear_model import LassoLarsCV\n",
    "from sklearn import cross_validation\n",
    "from sklearn import model_selection\n"
   ]
  },
  {
   "cell_type": "code",
   "execution_count": 64,
   "metadata": {
    "collapsed": true
   },
   "outputs": [],
   "source": [
    "#import the csv datasets as a pandas dataframe\n",
    "assessment = pd.read_csv(\"assessments.csv\") \n",
    "courses = pd.read_csv(\"courses.csv\") \n",
    "studentAssessment = pd.read_csv(\"studentAssessment.csv\") \n",
    "studentInfo = pd.read_csv(\"studentInfo.csv\")\n",
    "studentVle = pd.read_csv(\"studentVle.csv\")"
   ]
  },
  {
   "cell_type": "markdown",
   "metadata": {},
   "source": [
    "## PRE-PROCESSING OF DATA"
   ]
  },
  {
   "cell_type": "markdown",
   "metadata": {},
   "source": [
    "To ensure accurate insights, data needs to be cleaned and transformed to a form which can be feed into algorithms. This step needs to be accurately done as it determines the quality of the results produced.\n",
    "\n",
    "Using the _.info_ and _.head_, the datasets are explored to see if there are of the appropriate data type, check for missing values, view unique identifiers. This would help identify strategies that would be used to prepare and transform the data for analysis"
   ]
  },
  {
   "cell_type": "code",
   "execution_count": 3,
   "metadata": {
    "scrolled": true
   },
   "outputs": [
    {
     "name": "stdout",
     "output_type": "stream",
     "text": [
      "<class 'pandas.core.frame.DataFrame'>\n",
      "RangeIndex: 206 entries, 0 to 205\n",
      "Data columns (total 6 columns):\n",
      "code_module          206 non-null object\n",
      "code_presentation    206 non-null object\n",
      "id_assessment        206 non-null int64\n",
      "assessment_type      206 non-null object\n",
      "date                 206 non-null object\n",
      "weight               206 non-null float64\n",
      "dtypes: float64(1), int64(1), object(4)\n",
      "memory usage: 9.7+ KB\n",
      "None\n"
     ]
    },
    {
     "data": {
      "text/html": [
       "<div>\n",
       "<style>\n",
       "    .dataframe thead tr:only-child th {\n",
       "        text-align: right;\n",
       "    }\n",
       "\n",
       "    .dataframe thead th {\n",
       "        text-align: left;\n",
       "    }\n",
       "\n",
       "    .dataframe tbody tr th {\n",
       "        vertical-align: top;\n",
       "    }\n",
       "</style>\n",
       "<table border=\"1\" class=\"dataframe\">\n",
       "  <thead>\n",
       "    <tr style=\"text-align: right;\">\n",
       "      <th></th>\n",
       "      <th>code_module</th>\n",
       "      <th>code_presentation</th>\n",
       "      <th>id_assessment</th>\n",
       "      <th>assessment_type</th>\n",
       "      <th>date</th>\n",
       "      <th>weight</th>\n",
       "    </tr>\n",
       "  </thead>\n",
       "  <tbody>\n",
       "    <tr>\n",
       "      <th>0</th>\n",
       "      <td>AAA</td>\n",
       "      <td>2013J</td>\n",
       "      <td>1752</td>\n",
       "      <td>TMA</td>\n",
       "      <td>19</td>\n",
       "      <td>10.0</td>\n",
       "    </tr>\n",
       "    <tr>\n",
       "      <th>1</th>\n",
       "      <td>AAA</td>\n",
       "      <td>2013J</td>\n",
       "      <td>1753</td>\n",
       "      <td>TMA</td>\n",
       "      <td>54</td>\n",
       "      <td>20.0</td>\n",
       "    </tr>\n",
       "    <tr>\n",
       "      <th>2</th>\n",
       "      <td>AAA</td>\n",
       "      <td>2013J</td>\n",
       "      <td>1754</td>\n",
       "      <td>TMA</td>\n",
       "      <td>117</td>\n",
       "      <td>20.0</td>\n",
       "    </tr>\n",
       "    <tr>\n",
       "      <th>3</th>\n",
       "      <td>AAA</td>\n",
       "      <td>2013J</td>\n",
       "      <td>1755</td>\n",
       "      <td>TMA</td>\n",
       "      <td>166</td>\n",
       "      <td>20.0</td>\n",
       "    </tr>\n",
       "    <tr>\n",
       "      <th>4</th>\n",
       "      <td>AAA</td>\n",
       "      <td>2013J</td>\n",
       "      <td>1756</td>\n",
       "      <td>TMA</td>\n",
       "      <td>215</td>\n",
       "      <td>30.0</td>\n",
       "    </tr>\n",
       "  </tbody>\n",
       "</table>\n",
       "</div>"
      ],
      "text/plain": [
       "  code_module code_presentation  id_assessment assessment_type date  weight\n",
       "0         AAA             2013J           1752             TMA   19    10.0\n",
       "1         AAA             2013J           1753             TMA   54    20.0\n",
       "2         AAA             2013J           1754             TMA  117    20.0\n",
       "3         AAA             2013J           1755             TMA  166    20.0\n",
       "4         AAA             2013J           1756             TMA  215    30.0"
      ]
     },
     "execution_count": 3,
     "metadata": {},
     "output_type": "execute_result"
    }
   ],
   "source": [
    "print(assessment.info())\n",
    "assessment.head()"
   ]
  },
  {
   "cell_type": "markdown",
   "metadata": {},
   "source": [
    "There are no missing values, with all variables having the expected data type. This file contains the assessment details (id and type of assessment) for the modules. The documentation which came with the dataset indicated that some weights were 0, these assessments which have no impact to total score is removed from the data"
   ]
  },
  {
   "cell_type": "code",
   "execution_count": 4,
   "metadata": {
    "collapsed": true
   },
   "outputs": [],
   "source": [
    "assessment  = assessment.loc[assessment['weight']>0, :] #filter out assessments with weights greater than 0"
   ]
  },
  {
   "cell_type": "code",
   "execution_count": 5,
   "metadata": {},
   "outputs": [
    {
     "name": "stdout",
     "output_type": "stream",
     "text": [
      "<class 'pandas.core.frame.DataFrame'>\n",
      "RangeIndex: 22 entries, 0 to 21\n",
      "Data columns (total 3 columns):\n",
      "code_module                   22 non-null object\n",
      "code_presentation             22 non-null object\n",
      "module_presentation_length    22 non-null int64\n",
      "dtypes: int64(1), object(2)\n",
      "memory usage: 608.0+ bytes\n",
      "None\n"
     ]
    },
    {
     "data": {
      "text/html": [
       "<div>\n",
       "<style>\n",
       "    .dataframe thead tr:only-child th {\n",
       "        text-align: right;\n",
       "    }\n",
       "\n",
       "    .dataframe thead th {\n",
       "        text-align: left;\n",
       "    }\n",
       "\n",
       "    .dataframe tbody tr th {\n",
       "        vertical-align: top;\n",
       "    }\n",
       "</style>\n",
       "<table border=\"1\" class=\"dataframe\">\n",
       "  <thead>\n",
       "    <tr style=\"text-align: right;\">\n",
       "      <th></th>\n",
       "      <th>code_module</th>\n",
       "      <th>code_presentation</th>\n",
       "      <th>module_presentation_length</th>\n",
       "    </tr>\n",
       "  </thead>\n",
       "  <tbody>\n",
       "    <tr>\n",
       "      <th>0</th>\n",
       "      <td>AAA</td>\n",
       "      <td>2013J</td>\n",
       "      <td>268</td>\n",
       "    </tr>\n",
       "    <tr>\n",
       "      <th>1</th>\n",
       "      <td>AAA</td>\n",
       "      <td>2014J</td>\n",
       "      <td>269</td>\n",
       "    </tr>\n",
       "    <tr>\n",
       "      <th>2</th>\n",
       "      <td>BBB</td>\n",
       "      <td>2013J</td>\n",
       "      <td>268</td>\n",
       "    </tr>\n",
       "    <tr>\n",
       "      <th>3</th>\n",
       "      <td>BBB</td>\n",
       "      <td>2014J</td>\n",
       "      <td>262</td>\n",
       "    </tr>\n",
       "    <tr>\n",
       "      <th>4</th>\n",
       "      <td>BBB</td>\n",
       "      <td>2013B</td>\n",
       "      <td>240</td>\n",
       "    </tr>\n",
       "  </tbody>\n",
       "</table>\n",
       "</div>"
      ],
      "text/plain": [
       "  code_module code_presentation  module_presentation_length\n",
       "0         AAA             2013J                         268\n",
       "1         AAA             2014J                         269\n",
       "2         BBB             2013J                         268\n",
       "3         BBB             2014J                         262\n",
       "4         BBB             2013B                         240"
      ]
     },
     "execution_count": 5,
     "metadata": {},
     "output_type": "execute_result"
    }
   ],
   "source": [
    "print(courses.info())\n",
    "courses.head()"
   ]
  },
  {
   "cell_type": "markdown",
   "metadata": {},
   "source": [
    "This file contains the courses ran for each year, with B and J indicating a February and October start respectively.  No missing, with all variables having the expected data type."
   ]
  },
  {
   "cell_type": "code",
   "execution_count": 65,
   "metadata": {
    "scrolled": true
   },
   "outputs": [
    {
     "name": "stdout",
     "output_type": "stream",
     "text": [
      "<class 'pandas.core.frame.DataFrame'>\n",
      "RangeIndex: 32593 entries, 0 to 32592\n",
      "Data columns (total 12 columns):\n",
      "code_module             32593 non-null object\n",
      "code_presentation       32593 non-null object\n",
      "id_student              32593 non-null int64\n",
      "gender                  32593 non-null object\n",
      "region                  32593 non-null object\n",
      "highest_education       32593 non-null object\n",
      "imd_band                31482 non-null object\n",
      "age_band                32593 non-null object\n",
      "num_of_prev_attempts    32593 non-null int64\n",
      "studied_credits         32593 non-null int64\n",
      "disability              32593 non-null object\n",
      "final_result            32593 non-null object\n",
      "dtypes: int64(3), object(9)\n",
      "memory usage: 3.0+ MB\n",
      "None\n"
     ]
    },
    {
     "data": {
      "text/html": [
       "<div>\n",
       "<style>\n",
       "    .dataframe thead tr:only-child th {\n",
       "        text-align: right;\n",
       "    }\n",
       "\n",
       "    .dataframe thead th {\n",
       "        text-align: left;\n",
       "    }\n",
       "\n",
       "    .dataframe tbody tr th {\n",
       "        vertical-align: top;\n",
       "    }\n",
       "</style>\n",
       "<table border=\"1\" class=\"dataframe\">\n",
       "  <thead>\n",
       "    <tr style=\"text-align: right;\">\n",
       "      <th></th>\n",
       "      <th>code_module</th>\n",
       "      <th>code_presentation</th>\n",
       "      <th>id_student</th>\n",
       "      <th>gender</th>\n",
       "      <th>region</th>\n",
       "      <th>highest_education</th>\n",
       "      <th>imd_band</th>\n",
       "      <th>age_band</th>\n",
       "      <th>num_of_prev_attempts</th>\n",
       "      <th>studied_credits</th>\n",
       "      <th>disability</th>\n",
       "      <th>final_result</th>\n",
       "    </tr>\n",
       "  </thead>\n",
       "  <tbody>\n",
       "    <tr>\n",
       "      <th>0</th>\n",
       "      <td>AAA</td>\n",
       "      <td>2013J</td>\n",
       "      <td>11391</td>\n",
       "      <td>M</td>\n",
       "      <td>England</td>\n",
       "      <td>HE Qualification</td>\n",
       "      <td>90-100%</td>\n",
       "      <td>55&lt;=</td>\n",
       "      <td>0</td>\n",
       "      <td>240</td>\n",
       "      <td>N</td>\n",
       "      <td>Pass</td>\n",
       "    </tr>\n",
       "    <tr>\n",
       "      <th>1</th>\n",
       "      <td>AAA</td>\n",
       "      <td>2013J</td>\n",
       "      <td>28400</td>\n",
       "      <td>F</td>\n",
       "      <td>Scotland</td>\n",
       "      <td>HE Qualification</td>\n",
       "      <td>20-30%</td>\n",
       "      <td>35-55</td>\n",
       "      <td>0</td>\n",
       "      <td>60</td>\n",
       "      <td>N</td>\n",
       "      <td>Pass</td>\n",
       "    </tr>\n",
       "    <tr>\n",
       "      <th>2</th>\n",
       "      <td>AAA</td>\n",
       "      <td>2013J</td>\n",
       "      <td>30268</td>\n",
       "      <td>F</td>\n",
       "      <td>England</td>\n",
       "      <td>A Level or Equivalent</td>\n",
       "      <td>30-40%</td>\n",
       "      <td>35-55</td>\n",
       "      <td>0</td>\n",
       "      <td>60</td>\n",
       "      <td>Y</td>\n",
       "      <td>Withdrawn</td>\n",
       "    </tr>\n",
       "    <tr>\n",
       "      <th>3</th>\n",
       "      <td>AAA</td>\n",
       "      <td>2013J</td>\n",
       "      <td>31604</td>\n",
       "      <td>F</td>\n",
       "      <td>England</td>\n",
       "      <td>A Level or Equivalent</td>\n",
       "      <td>50-60%</td>\n",
       "      <td>35-55</td>\n",
       "      <td>0</td>\n",
       "      <td>60</td>\n",
       "      <td>N</td>\n",
       "      <td>Pass</td>\n",
       "    </tr>\n",
       "    <tr>\n",
       "      <th>4</th>\n",
       "      <td>AAA</td>\n",
       "      <td>2013J</td>\n",
       "      <td>32885</td>\n",
       "      <td>F</td>\n",
       "      <td>England</td>\n",
       "      <td>Lower Than A Level</td>\n",
       "      <td>50-60%</td>\n",
       "      <td>0-35</td>\n",
       "      <td>0</td>\n",
       "      <td>60</td>\n",
       "      <td>N</td>\n",
       "      <td>Pass</td>\n",
       "    </tr>\n",
       "  </tbody>\n",
       "</table>\n",
       "</div>"
      ],
      "text/plain": [
       "  code_module code_presentation  id_student gender    region  \\\n",
       "0         AAA             2013J       11391      M   England   \n",
       "1         AAA             2013J       28400      F  Scotland   \n",
       "2         AAA             2013J       30268      F   England   \n",
       "3         AAA             2013J       31604      F   England   \n",
       "4         AAA             2013J       32885      F   England   \n",
       "\n",
       "       highest_education imd_band age_band  num_of_prev_attempts  \\\n",
       "0       HE Qualification  90-100%     55<=                     0   \n",
       "1       HE Qualification   20-30%    35-55                     0   \n",
       "2  A Level or Equivalent   30-40%    35-55                     0   \n",
       "3  A Level or Equivalent   50-60%    35-55                     0   \n",
       "4     Lower Than A Level   50-60%     0-35                     0   \n",
       "\n",
       "   studied_credits disability final_result  \n",
       "0              240          N         Pass  \n",
       "1               60          N         Pass  \n",
       "2               60          Y    Withdrawn  \n",
       "3               60          N         Pass  \n",
       "4               60          N         Pass  "
      ]
     },
     "execution_count": 65,
     "metadata": {},
     "output_type": "execute_result"
    }
   ],
   "source": [
    "print(studentInfo.info())\n",
    "studentInfo.head()"
   ]
  },
  {
   "cell_type": "markdown",
   "metadata": {
    "collapsed": true
   },
   "source": [
    "Above shows age group 55<=, this should actually be 55>="
   ]
  },
  {
   "cell_type": "code",
   "execution_count": 66,
   "metadata": {
    "collapsed": true
   },
   "outputs": [],
   "source": [
    "studentInfo = studentInfo.replace('55<=', '55>=') #replaces wrong age_band"
   ]
  },
  {
   "cell_type": "markdown",
   "metadata": {},
   "source": [
    "This dataset contains student demographic information plus details on course and outcome of each students. Ideally, this should contain unique students only. To check the _.unique_ call is used "
   ]
  },
  {
   "cell_type": "code",
   "execution_count": 67,
   "metadata": {},
   "outputs": [
    {
     "data": {
      "text/plain": [
       "(28785,)"
      ]
     },
     "execution_count": 67,
     "metadata": {},
     "output_type": "execute_result"
    }
   ],
   "source": [
    "(studentInfo['id_student'].unique()).shape #prints out the length of unique ids"
   ]
  },
  {
   "cell_type": "markdown",
   "metadata": {},
   "source": [
    "Though, there is 32,593 rows in student info, some are duplicates with 28,785 being unique. To deal with this appropiately, it is necessary to view the duplicate instances and check whether if there are inconsistencies or redundant data. As Chen et al.(2017) states that it is valuable to understand the extent and kind of duplication, and to have methods for managing it."
   ]
  },
  {
   "cell_type": "code",
   "execution_count": 10,
   "metadata": {},
   "outputs": [
    {
     "name": "stdout",
     "output_type": "stream",
     "text": [
      "(3808,)\n"
     ]
    },
    {
     "data": {
      "text/plain": [
       "array([ 65002,  94961, 129955, ..., 624767, 627812, 631446], dtype=int64)"
      ]
     },
     "execution_count": 10,
     "metadata": {},
     "output_type": "execute_result"
    }
   ],
   "source": [
    "info_ids = pd.Series(studentInfo['id_student']) #make series of unique ids in the studentinfo data\n",
    "duplicates = info_ids[info_ids.duplicated()].values #using .duplicated, get the index of these duplicated ids \n",
    "                                                    #and return the values\n",
    "print(duplicates.shape) #checking this gets the right length (32593 - 28785 = 3808)\n",
    "duplicates"
   ]
  },
  {
   "cell_type": "code",
   "execution_count": 11,
   "metadata": {},
   "outputs": [
    {
     "data": {
      "text/html": [
       "<div>\n",
       "<style>\n",
       "    .dataframe thead tr:only-child th {\n",
       "        text-align: right;\n",
       "    }\n",
       "\n",
       "    .dataframe thead th {\n",
       "        text-align: left;\n",
       "    }\n",
       "\n",
       "    .dataframe tbody tr th {\n",
       "        vertical-align: top;\n",
       "    }\n",
       "</style>\n",
       "<table border=\"1\" class=\"dataframe\">\n",
       "  <thead>\n",
       "    <tr style=\"text-align: right;\">\n",
       "      <th></th>\n",
       "      <th>code_module</th>\n",
       "      <th>code_presentation</th>\n",
       "      <th>id_student</th>\n",
       "      <th>gender</th>\n",
       "      <th>region</th>\n",
       "      <th>highest_education</th>\n",
       "      <th>imd_band</th>\n",
       "      <th>age_band</th>\n",
       "      <th>num_of_prev_attempts</th>\n",
       "      <th>studied_credits</th>\n",
       "      <th>disability</th>\n",
       "      <th>final_result</th>\n",
       "    </tr>\n",
       "  </thead>\n",
       "  <tbody>\n",
       "    <tr>\n",
       "      <th>15</th>\n",
       "      <td>AAA</td>\n",
       "      <td>2013J</td>\n",
       "      <td>65002</td>\n",
       "      <td>F</td>\n",
       "      <td>England</td>\n",
       "      <td>A Level or Equivalent</td>\n",
       "      <td>70-80%</td>\n",
       "      <td>0-35</td>\n",
       "      <td>0</td>\n",
       "      <td>60</td>\n",
       "      <td>N</td>\n",
       "      <td>Withdrawn</td>\n",
       "    </tr>\n",
       "    <tr>\n",
       "      <th>395</th>\n",
       "      <td>AAA</td>\n",
       "      <td>2014J</td>\n",
       "      <td>65002</td>\n",
       "      <td>F</td>\n",
       "      <td>England</td>\n",
       "      <td>A Level or Equivalent</td>\n",
       "      <td>70-80%</td>\n",
       "      <td>0-35</td>\n",
       "      <td>1</td>\n",
       "      <td>60</td>\n",
       "      <td>N</td>\n",
       "      <td>Fail</td>\n",
       "    </tr>\n",
       "  </tbody>\n",
       "</table>\n",
       "</div>"
      ],
      "text/plain": [
       "    code_module code_presentation  id_student gender   region  \\\n",
       "15          AAA             2013J       65002      F  England   \n",
       "395         AAA             2014J       65002      F  England   \n",
       "\n",
       "         highest_education imd_band age_band  num_of_prev_attempts  \\\n",
       "15   A Level or Equivalent   70-80%     0-35                     0   \n",
       "395  A Level or Equivalent   70-80%     0-35                     1   \n",
       "\n",
       "     studied_credits disability final_result  \n",
       "15                60          N    Withdrawn  \n",
       "395               60          N         Fail  "
      ]
     },
     "execution_count": 11,
     "metadata": {},
     "output_type": "execute_result"
    }
   ],
   "source": [
    "#filter out a student and print the duplicates\n",
    "studentInfo.loc[studentInfo['id_student']==65002, :] "
   ]
  },
  {
   "cell_type": "markdown",
   "metadata": {},
   "source": [
    "With student 65002, it can be seen that this student registered again for the same module in 2014 after withdrawing in 2013.\n",
    "Checking another student - 627812"
   ]
  },
  {
   "cell_type": "code",
   "execution_count": 12,
   "metadata": {},
   "outputs": [
    {
     "data": {
      "text/html": [
       "<div>\n",
       "<style>\n",
       "    .dataframe thead tr:only-child th {\n",
       "        text-align: right;\n",
       "    }\n",
       "\n",
       "    .dataframe thead th {\n",
       "        text-align: left;\n",
       "    }\n",
       "\n",
       "    .dataframe tbody tr th {\n",
       "        vertical-align: top;\n",
       "    }\n",
       "</style>\n",
       "<table border=\"1\" class=\"dataframe\">\n",
       "  <thead>\n",
       "    <tr style=\"text-align: right;\">\n",
       "      <th></th>\n",
       "      <th>code_module</th>\n",
       "      <th>code_presentation</th>\n",
       "      <th>id_student</th>\n",
       "      <th>gender</th>\n",
       "      <th>region</th>\n",
       "      <th>highest_education</th>\n",
       "      <th>imd_band</th>\n",
       "      <th>age_band</th>\n",
       "      <th>num_of_prev_attempts</th>\n",
       "      <th>studied_credits</th>\n",
       "      <th>disability</th>\n",
       "      <th>final_result</th>\n",
       "    </tr>\n",
       "  </thead>\n",
       "  <tbody>\n",
       "    <tr>\n",
       "      <th>31581</th>\n",
       "      <td>GGG</td>\n",
       "      <td>2014B</td>\n",
       "      <td>627812</td>\n",
       "      <td>F</td>\n",
       "      <td>England</td>\n",
       "      <td>Lower Than A Level</td>\n",
       "      <td>60-70%</td>\n",
       "      <td>0-35</td>\n",
       "      <td>0</td>\n",
       "      <td>30</td>\n",
       "      <td>N</td>\n",
       "      <td>Withdrawn</td>\n",
       "    </tr>\n",
       "    <tr>\n",
       "      <th>32003</th>\n",
       "      <td>GGG</td>\n",
       "      <td>2014J</td>\n",
       "      <td>627812</td>\n",
       "      <td>F</td>\n",
       "      <td>England</td>\n",
       "      <td>Lower Than A Level</td>\n",
       "      <td>60-70%</td>\n",
       "      <td>0-35</td>\n",
       "      <td>1</td>\n",
       "      <td>30</td>\n",
       "      <td>N</td>\n",
       "      <td>Distinction</td>\n",
       "    </tr>\n",
       "  </tbody>\n",
       "</table>\n",
       "</div>"
      ],
      "text/plain": [
       "      code_module code_presentation  id_student gender   region  \\\n",
       "31581         GGG             2014B      627812      F  England   \n",
       "32003         GGG             2014J      627812      F  England   \n",
       "\n",
       "        highest_education imd_band age_band  num_of_prev_attempts  \\\n",
       "31581  Lower Than A Level   60-70%     0-35                     0   \n",
       "32003  Lower Than A Level   60-70%     0-35                     1   \n",
       "\n",
       "       studied_credits disability final_result  \n",
       "31581               30          N    Withdrawn  \n",
       "32003               30          N  Distinction  "
      ]
     },
     "execution_count": 12,
     "metadata": {},
     "output_type": "execute_result"
    }
   ],
   "source": [
    "studentInfo.loc[studentInfo['id_student']==627812, :]"
   ]
  },
  {
   "cell_type": "markdown",
   "metadata": {},
   "source": [
    "Student 6217812 withdrew in the february module and registered for october.\n",
    "The duplicates are thus students who are re-registaring, thus the first occurence of the duplicates are to be removed. The last occurence have all the information needed."
   ]
  },
  {
   "cell_type": "code",
   "execution_count": 68,
   "metadata": {
    "collapsed": true
   },
   "outputs": [],
   "source": [
    "studentInfo = studentInfo.drop_duplicates(subset='id_student') #drops the first instance of the duplicates using drop_duplicates\n",
    "studentInfo.index = studentInfo['id_student'] #make student id index"
   ]
  },
  {
   "cell_type": "code",
   "execution_count": 14,
   "metadata": {},
   "outputs": [
    {
     "name": "stdout",
     "output_type": "stream",
     "text": [
      "<class 'pandas.core.frame.DataFrame'>\n",
      "RangeIndex: 10655280 entries, 0 to 10655279\n",
      "Data columns (total 6 columns):\n",
      "code_module          object\n",
      "code_presentation    object\n",
      "id_student           int64\n",
      "id_site              int64\n",
      "date                 int64\n",
      "sum_click            int64\n",
      "dtypes: int64(4), object(2)\n",
      "memory usage: 487.8+ MB\n",
      "None\n"
     ]
    },
    {
     "data": {
      "text/html": [
       "<div>\n",
       "<style>\n",
       "    .dataframe thead tr:only-child th {\n",
       "        text-align: right;\n",
       "    }\n",
       "\n",
       "    .dataframe thead th {\n",
       "        text-align: left;\n",
       "    }\n",
       "\n",
       "    .dataframe tbody tr th {\n",
       "        vertical-align: top;\n",
       "    }\n",
       "</style>\n",
       "<table border=\"1\" class=\"dataframe\">\n",
       "  <thead>\n",
       "    <tr style=\"text-align: right;\">\n",
       "      <th></th>\n",
       "      <th>code_module</th>\n",
       "      <th>code_presentation</th>\n",
       "      <th>id_student</th>\n",
       "      <th>id_site</th>\n",
       "      <th>date</th>\n",
       "      <th>sum_click</th>\n",
       "    </tr>\n",
       "  </thead>\n",
       "  <tbody>\n",
       "    <tr>\n",
       "      <th>0</th>\n",
       "      <td>AAA</td>\n",
       "      <td>2013J</td>\n",
       "      <td>28400</td>\n",
       "      <td>546652</td>\n",
       "      <td>-10</td>\n",
       "      <td>4</td>\n",
       "    </tr>\n",
       "    <tr>\n",
       "      <th>1</th>\n",
       "      <td>AAA</td>\n",
       "      <td>2013J</td>\n",
       "      <td>28400</td>\n",
       "      <td>546652</td>\n",
       "      <td>-10</td>\n",
       "      <td>1</td>\n",
       "    </tr>\n",
       "    <tr>\n",
       "      <th>2</th>\n",
       "      <td>AAA</td>\n",
       "      <td>2013J</td>\n",
       "      <td>28400</td>\n",
       "      <td>546652</td>\n",
       "      <td>-10</td>\n",
       "      <td>1</td>\n",
       "    </tr>\n",
       "    <tr>\n",
       "      <th>3</th>\n",
       "      <td>AAA</td>\n",
       "      <td>2013J</td>\n",
       "      <td>28400</td>\n",
       "      <td>546614</td>\n",
       "      <td>-10</td>\n",
       "      <td>11</td>\n",
       "    </tr>\n",
       "    <tr>\n",
       "      <th>4</th>\n",
       "      <td>AAA</td>\n",
       "      <td>2013J</td>\n",
       "      <td>28400</td>\n",
       "      <td>546714</td>\n",
       "      <td>-10</td>\n",
       "      <td>1</td>\n",
       "    </tr>\n",
       "  </tbody>\n",
       "</table>\n",
       "</div>"
      ],
      "text/plain": [
       "  code_module code_presentation  id_student  id_site  date  sum_click\n",
       "0         AAA             2013J       28400   546652   -10          4\n",
       "1         AAA             2013J       28400   546652   -10          1\n",
       "2         AAA             2013J       28400   546652   -10          1\n",
       "3         AAA             2013J       28400   546614   -10         11\n",
       "4         AAA             2013J       28400   546714   -10          1"
      ]
     },
     "execution_count": 14,
     "metadata": {},
     "output_type": "execute_result"
    }
   ],
   "source": [
    "print(studentVle.info())\n",
    "studentVle.head()"
   ]
  },
  {
   "cell_type": "markdown",
   "metadata": {},
   "source": [
    "All variables of the appropiate data type. This contains the sum of click with a modules material in a day"
   ]
  },
  {
   "cell_type": "code",
   "execution_count": 15,
   "metadata": {},
   "outputs": [
    {
     "name": "stdout",
     "output_type": "stream",
     "text": [
      "<class 'pandas.core.frame.DataFrame'>\n",
      "RangeIndex: 173912 entries, 0 to 173911\n",
      "Data columns (total 5 columns):\n",
      "id_assessment     173912 non-null int64\n",
      "id_student        173912 non-null int64\n",
      "date_submitted    173912 non-null int64\n",
      "is_banked         173912 non-null int64\n",
      "score             173912 non-null object\n",
      "dtypes: int64(4), object(1)\n",
      "memory usage: 6.6+ MB\n",
      "None\n"
     ]
    },
    {
     "data": {
      "text/html": [
       "<div>\n",
       "<style>\n",
       "    .dataframe thead tr:only-child th {\n",
       "        text-align: right;\n",
       "    }\n",
       "\n",
       "    .dataframe thead th {\n",
       "        text-align: left;\n",
       "    }\n",
       "\n",
       "    .dataframe tbody tr th {\n",
       "        vertical-align: top;\n",
       "    }\n",
       "</style>\n",
       "<table border=\"1\" class=\"dataframe\">\n",
       "  <thead>\n",
       "    <tr style=\"text-align: right;\">\n",
       "      <th></th>\n",
       "      <th>id_assessment</th>\n",
       "      <th>id_student</th>\n",
       "      <th>date_submitted</th>\n",
       "      <th>is_banked</th>\n",
       "      <th>score</th>\n",
       "    </tr>\n",
       "  </thead>\n",
       "  <tbody>\n",
       "    <tr>\n",
       "      <th>0</th>\n",
       "      <td>1752</td>\n",
       "      <td>11391</td>\n",
       "      <td>18</td>\n",
       "      <td>0</td>\n",
       "      <td>78</td>\n",
       "    </tr>\n",
       "    <tr>\n",
       "      <th>1</th>\n",
       "      <td>1752</td>\n",
       "      <td>28400</td>\n",
       "      <td>22</td>\n",
       "      <td>0</td>\n",
       "      <td>70</td>\n",
       "    </tr>\n",
       "    <tr>\n",
       "      <th>2</th>\n",
       "      <td>1752</td>\n",
       "      <td>31604</td>\n",
       "      <td>17</td>\n",
       "      <td>0</td>\n",
       "      <td>72</td>\n",
       "    </tr>\n",
       "    <tr>\n",
       "      <th>3</th>\n",
       "      <td>1752</td>\n",
       "      <td>32885</td>\n",
       "      <td>26</td>\n",
       "      <td>0</td>\n",
       "      <td>69</td>\n",
       "    </tr>\n",
       "    <tr>\n",
       "      <th>4</th>\n",
       "      <td>1752</td>\n",
       "      <td>38053</td>\n",
       "      <td>19</td>\n",
       "      <td>0</td>\n",
       "      <td>79</td>\n",
       "    </tr>\n",
       "  </tbody>\n",
       "</table>\n",
       "</div>"
      ],
      "text/plain": [
       "   id_assessment  id_student  date_submitted  is_banked score\n",
       "0           1752       11391              18          0    78\n",
       "1           1752       28400              22          0    70\n",
       "2           1752       31604              17          0    72\n",
       "3           1752       32885              26          0    69\n",
       "4           1752       38053              19          0    79"
      ]
     },
     "execution_count": 15,
     "metadata": {},
     "output_type": "execute_result"
    }
   ],
   "source": [
    "print(studentAssessment.info())\n",
    "studentAssessment.head()"
   ]
  },
  {
   "cell_type": "markdown",
   "metadata": {},
   "source": [
    "The above step reveals that 'score' is type _object_ instead of _int/float_. In a attempt of converting to numeric, a ValueError: Unable to parse '?' was produced, thus the step to replace ? to 0 is made prior to conversion."
   ]
  },
  {
   "cell_type": "code",
   "execution_count": 16,
   "metadata": {
    "scrolled": true
   },
   "outputs": [
    {
     "name": "stdout",
     "output_type": "stream",
     "text": [
      "<class 'pandas.core.frame.DataFrame'>\n",
      "RangeIndex: 173912 entries, 0 to 173911\n",
      "Data columns (total 5 columns):\n",
      "id_assessment     173912 non-null int64\n",
      "id_student        173912 non-null int64\n",
      "date_submitted    173912 non-null int64\n",
      "is_banked         173912 non-null int64\n",
      "score             173912 non-null int64\n",
      "dtypes: int64(5)\n",
      "memory usage: 6.6 MB\n",
      "None\n"
     ]
    }
   ],
   "source": [
    "#replace '?' to 0. \n",
    "studentAssessment = studentAssessment.replace('?', '0')\n",
    "#convert to numerics\n",
    "studentAssessment['score'] = pd.to_numeric(studentAssessment['score'])\n",
    "#check data type again\n",
    "print(studentAssessment.info())"
   ]
  },
  {
   "cell_type": "markdown",
   "metadata": {},
   "source": [
    "With the datasets cleaned and ready for analysis, studentAssessment(contains scores) is merged to assessment (contain assessment details) before further analysis is carried out."
   ]
  },
  {
   "cell_type": "code",
   "execution_count": 17,
   "metadata": {},
   "outputs": [
    {
     "data": {
      "text/html": [
       "<div>\n",
       "<style>\n",
       "    .dataframe thead tr:only-child th {\n",
       "        text-align: right;\n",
       "    }\n",
       "\n",
       "    .dataframe thead th {\n",
       "        text-align: left;\n",
       "    }\n",
       "\n",
       "    .dataframe tbody tr th {\n",
       "        vertical-align: top;\n",
       "    }\n",
       "</style>\n",
       "<table border=\"1\" class=\"dataframe\">\n",
       "  <thead>\n",
       "    <tr style=\"text-align: right;\">\n",
       "      <th></th>\n",
       "      <th>id_assessment</th>\n",
       "      <th>id_student</th>\n",
       "      <th>date_submitted</th>\n",
       "      <th>is_banked</th>\n",
       "      <th>score</th>\n",
       "      <th>code_module</th>\n",
       "      <th>code_presentation</th>\n",
       "      <th>assessment_type</th>\n",
       "      <th>date</th>\n",
       "      <th>weight</th>\n",
       "    </tr>\n",
       "  </thead>\n",
       "  <tbody>\n",
       "    <tr>\n",
       "      <th>0</th>\n",
       "      <td>1752</td>\n",
       "      <td>11391</td>\n",
       "      <td>18</td>\n",
       "      <td>0</td>\n",
       "      <td>78</td>\n",
       "      <td>AAA</td>\n",
       "      <td>2013J</td>\n",
       "      <td>TMA</td>\n",
       "      <td>19</td>\n",
       "      <td>10.0</td>\n",
       "    </tr>\n",
       "    <tr>\n",
       "      <th>1</th>\n",
       "      <td>1752</td>\n",
       "      <td>28400</td>\n",
       "      <td>22</td>\n",
       "      <td>0</td>\n",
       "      <td>70</td>\n",
       "      <td>AAA</td>\n",
       "      <td>2013J</td>\n",
       "      <td>TMA</td>\n",
       "      <td>19</td>\n",
       "      <td>10.0</td>\n",
       "    </tr>\n",
       "    <tr>\n",
       "      <th>2</th>\n",
       "      <td>1752</td>\n",
       "      <td>31604</td>\n",
       "      <td>17</td>\n",
       "      <td>0</td>\n",
       "      <td>72</td>\n",
       "      <td>AAA</td>\n",
       "      <td>2013J</td>\n",
       "      <td>TMA</td>\n",
       "      <td>19</td>\n",
       "      <td>10.0</td>\n",
       "    </tr>\n",
       "    <tr>\n",
       "      <th>3</th>\n",
       "      <td>1752</td>\n",
       "      <td>32885</td>\n",
       "      <td>26</td>\n",
       "      <td>0</td>\n",
       "      <td>69</td>\n",
       "      <td>AAA</td>\n",
       "      <td>2013J</td>\n",
       "      <td>TMA</td>\n",
       "      <td>19</td>\n",
       "      <td>10.0</td>\n",
       "    </tr>\n",
       "    <tr>\n",
       "      <th>4</th>\n",
       "      <td>1752</td>\n",
       "      <td>38053</td>\n",
       "      <td>19</td>\n",
       "      <td>0</td>\n",
       "      <td>79</td>\n",
       "      <td>AAA</td>\n",
       "      <td>2013J</td>\n",
       "      <td>TMA</td>\n",
       "      <td>19</td>\n",
       "      <td>10.0</td>\n",
       "    </tr>\n",
       "  </tbody>\n",
       "</table>\n",
       "</div>"
      ],
      "text/plain": [
       "   id_assessment  id_student  date_submitted  is_banked  score code_module  \\\n",
       "0           1752       11391              18          0     78         AAA   \n",
       "1           1752       28400              22          0     70         AAA   \n",
       "2           1752       31604              17          0     72         AAA   \n",
       "3           1752       32885              26          0     69         AAA   \n",
       "4           1752       38053              19          0     79         AAA   \n",
       "\n",
       "  code_presentation assessment_type date  weight  \n",
       "0             2013J             TMA   19    10.0  \n",
       "1             2013J             TMA   19    10.0  \n",
       "2             2013J             TMA   19    10.0  \n",
       "3             2013J             TMA   19    10.0  \n",
       "4             2013J             TMA   19    10.0  "
      ]
     },
     "execution_count": 17,
     "metadata": {},
     "output_type": "execute_result"
    }
   ],
   "source": [
    "#Merge datasets assessment to studentAssessment\n",
    "assessment_activity = pd.merge(studentAssessment, assessment) #.merge is used, it uses the common identifier 'id_assessment'\n",
    "assessment_activity.head()"
   ]
  },
  {
   "cell_type": "code",
   "execution_count": 18,
   "metadata": {},
   "outputs": [
    {
     "data": {
      "text/plain": [
       "(21099,)"
      ]
     },
     "execution_count": 18,
     "metadata": {},
     "output_type": "execute_result"
    }
   ],
   "source": [
    "(assessment_activity['id_student'].unique()).shape"
   ]
  },
  {
   "cell_type": "markdown",
   "metadata": {},
   "source": [
    "There exists 21099 students who have assessments scores. The final dataset would therefore have students equal to or less than this."
   ]
  },
  {
   "cell_type": "markdown",
   "metadata": {},
   "source": [
    "### Feature Generation"
   ]
  },
  {
   "cell_type": "markdown",
   "metadata": {},
   "source": [
    "Given that one of the aims of this work is to predict the contionus variable final scores of students, because the dataset contains scores for a number of assessments for each students, a method is created to compute the final scores. This takes into account the weights (exam = 100, Tutor Marked Assessment(TMA) and Computer Marked Assessment (CMA) = 100) of each assessment type and standardises these scores to the range of 0-100.\n",
    "\n",
    "Exploring the dataset, it was identified that different modules administered the assessments differently\n",
    "1. Module GGG (only TMA and CMA) adding up to 100\n",
    "2. Module CCC (2 exams, TMA and CMA) adding up to 300 and \n",
    "3. All other modules adding up to 200 (an exam, TMA and CMA)\n",
    "\n",
    "The scoring method thus takes above into account.\n",
    "\n",
    "In distance education, where students interact with learning materials on a VLE, machine-learning methods can be applied to combined sources of student data to predict students performace (Wolff et al., 2013) \n",
    "With interaction with the VLE probably having an impact on the final grades of students, a feature which represents this is needed. To do so the studentVLE dataset is used to calculate the total sum of click for each student throughout the period covered in dataset (2013 and 2014)"
   ]
  },
  {
   "cell_type": "code",
   "execution_count": 19,
   "metadata": {
    "collapsed": true
   },
   "outputs": [],
   "source": [
    "#First, an id list of unique ids in assessment_activity dataset is obtained\n",
    "ids = assessment_activity['id_student'].unique() #create a list of unique student ids\n",
    "#then, to apply weight divide it by 100\n",
    "assessment_activity['weight'] = assessment_activity['weight']/100 "
   ]
  },
  {
   "cell_type": "code",
   "execution_count": 20,
   "metadata": {
    "collapsed": true
   },
   "outputs": [],
   "source": [
    "#Method 1.\n",
    "#create a method that loops through each student collecting score gained in all assessments required and calculates a final score\n",
    "def total_score(id): #method name is total_score\n",
    "    data = assessment_activity.loc[assessment_activity['id_student']==id, :] #data for each student is filtered out\n",
    "    score = data['score'].dot(data['weight']) #the scores are then multiplied with weight and add up using .dot\n",
    "    #the scores are return after standardisation\n",
    "    if any(assessment_activity['assessment_type']=='CCC'):\n",
    "        score = score/3\n",
    "    elif any(assessment_activity['assessment_type']=='GGG'):\n",
    "        score = score/1\n",
    "    else:\n",
    "        score = score/2\n",
    "    return score"
   ]
  },
  {
   "cell_type": "code",
   "execution_count": 21,
   "metadata": {
    "collapsed": true
   },
   "outputs": [],
   "source": [
    "#Method 2.\n",
    "#get sum of clicks for students present in the prepared data above\n",
    "def sum_click(id):\n",
    "    df = studentVle.loc[studentVle['id_student']==id, :]\n",
    "    total_click = df['sum_click'].sum()\n",
    "    return total_click"
   ]
  },
  {
   "cell_type": "code",
   "execution_count": 22,
   "metadata": {
    "collapsed": true
   },
   "outputs": [],
   "source": [
    "#implement the total_score method\n",
    "scores = [] #create an empty list\n",
    "for id in ids: #and for all id in the ids list, apply the total_score method\n",
    "    score = total_score(id)\n",
    "    scores.append(score) #append all score to the scores list"
   ]
  },
  {
   "cell_type": "code",
   "execution_count": 23,
   "metadata": {},
   "outputs": [
    {
     "data": {
      "text/html": [
       "<div>\n",
       "<style>\n",
       "    .dataframe thead tr:only-child th {\n",
       "        text-align: right;\n",
       "    }\n",
       "\n",
       "    .dataframe thead th {\n",
       "        text-align: left;\n",
       "    }\n",
       "\n",
       "    .dataframe tbody tr th {\n",
       "        vertical-align: top;\n",
       "    }\n",
       "</style>\n",
       "<table border=\"1\" class=\"dataframe\">\n",
       "  <thead>\n",
       "    <tr style=\"text-align: right;\">\n",
       "      <th></th>\n",
       "      <th>id_student</th>\n",
       "      <th>total_score</th>\n",
       "    </tr>\n",
       "  </thead>\n",
       "  <tbody>\n",
       "    <tr>\n",
       "      <th>0</th>\n",
       "      <td>11391</td>\n",
       "      <td>41.20</td>\n",
       "    </tr>\n",
       "    <tr>\n",
       "      <th>1</th>\n",
       "      <td>28400</td>\n",
       "      <td>32.70</td>\n",
       "    </tr>\n",
       "    <tr>\n",
       "      <th>2</th>\n",
       "      <td>31604</td>\n",
       "      <td>38.15</td>\n",
       "    </tr>\n",
       "    <tr>\n",
       "      <th>3</th>\n",
       "      <td>32885</td>\n",
       "      <td>27.50</td>\n",
       "    </tr>\n",
       "    <tr>\n",
       "      <th>4</th>\n",
       "      <td>38053</td>\n",
       "      <td>33.45</td>\n",
       "    </tr>\n",
       "  </tbody>\n",
       "</table>\n",
       "</div>"
      ],
      "text/plain": [
       "   id_student  total_score\n",
       "0       11391        41.20\n",
       "1       28400        32.70\n",
       "2       31604        38.15\n",
       "3       32885        27.50\n",
       "4       38053        33.45"
      ]
     },
     "execution_count": 23,
     "metadata": {},
     "output_type": "execute_result"
    }
   ],
   "source": [
    "#Create a dataframe of the scores calculated\n",
    "scores = pd.DataFrame(scores) #turn the scores list to a dataframe\n",
    "scores.columns = ['total_score'] #name column\n",
    "\n",
    "ids = pd.DataFrame(ids) \n",
    "ids.columns = ['id_student'] \n",
    "\n",
    "score = pd.DataFrame(ids.join(scores)) #join the ids to the scores\n",
    "score.head()"
   ]
  },
  {
   "cell_type": "code",
   "execution_count": 24,
   "metadata": {},
   "outputs": [
    {
     "data": {
      "image/png": "iVBORw0KGgoAAAANSUhEUgAAAYQAAAD8CAYAAAB3u9PLAAAABHNCSVQICAgIfAhkiAAAAAlwSFlz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\nREQA+P8BNhxThGae7+AAAAAASUVORK5CYII=\n",
      "text/plain": [
       "<matplotlib.figure.Figure at 0x1be4d80a3c8>"
      ]
     },
     "metadata": {},
     "output_type": "display_data"
    }
   ],
   "source": [
    "sns.kdeplot(score['total_score'], shade=True); #using seaborn generate a density plot of scores,"
   ]
  },
  {
   "cell_type": "markdown",
   "metadata": {},
   "source": [
    "Regardless of the common pattern identified above and implemented in the code, plotting the computed scores show some scores greater than 100. These students were excluded to further analysis for this paper,these are probably from resiting students. For future work, this required further investigation on the most appropiate way to calculate the total scores. Further down, the scores produced here would be validated by comparing to the pass/fail/distiction labels provided for each student."
   ]
  },
  {
   "cell_type": "code",
   "execution_count": 25,
   "metadata": {
    "collapsed": true
   },
   "outputs": [],
   "source": [
    "score = score.loc[score['total_score']<=100, :] #drop all scores greater than 100"
   ]
  },
  {
   "cell_type": "code",
   "execution_count": 26,
   "metadata": {
    "collapsed": true
   },
   "outputs": [],
   "source": [
    "#Implement the sum of click method\n",
    "ids1 = score['id_student'].unique() #create a list of unique student ids with scores not greater than 100\n",
    "clicks = []\n",
    "for i in ids1:\n",
    "    click = sum_click(i)\n",
    "    clicks.append(click)"
   ]
  },
  {
   "cell_type": "code",
   "execution_count": 27,
   "metadata": {
    "scrolled": true
   },
   "outputs": [
    {
     "data": {
      "text/html": [
       "<div>\n",
       "<style>\n",
       "    .dataframe thead tr:only-child th {\n",
       "        text-align: right;\n",
       "    }\n",
       "\n",
       "    .dataframe thead th {\n",
       "        text-align: left;\n",
       "    }\n",
       "\n",
       "    .dataframe tbody tr th {\n",
       "        vertical-align: top;\n",
       "    }\n",
       "</style>\n",
       "<table border=\"1\" class=\"dataframe\">\n",
       "  <thead>\n",
       "    <tr style=\"text-align: right;\">\n",
       "      <th></th>\n",
       "      <th>sum_clicks</th>\n",
       "    </tr>\n",
       "    <tr>\n",
       "      <th>id_student</th>\n",
       "      <th></th>\n",
       "    </tr>\n",
       "  </thead>\n",
       "  <tbody>\n",
       "    <tr>\n",
       "      <th>11391</th>\n",
       "      <td>934</td>\n",
       "    </tr>\n",
       "    <tr>\n",
       "      <th>28400</th>\n",
       "      <td>1435</td>\n",
       "    </tr>\n",
       "    <tr>\n",
       "      <th>31604</th>\n",
       "      <td>2158</td>\n",
       "    </tr>\n",
       "    <tr>\n",
       "      <th>32885</th>\n",
       "      <td>1034</td>\n",
       "    </tr>\n",
       "    <tr>\n",
       "      <th>38053</th>\n",
       "      <td>2445</td>\n",
       "    </tr>\n",
       "  </tbody>\n",
       "</table>\n",
       "</div>"
      ],
      "text/plain": [
       "            sum_clicks\n",
       "id_student            \n",
       "11391              934\n",
       "28400             1435\n",
       "31604             2158\n",
       "32885             1034\n",
       "38053             2445"
      ]
     },
     "execution_count": 27,
     "metadata": {},
     "output_type": "execute_result"
    }
   ],
   "source": [
    "#create a dataframe of the sum of clicks per student\n",
    "clicks = pd.DataFrame(clicks)\n",
    "clicks.columns = ['sum_clicks']\n",
    "\n",
    "ids1 = pd.DataFrame(ids1)\n",
    "ids1.columns = ['id_student']\n",
    "\n",
    "click = ids1.join(clicks)\n",
    "click.index = click['id_student']\n",
    "click.drop(click.columns[0], axis=1, inplace=True)\n",
    "click.head()"
   ]
  },
  {
   "cell_type": "code",
   "execution_count": 70,
   "metadata": {},
   "outputs": [
    {
     "data": {
      "text/html": [
       "<div>\n",
       "<style>\n",
       "    .dataframe thead tr:only-child th {\n",
       "        text-align: right;\n",
       "    }\n",
       "\n",
       "    .dataframe thead th {\n",
       "        text-align: left;\n",
       "    }\n",
       "\n",
       "    .dataframe tbody tr th {\n",
       "        vertical-align: top;\n",
       "    }\n",
       "</style>\n",
       "<table border=\"1\" class=\"dataframe\">\n",
       "  <thead>\n",
       "    <tr style=\"text-align: right;\">\n",
       "      <th></th>\n",
       "      <th>total_score</th>\n",
       "      <th>code_module</th>\n",
       "      <th>code_presentation</th>\n",
       "      <th>id_student</th>\n",
       "      <th>gender</th>\n",
       "      <th>region</th>\n",
       "      <th>highest_education</th>\n",
       "      <th>imd_band</th>\n",
       "      <th>age_band</th>\n",
       "      <th>num_of_prev_attempts</th>\n",
       "      <th>studied_credits</th>\n",
       "      <th>disability</th>\n",
       "      <th>final_result</th>\n",
       "      <th>sum_clicks</th>\n",
       "    </tr>\n",
       "    <tr>\n",
       "      <th>id_student</th>\n",
       "      <th></th>\n",
       "      <th></th>\n",
       "      <th></th>\n",
       "      <th></th>\n",
       "      <th></th>\n",
       "      <th></th>\n",
       "      <th></th>\n",
       "      <th></th>\n",
       "      <th></th>\n",
       "      <th></th>\n",
       "      <th></th>\n",
       "      <th></th>\n",
       "      <th></th>\n",
       "      <th></th>\n",
       "    </tr>\n",
       "  </thead>\n",
       "  <tbody>\n",
       "    <tr>\n",
       "      <th>11391</th>\n",
       "      <td>41.20</td>\n",
       "      <td>AAA</td>\n",
       "      <td>2013J</td>\n",
       "      <td>11391</td>\n",
       "      <td>M</td>\n",
       "      <td>England</td>\n",
       "      <td>HE Qualification</td>\n",
       "      <td>90-100%</td>\n",
       "      <td>55&gt;=</td>\n",
       "      <td>0</td>\n",
       "      <td>240</td>\n",
       "      <td>N</td>\n",
       "      <td>Pass</td>\n",
       "      <td>934</td>\n",
       "    </tr>\n",
       "    <tr>\n",
       "      <th>28400</th>\n",
       "      <td>32.70</td>\n",
       "      <td>AAA</td>\n",
       "      <td>2013J</td>\n",
       "      <td>28400</td>\n",
       "      <td>F</td>\n",
       "      <td>Scotland</td>\n",
       "      <td>HE Qualification</td>\n",
       "      <td>20-30%</td>\n",
       "      <td>35-55</td>\n",
       "      <td>0</td>\n",
       "      <td>60</td>\n",
       "      <td>N</td>\n",
       "      <td>Pass</td>\n",
       "      <td>1435</td>\n",
       "    </tr>\n",
       "    <tr>\n",
       "      <th>31604</th>\n",
       "      <td>38.15</td>\n",
       "      <td>AAA</td>\n",
       "      <td>2013J</td>\n",
       "      <td>31604</td>\n",
       "      <td>F</td>\n",
       "      <td>England</td>\n",
       "      <td>A Level or Equivalent</td>\n",
       "      <td>50-60%</td>\n",
       "      <td>35-55</td>\n",
       "      <td>0</td>\n",
       "      <td>60</td>\n",
       "      <td>N</td>\n",
       "      <td>Pass</td>\n",
       "      <td>2158</td>\n",
       "    </tr>\n",
       "    <tr>\n",
       "      <th>32885</th>\n",
       "      <td>27.50</td>\n",
       "      <td>AAA</td>\n",
       "      <td>2013J</td>\n",
       "      <td>32885</td>\n",
       "      <td>F</td>\n",
       "      <td>England</td>\n",
       "      <td>Lower Than A Level</td>\n",
       "      <td>50-60%</td>\n",
       "      <td>0-35</td>\n",
       "      <td>0</td>\n",
       "      <td>60</td>\n",
       "      <td>N</td>\n",
       "      <td>Pass</td>\n",
       "      <td>1034</td>\n",
       "    </tr>\n",
       "    <tr>\n",
       "      <th>38053</th>\n",
       "      <td>33.45</td>\n",
       "      <td>AAA</td>\n",
       "      <td>2013J</td>\n",
       "      <td>38053</td>\n",
       "      <td>M</td>\n",
       "      <td>Wales</td>\n",
       "      <td>A Level or Equivalent</td>\n",
       "      <td>80-90%</td>\n",
       "      <td>35-55</td>\n",
       "      <td>0</td>\n",
       "      <td>60</td>\n",
       "      <td>N</td>\n",
       "      <td>Pass</td>\n",
       "      <td>2445</td>\n",
       "    </tr>\n",
       "  </tbody>\n",
       "</table>\n",
       "</div>"
      ],
      "text/plain": [
       "            total_score code_module code_presentation  id_student gender  \\\n",
       "id_student                                                                 \n",
       "11391             41.20         AAA             2013J       11391      M   \n",
       "28400             32.70         AAA             2013J       28400      F   \n",
       "31604             38.15         AAA             2013J       31604      F   \n",
       "32885             27.50         AAA             2013J       32885      F   \n",
       "38053             33.45         AAA             2013J       38053      M   \n",
       "\n",
       "              region      highest_education imd_band age_band  \\\n",
       "id_student                                                      \n",
       "11391        England       HE Qualification  90-100%     55>=   \n",
       "28400       Scotland       HE Qualification   20-30%    35-55   \n",
       "31604        England  A Level or Equivalent   50-60%    35-55   \n",
       "32885        England     Lower Than A Level   50-60%     0-35   \n",
       "38053          Wales  A Level or Equivalent   80-90%    35-55   \n",
       "\n",
       "            num_of_prev_attempts  studied_credits disability final_result  \\\n",
       "id_student                                                                  \n",
       "11391                          0              240          N         Pass   \n",
       "28400                          0               60          N         Pass   \n",
       "31604                          0               60          N         Pass   \n",
       "32885                          0               60          N         Pass   \n",
       "38053                          0               60          N         Pass   \n",
       "\n",
       "            sum_clicks  \n",
       "id_student              \n",
       "11391              934  \n",
       "28400             1435  \n",
       "31604             2158  \n",
       "32885             1034  \n",
       "38053             2445  "
      ]
     },
     "execution_count": 70,
     "metadata": {},
     "output_type": "execute_result"
    }
   ],
   "source": [
    "#merge scores and click data to studentInfo dataset\n",
    "score.index = score['id_student'] #make the student id the index\n",
    "score.drop(score.columns[0], axis=1, inplace=True) #thus, drop the id column\n",
    "\n",
    "#merge score to studentInfo\n",
    "scored = pd.merge(score, studentInfo, left_index=True, right_index=True, how = 'inner')#use index as the unique id and join only \n",
    "                                                                                        #occurence in both dataset\n",
    "clicked = pd.merge(scored, click, left_index=True, right_index=True, how = 'inner')\n",
    "\n",
    "#remove all other students who have withdrawn\n",
    "final = clicked.loc[clicked['final_result'].isin(['Pass', 'Fail', 'Distinction'])]\n",
    "\n",
    "final.head()"
   ]
  },
  {
   "cell_type": "code",
   "execution_count": 71,
   "metadata": {},
   "outputs": [
    {
     "name": "stdout",
     "output_type": "stream",
     "text": [
      "<class 'pandas.core.frame.DataFrame'>\n",
      "Int64Index: 15982 entries, 11391 to 685367\n",
      "Data columns (total 14 columns):\n",
      "total_score             15982 non-null float64\n",
      "code_module             15982 non-null object\n",
      "code_presentation       15982 non-null object\n",
      "id_student              15982 non-null int64\n",
      "gender                  15982 non-null object\n",
      "region                  15982 non-null object\n",
      "highest_education       15982 non-null object\n",
      "imd_band                15295 non-null object\n",
      "age_band                15982 non-null object\n",
      "num_of_prev_attempts    15982 non-null int64\n",
      "studied_credits         15982 non-null int64\n",
      "disability              15982 non-null object\n",
      "final_result            15982 non-null object\n",
      "sum_clicks              15982 non-null int64\n",
      "dtypes: float64(1), int64(4), object(9)\n",
      "memory usage: 1.8+ MB\n",
      "None\n"
     ]
    }
   ],
   "source": [
    "#Given that was found in the studentAssessment data, I would apply a replace ? to nan in the final datasets\n",
    "final = final.replace('?', np.nan)\n",
    "\n",
    "#this would allow me check for anymore missing variable\n",
    "print(final.info())"
   ]
  },
  {
   "cell_type": "markdown",
   "metadata": {},
   "source": [
    "It was found that imd_band have some missing variables. Rows which had this were dropped. This is a convienent solution, for a much more rigourous approach, subject expert, predictive or classification methods maybe used to identify the expected value of the missing and replace with. \n",
    "With this, the dataset is now ready for further exploration and model building"
   ]
  },
  {
   "cell_type": "code",
   "execution_count": 87,
   "metadata": {},
   "outputs": [],
   "source": [
    "#drop all rows with imd missing \n",
    "final = final.dropna(how='any')\n",
    "final.to_csv('final.csv') #save created data"
   ]
  },
  {
   "cell_type": "code",
   "execution_count": 88,
   "metadata": {},
   "outputs": [
    {
     "name": "stdout",
     "output_type": "stream",
     "text": [
      "<class 'pandas.core.frame.DataFrame'>\n",
      "Int64Index: 15295 entries, 11391 to 685367\n",
      "Data columns (total 14 columns):\n",
      "total_score             15295 non-null float64\n",
      "code_module             15295 non-null object\n",
      "code_presentation       15295 non-null object\n",
      "id_student              15295 non-null int64\n",
      "gender                  15295 non-null object\n",
      "region                  15295 non-null object\n",
      "highest_education       15295 non-null object\n",
      "imd_band                15295 non-null object\n",
      "age_band                15295 non-null object\n",
      "num_of_prev_attempts    15295 non-null int64\n",
      "studied_credits         15295 non-null int64\n",
      "disability              15295 non-null object\n",
      "final_result            15295 non-null object\n",
      "sum_clicks              15295 non-null int64\n",
      "dtypes: float64(1), int64(4), object(9)\n",
      "memory usage: 1.8+ MB\n"
     ]
    }
   ],
   "source": [
    "final.info()"
   ]
  },
  {
   "cell_type": "markdown",
   "metadata": {},
   "source": [
    "The final dataset comprises of four continous varaible of total score, sum of clicks, number of previous attempts and credits studied by each student. These as well as seven categorical variables which include final results, gender, region of residence, imd band, highest education attained, age band and disability status of students would be used to build the supervised (predictive) and unsupervised (clustering) models"
   ]
  },
  {
   "cell_type": "markdown",
   "metadata": {},
   "source": [
    "## Visualization"
   ]
  },
  {
   "cell_type": "markdown",
   "metadata": {},
   "source": [
    "The nature of the variables and their relationship with each other is better understood via visualisations. This is also help to determine the distribution of variables, which guides the statistical models that can be used. Visualisations can also play a key role in identifying wrond labels, missing variables and help in further data cleaning.\n",
    "\n",
    "With the use of kernel density plots, histograms, value counts, box plots and scatter plots, the variables are explored further."
   ]
  },
  {
   "cell_type": "code",
   "execution_count": 89,
   "metadata": {},
   "outputs": [
    {
     "data": {
      "image/png": "iVBORw0KGgoAAAANSUhEUgAAAt0AAAEnCAYAAAB11v8QAAAABHNCSVQICAgIfAhkiAAAAAlwSFlz\nAAALEgAACxIB0t1+/AAAADl0RVh0U29mdHdhcmUAbWF0cGxvdGxpYiB2ZXJzaW9uIDIuMS4wLCBo\ndHRwOi8vbWF0cGxvdGxpYi5vcmcvpW3flQAAIABJREFUeJzs3Xl83VWd//HXJ/veJW3TJaVpoSwt\nLaWUgiAIlHVUqiMoy2BRxsogg8voiM6oMyoOjP6mMyqIiFVEHIoo0hGkIlBZxEJL2bqSpmmbrtma\npEmTNMnn98f9poSQtDfJ3fN+Ph73kXvP93y/33PTnH4/93PP9xxzd0REREREJHrS4t0AEREREZFU\np6BbRERERCTKFHSLiIiIiESZgm4RERERkShT0C0iIiIiEmUKukVEREREokxBt4iIiIhIlCnoFhER\nERGJMgXdIiIiScDMLjWzTWZWbma39rE928yWBdtXmVlZUD7fzF4NHq+Z2Yd77FNpZm8E21bH7t2I\nDD+WiitSjhkzxsvKyuLdDJGEsWbNmhp3HxvvdvRHfVbknXr3WTNLBzYDFwFVwMvA1e6+vkedm4DZ\n7n6jmV0FfNjdP2ZmeUC7u3eY2QTgNWBi8LoSmOfuNeG2Tf1V5J3CvcZmxKIxsVZWVsbq1frALtLN\nzLbFuw1Hoj4r8k599Nn5QLm7VwTbHwQWAut71FkI/Fvw/GHgh2Zm7t7So04OMKRsm/qryDuFe43V\n8BIREZHENwnY0eN1VVDWZx137wAagGIAMzvDzNYBbwA3BtshFID/0czWmNni/k5uZovNbLWZra6u\nro7IGxIZbhR0i4iIJD7ro6x3xrrfOu6+yt1nAqcDXzGznGD72e4+F7gM+IyZndvXyd39Hnef5+7z\nxo5N2JFqIglNQbeIiEjiqwIm93hdCuzqr46ZZQAjgLqeFdx9A9AMnBy83hX83Ac8QmgYi4hEQUqO\n6ZbEdOjQIaqqqmhtbY13U1JWTk4OpaWlZGZmxrspksTUV2NnAH32ZWC6mU0FdgJXAdf0qrMcWAS8\nCFwBPO3uHuyzI7hxcgpwAlBpZvlAmrs3Bc8vBr4ZsTcnMaM+GxtDvcYq6JaYqaqqorCwkLKyMsz6\n+hZUhsLdqa2tpaqqiqlTp8a7OZLE1FdjYyB9NgiYbwZWAOnAUndfZ2bfBFa7+3Lgp8D9ZlZOKMN9\nVbD7e4FbzewQ0AXc5O41ZjYNeCT4N84AfuXuT0ThrUqUqc9GXySusQq6JWZaW1v1H0IUmRnFxcXo\nJicZKvXV2Bhon3X3x4HHe5V9vcfzVuDKPva7H7i/j/IK4JQBNlsSkPps9EXiGqsx3RJT+g8huvT7\nlUjR31Js6PcskaK/pegb6u9YmW4RERGRGHl2czUrN1WTk5nGFy8+gbQ0BcvDhYLuFFN262MROU7l\n7e+PyHGOJFJt7RaLNktiivTf0mCk8t+f+qpIZLy5s4Hrf/YS6WnGoU6npCiHRWeVxbtZEiMaXiLD\nxv79+7nrrruOWKeyspJf/epXRz1WZWUlJ598cqSaJiK9fP/73+ekk05i1KhR3H777YM+TkFBQQRb\nFZ6VK1fygQ984PDzv/zlLzFvgySezi7n1t++TlFOJnddexqnlI7g9j9sZHtty9F3TnC6voZHmW4Z\nNrr/U7jpppv6rdP9n8I11/SeiSu+Ojo6yMhQd5Xh46677uIPf/hDzGbi6ezsJD09PeLHXblyJQUF\nBZx11lkRP7Ykl8ff2M2bOxv5xwuOoyA7g0+dM41bHlzLstXb+dIlJ0bsPP/+f+tYv6sxYscDmDGx\niG98cGa/23V9DY8y3TJs3HrrrWzZsoU5c+bwpS99iS996UucfPLJzJo1i2XLlh2u89xzzzFnzhyW\nLFlCZWUl55xzDnPnzmXu3LlhZ6zWrVvH/PnzmTNnDrNnz+att94C4Be/+AWzZ8/mlFNO4brrrgNg\n27ZtLFiwgNmzZ7NgwQK2b98OwPXXX88XvvAFzj//fL785S/T3NzMJz/5SU4//XROPfVUHn300Sj8\nlkTi78Ybb6SiooLLL7+cJUuWcPPNNwOhPnHLLbdw1llnMW3aNB5++GEADhw4wIIFC5g7dy6zZs0K\nu2+sXLmS888/n2uuuYZZs2YB8Mtf/vJw3/30pz9NZ2cnnZ2dXH/99Yf/v1iyZAkA5513HqtXrwag\npqaGsrKydxy/srKSu+++myVLljBnzhyee+65SPx6JEn9/vVdjM7P4sxpxQAUF2RzfEkhKzcl/4xT\nur6GR6kzGTZuv/123nzzTV599VV+85vfcPfdd/Paa69RU1PD6aefzrnnnsvtt9/O9773PX7/+98D\n0NLSwpNPPklOTg5vvfUWV1999eGL7JHcfffdfPazn+Xaa6+lvb2dzs5O1q1bx2233cYLL7zAmDFj\nqKsLLRR388038/GPf5xFixaxdOlSbrnlFn73u98BsHnzZv70pz+Rnp7OV7/6VS644AKWLl3K/v37\nmT9/PhdeeCH5+fnR+6WJxMHdd9/NE088wTPPPHO4L3bbvXs3zz//PBs3buTyyy/niiuuICcnh0ce\neYSioiJqamo488wzufzyy8OaaeCll17izTffZOrUqWzYsIFly5bxwgsvkJmZyU033cQDDzzAzJkz\n2blzJ2+++SYQyuqFo6ysjBtvvJGCggK++MUvDvwXISmjua2DlZuqOe+EcaT1+LucXTqSh1bvoLqp\njbGF2RE515Ey0tGi62t4lOmWYen555/n6quvJj09nZKSEt73vvfx8ssvv6veoUOH+NSnPsWsWbO4\n8sorWb9+fVjHf8973sN3vvMd7rjjDrZt20Zubi5PP/00V1xxBWPGjAFg9OjRALz44ouHv2677rrr\neP755w8f58orrzz8lfcf//hHbr/9dubMmcN5551Ha2vr4U/tIsPFhz70IdLS0pgxYwZ79+4FQotW\nfPWrX2X27NlceOGF7Ny58/C2o5k/f/7hISxPPfUUa9as4fTTT2fOnDk89dRTVFRUMG3aNCoqKvjH\nf/xHnnjiCYqKiqL2/iQ1Pb1xH20dXZwxdfQ7yudMHgmEZjRJFbq+9k+ZbhmW3D2sekuWLKGkpITX\nXnuNrq4ucnJywtrvmmuu4YwzzuCxxx7jkksu4d5778Xdw8q89azT81O2u/Ob3/yGE044Iaw2iKSi\n7Oy3s4Hd/fiBBx6gurqaNWvWkJmZSVlZWdjLYffuY4sWLeI//uM/3lXvtddeY8WKFdx555089NBD\nLF26lIyMDLq6ugC0/LYc0RNv7mFkXiYnlBS+o3xKcR4jcjNZubmaj5xWGqfWRZaur/1T0C1xE+tp\nwwoLC2lqagLg3HPP5cc//jGLFi2irq6OZ599lu9+97vs3LnzcB2AhoYGSktLSUtL47777qOzszOs\nc3Vnx2655RYqKip4/fXXueiii/jwhz/M5z//eYqLi6mrq2P06NGcddZZPPjgg1x33XU88MADvPe9\n7+3zmJdccgk/+MEP+MEPfoCZsXbtWk499dSh/2JEjiLRp/hraGhg3LhxZGZm8swzz7Bt27ZBHWfB\nggUsXLiQz3/+84wbN466ujqamprIz88nKyuLj3zkIxx77LFcf/31QGj4yJo1a5g/f/7h8eW9FRYW\n0tgY2ZvaJLm4O3+tqGXWxBHvmpM7zYwZE4p4ZVtdnFoXGbq+hkdBtwwbxcXFnH322Zx88slcdtll\nh2+4MDP+8z//k/Hjx1NcXExGRgannHIK119/PTfddBMf+chH+PWvf835558f9viuZcuW8ctf/pLM\nzEzGjx/P17/+dUaPHs2//Mu/8L73vY/09HROPfVUfv7zn/P973+fT37yk3z3u99l7Nix/OxnP+vz\nmF/72tf43Oc+x+zZs3F3ysrK3jXeVWQ4uvbaa/ngBz/IvHnzmDNnDieeOLiZIGbMmMG3v/1tLr74\nYrq6usjMzOTOO+8kNzeXT3ziE4ez2t2Z8C9+8Yt89KMf5f777+eCCy7o85gf/OAHueKKK3j00Uf5\nwQ9+wDnnnDO4NylJa3tdC7XN7Rw/vrDP7aWjcnmxopbmtg7ys5MzLNP1NTwW7tcAyWTevHkezmD8\nVJTIi+Ns2LCBk046KeLHlXfq6/dsZmvcfV6cmnRUQ+2zWhwnstRXYyvZ+uxwvsYOxm9fqeILD73G\nHR+ZzTGj8961/aWtdSz502aW33w2s0tHDuoc6rOxM5T+qhspRURERKJkzbZ68rLSKR2Z2+f20lGh\n8rf2HohlsyQOkvN7DJEEsWLFCr785S+/o2zq1Kk88sgjcWqRiPT2xhtvHJ63t1t2djarVq2KU4tk\nOFmzrZ7jxhW8azx3t5KiHDLSjM37mvrcPlyl4vVVQbfEVLh3GCeLSy65hEsuuSTezTgsFYeLSXyk\nUl+dNWsWr776aryb0Sf12dTW1HqITXua+Nu5k/qtk55mTBiZQ/kQM92p1Gch8a6vMPT+quElEjM5\nOTnU1tbqIhMl7k5tbW3Y0y6J9Ed9NTbUZ1Pf+l2NOHDs2IIj1ps0MpfNewef6Vafjb5I9FdluiVm\nSktLqaqqoro6dRYBSDQ5OTmUlqbGXK8SP+qrsaM+m9o2BYH0lOIjz8xROiqPVRV1HGzvJDcrfcDn\nUZ+NjaH2VwXdEjOZmZmHV34TkcSlvioSGRt2N1GYncGovMwj1isdmYsDW6oPcPKkEQM+j/psctDw\nEhEREZEo2Li7kcmj84461npsYWil1Z37D8aiWRInCrpFREREIqyry9m4t6nPubl7Ky4IBd27FXSn\nNAXdIgKAmX3ezNaZ2Ztm9r9mlmNmU81slZm9ZWbLzCwrqJsdvC4Ptpf1OM5XgvJNZpZYt56LiMTI\njvoWDrZ3hhV0F+ZkkJFm7G5ojUHLJF6iHnSbWbqZrTWz3wevdREXSTBmNgm4BZjn7icD6cBVwB3A\nEnefDtQDNwS73ADUu/txwJKgHmY2I9hvJnApcJeZDfyuIBGRJLdhd+gmyslhBN1pZhQXZLFLQXdK\ni0Wm+7PAhh6vdREXSUwZQK6ZZQB5wG7gAuDhYPt9wIeC5wuD1wTbF1ho0OJC4EF3b3P3rUA5MD9G\n7RdJaWZ2aZB8KjezW/vY3mfyyszmm9mrweM1M/twuMeUwdu4pxHj7RUnj2Z0fpaGl6S4qAbdZlYK\nvB+4N3ht6CIuknDcfSfwPWA7oWC7AVgD7Hf3jqBaFdC9wsMkYEewb0dQv7hneR/7vIOZLTaz1Wa2\nWtNciRxZkGy6E7gMmAFcHSSleuozeQW8SehbrDmEklc/NrOMMI8pg1S+7wDjirLJyQwvT1icn80u\nBd0pLdqZ7v8G/hnoCl4XE6WLuC7gIoNnZqMIfcCdCkwE8gldiHvrXnmhr1vx/Qjl7y50v8fd57n7\nvLFjxw680SLDy3yg3N0r3L0deJBQn+2pz+SVu7f0uO7m8HafDOeYMkhbqg8wYUR4WW6A4oIs9jW1\n0dmlBW5SVdSCbjP7ALDP3df0LO6jakQu4rqAiwzJhcBWd69290PAb4GzgJHBcBOAUmBX8LwKmAwQ\nbB8B1PUs72MfERm8cBJQ/SWvMLMzzGwd8AZwY7Bd30xFSVeXU1nTzIQR4a9eWJyfRUeXU3OgLYot\nk3iKZqb7bOByM6sk9On5AkKZb13ERRLPduBMM8sLhnUtANYDzwBXBHUWAY8Gz5cHrwm2P+2h9YeX\nA1cFY0unAtOBl2L0HkRSWTgJqH7ruPsqd58JnA58xcxywjwmwf5KbA3AnsZWDh7qGlimOz80baCG\nmKSuqAXd7v4Vdy919zJCN0I+7e7Xoou4SMJx91WEvo5+hVAmLA24B/gy8AUzKyeUMftpsMtPgeKg\n/AvArcFx1gEPEQrYnwA+4+6dMXwrIqkqnARUf8mrw9x9A9AMnBzmMWUQKqqbAQaW6S7IAtC0gSks\nHsvAfxl40My+DazlnRfx+4OLeB2hQB13X2dm3RfxDnQRF4kKd/8G8I1exRX0ceOyu7cCV/ZznNuA\n2yLeQJHh7WVgepB82knoGnlNrzrdyasX6ZG8CvbZ4e4dZjYFOAGoBPaHcUwZhIqaAwBMHBl+pnt0\nfijoVqY7dcUk6Hb3lcDK4Lku4iIiIgMQBMw3AysIzaO/NEhKfRNY7e7L6Sd5BbwXuNXMDhGa2OAm\nd68B6OuYMX1jKaqiupmczDRG5WWGvU9BdgZZGWnsUaY7ZcUj0y0iIiID5O6PA4/3Kvt6j+d9Jq/c\n/X7g/nCPKUPXPXNJ6BaZ8JgZxflZ7GlU0J2qtAy8iIiISASFgu7wx3N3K8rJpK65PQotkkSgoFtE\nREQkQloPdbJ7f+uAZi7pVpSboSkDU5iCbhEREZEI2VrTjAMTRw4u0117QJnuVKWgW0RERCRC3p4u\ncDCZ7kzqW9q1KmWKUtAtIiIiEiEV1aHpAgc7prvLYX+Lst2pSEG3iIiISIRsrWmmOD+LnMz0Ae87\nIjc0qZxupkxNCrpFREREImSwM5dAaHgJQI3GdackBd0iIiIiEeDuVNQ0M2EAK1H2VJQTCrprmzWD\nSSpS0C0iIiISATUH2mlq7WDiEDPdmsEkNSnoFhEREYmAt2+iHFymuzA7AwNqNVd3SlLQLSIiIhIB\nW2u6pwscXKY7Lc0oys2kVjdSpiQF3SIiIiIRUFnbQkaaMaYge9DHKMrJ0PCSFKWgW0RERCQCttU2\nM64om7Q0G/QxCnMyqdGNlClJQbeIiIhIBFTWNFNSOLihJd2KcpXpTlUKukVERESGyN2prGuhZJDj\nubsV5WTqRsoUpaBbREREZIiqD7RxsL2T8UVDC7pH5GbS2NpBe0dXhFomiUJBt4iIiMgQbattAaBk\niEF3QU5oKfiGg4eG3CZJLAq6RURERIaoMpgucKiZ7oLs7qBb47pTjYJuERERkSHaVttCmsGYwqwh\nHac76N7fokx3qlHQLSIiIjJElbXNjCvMJiNtaKFVvoLulJUR7wZIYiq79bGIHKfy9vdH5DgiIiKJ\nrLK2mXFDHFoCPTLdGtOdcpTpFhERERkCd2dbbcuQx3NDz+ElGtOdahR0i4iIJAEzu9TMNplZuZnd\n2sf2bDNbFmxfZWZlQflFZrbGzN4Ifl7QY5+VwTFfDR7jYveOUsf+lkM0tXYMeeYSgNysdNJMs5ek\nIg0vERERSXBmlg7cCVwEVAEvm9lyd1/fo9oNQL27H2dmVwF3AB8DaoAPuvsuMzsZWAFM6rHfte6+\nOiZvJEVV1kZm5hKANDPyszM0pjsFKdMtIiKS+OYD5e5e4e7twIPAwl51FgL3Bc8fBhaYmbn7Wnff\nFZSvA3LMLDsmrR4mDs/RPcTVKLsVZGdoTHcKUtAtIiKS+CYBO3q8ruKd2ep31HH3DqABKO5V5yPA\nWnfvuc74z4KhJV8zM+vr5Ga22MxWm9nq6urqobyPlFRZ24wB4woj81kmlOnWmO5Uo6BbREQk8fUV\nDPtA6pjZTEJDTj7dY/u17j4LOCd4XNfXyd39Hnef5+7zxo4dO6CGDwfbalsYU5hNZnpkwqoCDS9J\nSQq6RUREEl8VMLnH61JgV391zCwDGAHUBa9LgUeAj7v7lu4d3H1n8LMJ+BWhYSwyQJU1zRHLcoMy\n3alKQbeIiEjiexmYbmZTzSwLuApY3qvOcmBR8PwK4Gl3dzMbCTwGfMXdX+iubGYZZjYmeJ4JfAB4\nM8rvIyVV1jZH5CbKbgXZGZq9JAUp6BYREUlwwRjtmwnNPLIBeMjd15nZN83s8qDaT4FiMysHvgB0\nTyt4M3Ac8LVeUwNmAyvM7HXgVWAn8JPYvavU0HDwEPUthyIyXWC3gux0Gls76OzqPYJIkpmmDBQR\nEUkC7v448Hivsq/3eN4KXNnHft8Gvt3PYU+LZBuHo+3dM5dEONMN0HjwEKPysyJ2XIkvZbpFRERE\nBunwHN0Rmi4QoCAnE9BS8KlGQbeIiIjIIFXWhILukqLI3UhZkJ0OaCn4VKOgW0RERGSQKmtbKM7P\nIjsjPWLH7B5eokx3alHQLSIiIjJI22qbGRfBLDeEpgwEaNBc3SlFQbeIiIjIIEV6ukB4O+iu1/CS\nlBK1oNvMcszsJTN7zczWmdm/B+VTzWyVmb1lZsuC+UYxs+zgdXmwvazHsb4SlG8ys0ui1WaR4czM\nRprZw2a20cw2mNl7zGy0mT0Z9NcnzWxUUNfM7PtBv3zdzOb2OM6ioP5bZrao/zOKiCS3ptZD1Bxo\nj3zQndU9e0lHRI8r8RXNTHcbcIG7nwLMAS41szMJLUG7xN2nA/XADUH9G4B6dz8OWBLUw8xmEFoE\nYCZwKXCXmUVu4JSIdPsf4Al3PxE4hdBcwLcCTwX99Snenvf3MmB68FgM/AjAzEYD3wDOILSy3Te6\nA3URkVSzrXu6wAjOXAKQnmbkZqbT2KrhJakkakG3hxwIXmYGDwcuAB4Oyu8DPhQ8Xxi8Jti+wMws\nKH/Q3dvcfStQjpapFYkoMysCziW0uAbu3u7u+3lnv+zdX38R9PO/AiPNbAJwCfCku9e5ez3wJKEP\nyyIiKac76I50phsgPzudRt1ImVKiOqbbzNLN7FVgH6GL7xZgf7CyFkAVMCl4PgnYAYdX3moAinuW\n97FPz3MtNrPVZra6uro6Gm9HJJVNA6qBn5nZWjO718zygRJ33w0Q/BwX1O+vX4bVX0F9VkSSX/cc\n3ZFcGKdbXlaGMt0pJqpBt7t3uvscoJRQdvqkvqoFP62fbf2V9z7XPe4+z93njR07drBNFhmuMoC5\nwI/c/VSgmbeHkvRlSP0V1GdFJPlV1jQzKi+TnMzIj3rNy0rXmO4UE5PZS4KvqVcCZxL6Grp7+flS\nYFfwvAqYDBBsHwHU9SzvYx8RiYwqoMrdVwWvHyYUhO8Nho0Q/NzXo35f/VL9VUSGjW21LVHJckMo\n073/oGYvSSXRnL1krJmNDJ7nAhcSujHrGeCKoNoi4NHg+fLgNcH2p93dg/KrgtlNphK6ceulaLVb\nZDhy9z3ADjM7IShaAKznnf2yd3/9eDCLyZlAQzD8ZAVwsZmNCm6gvDgoExFJOVtrm6MWdOcr051y\nMo5eZdAmAPcFM42kAQ+5++/NbD3woJl9G1hLcONW8PN+MysnlOG+CsDd15nZQ4QCgA7gM+7eGcV2\niwxX/wg8EEzjWQF8gqDvmtkNwHbgyqDu48DfELqxuSWoi7vXmdm3gJeDet9097rYvQURkdhobuug\nuqmN8SdGKdOdnUGTxnSnlKgF3e7+OnBqH+UV9DH7iLu38vYFvfe224DbIt1GEXmbu78KzOtj04I+\n6jrwmX6OsxRYGtnWiYgklmjOXAKhTHdTawddXU5aWl+3y0iy0YqUIiIiIgO0LYozl0BoTLcDB9o1\nxCRVhBV0m9nJ0W6IiIiISLLYGgTd0cp052WHZkTRXN2pI9xM993Bku43dd8cKSIiIjJcbatpYWRu\nJrlZ0VkkW0vBp56wgm53fy9wLaGpwFab2a/M7KKotkxEREQkQVVGceYSCM3TDWiBnBQS9phud38L\n+Ffgy8D7gO+b2UYz+9toNU5EREQkEW2taaakKDtqx8/P7s50K+hOFeGO6Z5tZksIzbN9AfBBdz8p\neL4kiu0TERERSSgt7R3sa2pj/IjcqJ0j/3CmW8NLUkW4Uwb+EPgJ8FV3P9hd6O67zOxfo9IyERER\nkQRUUR26iXLiyCgOL1GmO+WEO7zkb4BfdQfcZpZmZnkA7n5/tBonIiIiIWZ2qZltMrNyM7u1j+3Z\nZrYs2L7KzMqC8ovMbI2ZvRH8vKDHPqcF5eVm9n0z04TQYdhSfQCAiVHMdOdlhjLdDQq6U0a4Qfef\ngJ5/WXlBmYiIiERZsLrzncBlwAzgajOb0avaDUC9ux9HaOjnHUF5DaFhobOARUDPZNmPgMXA9OBx\nadTeRArZsu8AaQbjR0Qv052WZuRlpetGyhQSbtCd4+4Hul8Ez/Oi0yQRERHpZT5Q7u4V7t4OPAgs\n7FVnIXBf8PxhYIGZmbuvdfddQfk6ICfIik8Aitz9xWCV2V8AH4r+W0l+W6qbGVeUQ2Z6dNcYzMtK\n15SBKSTcv5ZmM5vb/cLMTgMOHqG+iIiIRM4kYEeP11VBWZ913L0DaACKe9X5CLDW3duC+lVHOSYA\nZrbYzFab2erq6upBv4lUUb7vABOjmOXulp+doUx3Cgn3RsrPAb82s+5PyhOAj0WnSSIiItJLX2Ot\nfSB1zGwmoSEnFw/gmKFC93uAewDmzZvXZ53horPL2VrTzMUzS6J+rlCmW0F3qggr6Hb3l83sROAE\nQp10o7vrr0BERCQ2qggtUNetFNjVT50qM8sARgB1AGZWCjwCfNzdt/SoX3qUY0ovO+sP0t7ZFdWb\nKLvlZWUo6E4hAxmMdDowGziV0A0cH49Ok0RERKSXl4HpZjbVzLKAq4DlveosJ3SjJMAVwNPu7mY2\nEngM+Iq7v9Bd2d13A01mdmYwa8nHgUej/UaS3eGZS0bGIuhOp0HDS1JGWJluM7sfOBZ4FegMirtv\nuhAREZEocvcOM7sZWAGkA0vdfZ2ZfRNY7e7LgZ8C95tZOaEM91XB7jcDxwFfM7OvBWUXu/s+4B+A\nnxOaoewPwUOO4K19TUB05+julp+VQZMWx0kZ4Y7pngfMCO5uFhERkRhz98eBx3uVfb3H81bgyj72\n+zbw7X6OuRo4ObItTW0b9zQxOj+LwpzMqJ8rPzudA60ddHU5aWmaQj3ZhTu85E1gfDQbIiIiIpLo\nNu5uonRU9IeWQGhMtwNNbcp2p4JwM91jgPVm9hLQ1l3o7pdHpVUiIiIiCaajs4vy6gNcPCP6M5dA\nKNMNoaXgR+RGP7Mu0RVu0P1v0WyEiIiISKKrrG2mvaOLY0bHZn3AvKxQmNZw8NA7pq6R5BTulIF/\nNrMpwHR3/5OZ5RG6kUNERERkWNiwO3QT5eQYBd35WUGmWzOYpISwxnSb2acILSn746BoEvC7aDVK\nREREJNFs2tNEmsGkGEwXCJCXHcqNain41BDujZSfAc4GGgHc/S1gXLQaJSIiIpJoNu5pZOLIXDLT\nB7LMyeAp051awv2raXP39u4XwUpXmj5QREREho2Ne5piNrQE3h7TrVUpU0O4QfefzeyrQK6ZXQT8\nGvi/6DVLREREJHE0tR6iqv7QQWJjAAAgAElEQVQgx4yKXdCdm5WOAY1aICclhBt03wpUA28AnyY0\nOf+/RqtRIiIiIolk897Y3kQJkGZGXla6Mt0pItzZS7qAnwQPERERkWFl455Q0B2r6QK75WVnaEx3\niggr6DazrfQxhtvdp0W8RSIiIiIJZuPuJvKy0hlTkBXT8+ZnpWv2khQR7uI483o8zwGuBEZHvjki\nIiIiiWdTcBOlmcX0vHlZynSnirDGdLt7bY/HTnf/b+CCKLdNREREJO7cnY17Gpk8Kjbzc/ekMd2p\nI9zhJXN7vEwjlPkujEqLRERERBLI7oZWGls7Yj6eGyA/O4Nd+w/G/LwSeeEOL/l/PZ53AJXARyPe\nGhERGbSyWx+LdxOovP398W6CSMRt2hP7mUu65WWl06DhJSkh3NlLzo92Q0REREQS0YY9jUDsZy6B\n0Jju5rZOOjq7yIjRSpgSHeEOL/nCkba7+39FpjkiIiIiiWXTnibGFmQdXiEylvKzQ0vBH2jrYGRe\nbGdOkcgK9yPTPOAfgEnB40ZgBqFx3RrbLSIiIilr454mSuOQ5YaeS8Fr2sBkF+5HtjHAXHdvAjCz\nfwN+7e5/H62GiYiIiMRbe0cXW/Yd4P2zJ8Tl/PlZoUy3pg1MfuFmuo8B2nu8bgfKIt4aERERkQRS\nUXOAji5n8qg4ZbqzuzPdCrqTXbiZ7vuBl8zsEUIrU34Y+EXUWiUiIiKSADbujs/y792U6U4d4c5e\ncpuZ/QE4Jyj6hLuvPdI+ZjaZUGA+HugC7nH3/zGz0cAyQpnySuCj7l5voSWe/gf4G6AFuN7dXwmO\ntQj41+DQ33b3+8J/i8khEab6EjGzdGA1sNPdP2BmU4EHCa1A+wpwnbu3m1k2of59GlALfMzdK4Nj\nfAW4AegEbnH3FbF/JyIikbFxTxMZacaEkTlxOb/GdKeOgcw9kwc0uvv/AFXBxfhIOoB/cveTgDOB\nz5jZDOBW4Cl3nw48FbwGuAyYHjwWAz8CCIL0bwBnAPOBb5jZqAG0W0TC91lgQ4/XdwBLgv5aTyiY\nJvhZ7+7HAUuCegR9/CpgJnApcFcQyIvIEJnZpWa2yczKzezWPrZnm9myYPsqMysLyovN7BkzO2Bm\nP+y1z8rgmK8Gj3GxeTfJY+OeRiaNyiUjLT7T9XXPXqJMd/IL6y/IzL4BfBn4SlCUCfzySPu4++7u\nTHVwA+YGQjOfLAS6M9X3AR8Kni8EfuEhfwVGmtkE4BLgSXevc/d64ElCF3MRiSAzKwXeD9wbvDbg\nAuDhoErv/trdjx8GFgT1FwIPunubu28Fygl9WBaRIQg+vN5JKEE1A7g6+JDbU58fhoFW4GvAF/s5\n/LXuPid47It865Pbup2NTInT0BKAnMx00kxjulNBuB/bPgxcDjQDuPsuBjBVYPBp+1RgFVDi7ruD\n4+wGuj9VTwJ29NitirenKOyrvPc5FpvZajNbXV1dHW7TRORt/w38M6HhYADFwH537/5Os2ffO9wv\ng+0NQf2w+iuoz4oM0Hyg3N0r3L2d0LCvhb3q9Plh2N2b3f15QsG3DMC+plaqD7RRNiY/bm1IMyMv\nK4PGVg0vSXbhBt3t7u6EbqLEzML+6zOzAuA3wOfcvfFIVfso8yOUv7PA/R53n+fu88aOHRtu80QE\nMLMPAPvcfU3P4j6q+lG2hdVfQX1WZIDC+UDb34fho/lZMLTka8E3Vu8yXD8kr98VClumFMcv6IbQ\nEJMGZbqTXrhB90Nm9mNCQz4+BfwJ+MnRdjKzTEIB9wPu/tugeG8wbITgZ/dXWVXA5B67lwK7jlAu\nIpFzNnC5mVUSyqBdQCjzPdLMum+47tn3DvfLYPsIoA71V5FoCecDbdgfenu41t1nEZoo4Rzgur4q\nDdcPyet3h4LusuL4DS+B0M2UGl6S/MIKut39e4S+qvoNcALwdXf/wZH2CT4t/xTY0GuZ+OXAouD5\nIuDRHuUft5AzgYZg+MkK4GIzGxXcQHlxUCYiEeLuX3H3UncvI3Qj5NPufi3wDHBFUK13f+3ux1cE\n9T0ovyq4oWsqoRujX4rR2xBJZeF8oO3vw3C/3H1n8LMJ+BW6B+Md1u1qpKQoOy7Lv/eUl5WuGylT\nwFH/ioKbN1a4+4WEbmIM19mEPjG/YWavBmVfBW4nlDm/AdgOXBlse5zQdIHlhKYM/ASAu9eZ2beA\nl4N633T3I/4nIiIR82XgQTP7NrCW0Adpgp/3m1k5oYv6VQDuvs7MHgLWE5rB6DPu3hn7ZouknJeB\n6cGH2Z2E+tw1vep0fxh+kXd+GO5TEJiPdPea4JvpDxD6JlsC63c1xm1+7p7ysjS8JBUcNeh2904z\nazGzEe7eEO6Bg5s2+hwbBizoo74Dn+nnWEuBpeGeW0QGz91XAiuD5xX0kfly91be/sDce9ttwG3R\na6HI8OPuHWZ2M6FvetOBpcGH3G8Cq919Of18GAYIho4VAVlm9iFC3xpvA1YEAXc6YQ4dHS6a2zqo\nrGlm3pT4z1Kcl5XBjrqD8W6GDFG435e0EspYP0kwgwmAu98SlVaJiIjIO7j744S+Fe5Z9vUez4/0\nYbisn8OeFqn2pZqNexpx4n8TJYRWpdTwkuQXbtD9WPAQERERSXndM5fE+yZKgLzsDFraO+no7CIj\nPT6L9MjQHTHoNrNj3H17Ki67LiIiItKfdbsaKczJYHR+VrybQn5WaFXKptYORiVAe2RwjvZx6Xfd\nT8zsN1Fui4iIiEhCWLerkSnFefQzdXlM5WeHcqQaYpLcjhZ09/xLmxbNhoiIiIgkgkOdXWza20RZ\nAoznBg5PWdh4UKtSJrOjBd3ez3MRERGRlFRR3Ux7R1dC3EQJbw8vUaY7uR3tRspTzKyRUMY7N3hO\n8NrdvSiqrRMRERGJsfW7QzMkT0mAObohdCMloLm6k9wRg253T49VQ0REREQSwetVDWRlpDFxZG68\nmwL0yHQr6E5qmndGREREpIdXttVz7Nh80tPifxMl9BjTreElSU1Bt4iIiEig9VAn63Y1Mn1cYbyb\nclhOZhppphspk124i+OknLJbI7PWT+Xt74/IcURERCT+1u1qpKPLOW5cQbybcpiZkZ+VoUx3klOm\nW0RERCSwdns9QEIF3QB52eka053kFHSLiIiIBNZu38/YwmxG5SXWyo/5WRnsV9Cd1BR0i4iIiADu\nzppt9Rw3NrGy3AAFORnUN7fHuxkyBAq6RURERIDtdS3saWzlxAmJcxNlt8KcTOoUdCc1Bd0iIiIi\nwItbagGYOWFEnFvyboXZGdS3aHhJMlPQLSIiIgK8WFHLyNxMJo7MiXdT3qUwJ4MDbR0c6uyKd1Nk\nkBR0i4iIyLDn7vxlSy0nTSjCLDEWxempMCc0y3N9i4aYJCsF3SIiIjLsba1pprqpjRkTi+LdlD4V\nZGcCUN+sISbJSkG3iIiIDHsvlNcAMHNCYgbdynQnPwXdIiIiklDcncbWQ+xraqWzy2Nyzj9vrmFc\nYTbjRyTeeG7oEXRrBpOkNWyXgRcREZHEs3Z7PZ9b9irbalsASDfjfceP4cbzjmP+1NFROWd7Rxd/\n2VLDe6YVJ+R4bghNGQhoBpMkpky3iIiIJIQ12+q48u4XaWnv5Jr5x/CJs8q45OTxrN2xn7+7d9Xh\nJdoj7ZXt9bS0d3JK6cioHD8SCrI1vCTZKegWERFJAmZ2qZltMrNyM7u1j+3ZZrYs2L7KzMqC8mIz\ne8bMDpjZD3vtc5qZvRHs832Lc5r3h0+Xk5+dwXc+PIsPnjKRi2eO57ozp3DHR2YzMi+TxfevicoC\nMc+9VU2awcxJiTmeGyArI43czHQtkJPEFHSLiIgkODNLB+4ELgNmAFeb2Yxe1W4A6t39OGAJcEdQ\n3gp8DfhiH4f+EbAYmB48Lo1868Pz1t4mntlUzcUzSg5ndbsV5mTyuQuPp7qpjWUv74j4uf+8uZrp\n4wrJy0rsUbcFORnKdCcxBd0iIiKJbz5Q7u4V7t4OPAgs7FVnIXBf8PxhYIGZmbs3u/vzhILvw8xs\nAlDk7i+6uwO/AD4U1XdxBEtfqCQ7I40LZ5T0uX3qmHxOHF/Igy9vJ9TcyKg90Ma6nY3MLk28VSh7\nK8zO0I2USUxBt4iISOKbBPRM8VYFZX3WcfcOoAEoPsoxq45yTADMbLGZrTaz1dXV1QNsenie3byP\nUyaPpCi4YbAv558wjm21LazaWhex8z5fXoMDsxN4PHe3gpwMDS9JYgq6RUREEl9fY617p3vDqTOo\n+u5+j7vPc/d5Y8eOPcIhB2dfYys797dyQknhEeudMW00+VnpPLym6oj1BuLPm6spyM5g2pj8iB0z\nWgqzMzR7SRJT0C0iIpL4qoDJPV6XArv6q2NmGcAI4Egp4argOEc6Zky8EsxKMn1cwRHrZWekM6t0\nBM+9VR2RISbuznOba5g1aQRpaYk5VWBPhTmZGtOdxBR0i4iIJL6XgelmNtXMsoCrgOW96iwHFgXP\nrwCe9iNEpu6+G2gyszODWUs+Djwa+aYf3Zpt9WSmG2VhZJtnThzB3sY2Kmqah3zejXuaqD7Qxqwk\nGM8NoQVymlo7ONTZFe+myCAo6BYREUlwwRjtm4EVwAbgIXdfZ2bfNLPLg2o/BYrNrBz4AnB4WkEz\nqwT+C7jezKp6zHzyD8C9QDmwBfhDLN5Pb69s28+0MQVkph89LDl5YihA/suW2iGf99nNofHpsycl\nT9ANWpUyWSX23DgiIiICgLs/Djzeq+zrPZ63Alf2s29ZP+WrgZMj18qBa+vo5PWd+7lk5viw6pcU\nZTOmIIu/lNdw3ZlThnTuZzdXM3lULsUF2UM6TqyMzMsCYF9TG+OKEnO5eumfMt0iIiISN1v2NXOo\n05k25sjjubuZGTMnjuAvW2rp6hr8uO6W9g5eqqxjVhLMWtJtdH4o6N7T0HqUmpKIFHSLiIhI3GwN\nxmZPHBl+5vakCUU0HDxEefWBQZ931dY6DnU6pyTJeG6AUUGme2+Tgu5kpKBbRERE4mZrTShwLhnA\ncInjS0JZ8TXb6gd93mc3V5OVnsaJ4xN36ffeRuRmkmawV5nupKSgW0REROJma00Lo/OzyMlMD3uf\n8UU5FOVkDDnoPnFCIVkZyRMKpacZI3Iz2dvYFu+myCAkz1+aiIiIpJytNQeYMGJgNwWaGdNLCnll\nkEH3zv0H2VLdzOxJyTOeu9uovCz2NCrTnYwUdIuIiEjcVNQ0M34QM3FMH1dARU3zoKbPOzxVYBKN\n5+42Kj+LvQq6k1LUgm4zW2pm+8zszR5lo83sSTN7K/g5Kig3M/u+mZWb2etmNrfHPouC+m+Z2aK+\nziUiQ2Nmk83sGTPbYGbrzOyzQbn6rIhETX1zO/tbDjF+gJlugOODJePX7hh4tvu5t6oZnZ9F6ajc\nAe8bb6PyMpXpTlLRzHT/HLi0V9mtwFPuPh14ircn7r8MmB48FgM/gtAFH/gGcAYwH/hG90VfRCKq\nA/gndz8JOBP4TLB4hvqsiETN1trQzCUTRgw8+J02Np/0NOPlyoEF3Yc6u3j+rdDS76GFOJPLqLws\n9rccoq2jM95NkQGKWtDt7s8Cdb2KFwL3Bc/vAz7Uo/wXHvJXYKSZTQAuAZ509zp3rwee5N2BvIgM\nkbvvdvdXgudNhFa8m4T6rIhEUWVNd9A98Ex3dkY6x47NZ1XFwFamXFVRR2NrB6dNSc58wKhgru59\nupky6cR6THeJu++G0EUeGBeUTwJ29KhXFZT1V/4uZrbYzFab2erq6uqIN1xkuDCzMuBUYBXqsyIS\nRVtrmkkzGFc4uBUhTxxfxOtVDRxsDz/ru2LdHrIy0pJyPDfA6O65ujXEJOkkyjLwfX2/40cof3eh\n+z3APQDz5s0b/BJVIsOYmRUAvwE+5+6NR/jqVX1WElLZrY/FuwlU3v7+eDchaeyoC00XmJE+uBzg\nSROKWP7aLl7ZXs/Zx405av2uLueP6/dwSukIsjPCn6IwkXRnujWuO/nEOtO9N/gKmuDnvqC8Cpjc\no14psOsI5SISYWaWSSjgfsDdfxsUq8+KSNRU7T/ImILBZbkhtEhOmhH2EJPXdzawt7GN08tGD/qc\n8TYqLxNAc3UnoVgH3cuB7tkMFgGP9ij/eDAjwplAQ/BV9grgYjMbFdyMdXFQJiIRZKGU9k+BDe7+\nXz02qc+KSNTsrD/I2CEE3XlZGUwdk89ft/a+haxvv169g6z0NOYek5zjuQEKsjPIzUxjR11LvJsi\nAxS14SVm9r/AecAYM6siNKPB7cBDZnYDsB24Mqj+OPA3QDnQAnwCwN3rzOxbwMtBvW+6e3g9S0QG\n4mzgOuANM3s1KPsq6rMiEiWHOrvY29jKmdOKh3ScmRNH8Pgbu6lvbj889KIvB9o6eGTtTt5zbDH5\n2YkyunbgzIwJI3N5a19TvJsiAxS1vzp3v7qfTQv6qOvAZ/o5zlJgaQSbFlGJMH5QZKjc/Xn6Ho8N\nKdZnRSQx7GlopcsZ0vASgDOnFbP8tV38cf0ePnb6Mf3W+93anbS0d3LhSeP6rZMsJo3IZbOC7qSj\nFSlFREQk5nbuPwjAmIL+s9PhKCvOo6Qom9+/vrvfOu0dXdz7XAVlxXkcO7ZgSOdLBBNH5bK3sY2m\n1kPxbooMgIJuERERibmd9aGgeyhjuiE03OKMqcX8pby23yXhl76wlcraFj52+jFJuSBOb5NGhhYT\n2lLdHOeWyEAo6BYREZGY6850Fw8x6AY469hiOt35yXMV79q2pfoA33/qLU47ZhRzJo8c8rkSQXfQ\nXb7vQJxbIgOhoFtERERibmf9QUbmZpKVMfRQZEpxPuccN4Z7nq2govrtQHTn/oNcd+8qMtKNRWdN\nGfJ5EkVJUQ4ZaaagO8kk7+27IiIikrR27j845PHcPV1zxjGs3lbPJ37+MrdcMJ29Ta38aOUWOruc\nf33/DMYWDnyp+USVnmaMH5GjoDvJKOgWERGRmKuqb6GkKHKB8Mi8LL548fHc+/xW/unXrwFw8qQi\nPnnWVCYEwzFSyURNG5h0FHSLiIgkATO7FPgfIB24191v77U9G/gFcBpQC3zM3SuDbV8BbgA6gVvc\nfUVQXgk0BeUd7j4vFu+lq8vZ1dDKyZNGRPS4MyaO4I6PzGZbbWh5+VF5mSlx42Rfpo8r4KWtdexu\nOMiEEan3oSIVaUy3iIhIgjOzdOBO4DJgBnC1mc3oVe0GoN7djwOWAHcE+84ArgJmApcCdwXH63a+\nu8+JVcANUNPcRntH15BnLulLZnoax40rYHR+VsoG3MDhm0JXbqqOc0skXAq6RUREEt98oNzdK9y9\nHXgQWNirzkLgvuD5w8ACC0WdC4EH3b3N3bcSWkl2foza3afu6QKHujDOcDZpZC5jCrJ4ZuO+eDdF\nwqSgW0REJPFNAnb0eF0VlPVZx907gAag+Cj7OvBHM1tjZov7O7mZLTaz1Wa2urp66JnVwwvjFCro\nHiwzY87kkTxfXkNbR2e8myNh0JhuiaqyWx+LyHEqb39/RI4jIpKk+hon4WHWOdK+Z7v7LjMbBzxp\nZhvd/dl3VXa/B7gHYN68eb3PO2BV9ZFZjXK4mzN5FH/asI9nN9dw0YySeDdHjkJBtyQFBe8iMsxV\nAZN7vC4FdvVTp8rMMoARQN2R9nX37p/7zOwRQsNO3hV0R9rO+oPkZ6eTl6UwZChml45gfFE233l8\nA+ceP4bsjPSj7yRxo792GVYUvItIknoZmG5mU4GdhG6MvKZXneXAIuBF4ArgaXd3M1sO/MrM/guY\nCEwHXjKzfCDN3ZuC5xcD34zFmwnN0a2hJUOVmZ7GorPKuOOJTfz3n97iny85oc+bRw91dvHGzgZW\nV9axp6ENxykdlcf8stHMnFhEWlrq3nCaSBR0i4iIJDh37zCzm4EVhKYMXOru68zsm8Bqd18O/BS4\n38zKCWW4rwr2XWdmDwHrgQ7gM+7eaWYlwCNBkJYB/Mrdn4jF+6mqb1HQHSFzJo/i3Olj+NHKLbxe\ntZ+Fp0xibFE2zW0dbNnXzMuVdazZVs/BQ6Fx37mZ6YBz8FAXAKUjc/nEe6fy0XmlFOZk9nsed+dP\nG/Zx95+3sK22mfS00JjyU48ZxexJIzhxQhGj8zVc6EgUdIuIiCQBd38ceLxX2dd7PG8Fruxn39uA\n23qVVQCnRL6lR+bu7Nx/kPceVxDrU6esG993LMeOLeA3r1TxQnntO7YdMzqPc6aPYcaEIk6cUMSI\n3EzcnYaDh3i9qoFnNu3jW79fz389uYlrz5jC358zlXE9Vu90d1Zurub//XEzb+5soKQom1NKR9La\n0cVrOxpYsW7v4bpjC7OZObGIWZNGhB6lIxhflJPSUzcOhIJuERERiZnGgx00t3VGZY7u4crMuHjm\neC6aUcLuhlZa2jvITE+jpCiHnMx3j/M2M0bmZXHu8WM59/ixbKk+wGNv7Obe5ypY+vxWFpw0jrnH\njOJQZxd/2rCPV3fsZ2xBNovPncY508eQkfb25HeNBw+xra6F7bUtbKtrpqK6mWc3V9MV3G5bnJ/F\nSROKyM4I7dN9Z++YgmxOnFDIBSeOY0pxfgx+S/GnoFtkECIxNlzjwkVkOKra3wLAmEINRYg0M2Pi\nIJa8P3ZsAbdcMJ09p03myQ17eXFLzeEM9uTRudzw3qmcd/xYMtLfPdN0UW7m4cx2t7aOTrbVtrC1\nppmtNc1U1bfgQRDuhLLnq7fVs2z1Dv79/9Zz3vFj+YfzjmX+1NEpnRVX0C0iIiIxo4VxEtf4ETlc\nd+YUrjtzCi3tHbhDfvbAQ8XsjHSOLynk+JLCI9bb29jKC+U1rFi3h4/d81fmHjOSxedO46IZ40lP\nwZs7FXSLiIhIzGyvC2W6S3qMG5bEE4vpHEuKcvjbuaV8YPZEVm7ex2Ov7+bGX77CMaPzuO7MKVw0\no4SyMakz9ERBt4iIiMTMlupminIyKMhRCCIhWRlpXDxjPBeeWMLL2+p47PXd3Pb4Bm57fANTx+Rz\n4UnjuHjmeOYeMyqpM+D6ixcREZGY2VpzgPEjlOWWd0tLM86YWswZU4vZ29jK2u37Wbujnp+9UMlP\nntvK6PwsPnb6ZP7+vVMpTsLhSQq6RUREJGYqqps5aUJRvJshCa6kKIdLTx7PpSePp6W9g9d27Oev\nFXXcvXILP3+hko+/ZwqfOndaUt0boKBbREREYqK5rYN9TW2cf6Iy3RK+vKwM3nPsGN5z7Bh21h/k\nkbVV/OS5Cu57sZK/O2MKi9837R1ziycqBd0iIiISE1trmgGYoOElMkiTRuVy8wXT+du5pfzu1Z0s\nfWEr971YyYITS1g4ZyLnnziuz7nJE4GCbpE4icRc36D5vkUkebwddA98LmmRniaOzOWm847jb08t\nZcW6Pfy1opYn1u0hPzudi04q4aOnT+Y904oTat5vBd0iIiISExXVoaB7fJEy3RIZ40fksOisMv7u\nzCms393Ii1tq+dOGffzu1V2cPKmI73x4FrNLR8a7mQC8e2khERERkSjYWnOAMQVZZGUo/JDISk8z\nZk0aweJzp3HnNXNZfM40quoP8qE7X+BXq7bHu3mAMt0iIiISI5v3HtDQEom6rIw0zj9xHGdMG80P\nni7nq4+8QVtHJ584e2pc26WPmiIiIhJ1Le0dbNrTxLFjC+LdFBkm8rIy+KeLj2felFF86/fr+Ut5\nTVzbo6BbREREou6NqgY63ZleoqBbYicjLY2bzjuOCSNzufl/11JzoC1ubVHQLSIiIlG3dsd+AI4b\np6BbYis3K53PXjCdxoOH+Nbv18etHQq6RUREJOrWbq9n/IgcinIy490UGYYmj85j4ZyJPPrqLp7Z\ntC8ubVDQLSIiIlHl7ryybT/HaTy3xNHCOZOYNCqXf/ntGzS3dcT8/Aq6RUREJKqq6g9SfaCN6Rpa\nInGUmZ7G4nOmsbuhle/9cVPMz6+gW0RERKLqd2t3AnDK5MRYpESGr+NLCrloRgk/f6GStdvrY3pu\nBd0iIiISNV1dzrKXdzBzYhElWolSEsDHTp/M6Pwsvvyb12nv6IrZeRV0i4iISNS8WFFL1f6DnH/C\nuHg3RQQIzd/9ybOnsnnvAb72uzdx95icN2mCbjO71Mw2mVm5md0a7/aISP/UX0Ui72j9ysyyzWxZ\nsH2VmZX12PaVoHyTmV0S7jGHqvVQJ7f/YSMF2RmcXjY60ocXGbS5U0bx4VMnsWz1Dr67YhNdXdEP\nvJMi6DazdOBO4DJgBnC1mc2Ib6tEpC/qryKRF2a/ugGod/fjgCXAHcG+M4CrgJnApcBdZpYe7b5a\n19zO55e9yhs7G/j0udPIykiKkEOGkStPK+X8E8Zy18otXP+zl3i9an9Uz5cR1aNHznyg3N0rAMzs\nQWAhEL8ZzkWkP+qvIpEXTr9aCPxb8Pxh4IdmZkH5g+7eBmw1s/LgeIRxzAH7j8c38Mr2et6oaqCt\no4ur5x/DPGW5JQGZGZ86ZxplY/L535e2c/kPX6CkKJvp4wrJz04nPyuDGROL+PtzpkXkfMkSdE8C\ndvR4XQWc0bOCmS0GFgcvD5jZ0eaCGQPURKyFQ6f2HJna0w+7I6y2TIlFWwJH7a8wqD4bTUP+97Q7\nItSS+NLvIWRIv4cI/Q5699lw+tXhOu7eYWYNQHFQ/tde+04Knh+1r8LQ+uvtwaMfCfN/aT8SuX2J\n3DZI0vZtA17qVfapox8rrGtssgTd1kfZOwbfuPs9wD1hH9BstbvPG2rDIkXtOTK1p3+J1JbAUfsr\nDLzPRlMC/g7jQr+HkAT9PYTTr/qr0195X+M9+hzYGq3+mqC/68MSuX2J3DZQ+/qSLAOsqoDJPV6X\nArvi1BYROTL1V5HIC6dfHa5jZhnACKDuCPuqr4rEULIE3S8D081sqpllEbohZHmc2yQifVN/FYm8\ncPrVcmBR8PwK/n979x90aVnXcfz9cVkEttbdRXQYTdxVfoQlv2JcohKwmkEIfzROEJVhVk6iu0xZ\n0h9hOsz0AwySiRoERNHigRsAAAuASURBVCaZUQRb1GwZltAZ1GIB+SFrKOKKbLAWsOSmyy6f/riu\ng4eH51Dac+7r7H1/XjNnnnPfZxc+c+0557qe+/5e1wUbXNZCWwecWlc3WQkcSLmDns9qRId2i/KS\nWpt2JvBPwCLgMtt3/z//szNxW3tM8jy75JlslrJM6/M6bTPVhg2lHYqZa4dJnytJ7wVusb0OuBS4\nsk6U/E/KIJr65z5KmSC5E3i77V0AM/BZnbm2nmOW881yNki+Z1BXC4JHRERERAzV7lJeEhERERGx\n28qgOyIiIiJiygY56G69RbWkH5N0o6R7JN0taU09v0LS9ZLurT+Xd5hpkaTbJH2yHq+s2wjfW7cV\n3rPDLMskXS1pU22jYxq3zVn13+kuSVdJ2qvL9pF0maSHJd01dm7e9lDx1/W9fYekI6eVKyLih9W6\nH54nz6R++T2SviXp9vp4bcOM90u6s+a4pZ5r1jfOyXbwWBvdLmmbpLUt228W+87BDbo1G1tU7wR+\n3/aPA6uBt9cM7wZusH0gcEM97soa4J6x4z8H/qpmeYSyvXBXLgQ+Y/sQ4LCaq0nbSHoR8E7gp2z/\nBGWy0al02z4fomzdPG5Se5xIWZngQMpGFhdPMVdExA9sRvrhuSb1y1C+6w+vj0+3iwjA8TXHaH3p\nluOGp9j+yqiNgKOA7cC19eVW7fchZqzvHNygm7GtdG3vAEbb3nbG9hbbt9bnj1MGlS+qOa6of+wK\n4PVd5JH0YuAk4IP1WMAJlG2Eu86yFPg5yix8bO+w/SiN2qbaA9hbZd3bfYAtdNg+tj9LWYlg3KT2\neB3wYRdfAJZJ2n9a2fpC0nPqey8ipq95PzzXs/TLs65l3zjJa4Cv2f5GyxCz2HcOcdA931a6zT5Y\nkl4KHAF8EXih7S1QvgCAF3QU4wLgD4En6/G+wKO2d9bjLttoFbAVuLyWu3xQ0hIatY3tbwHnAZsp\ng+3HgI20a5+RSe0xU+/vWSbpI5KW1vfXl4GvSHpX61xdkXSdpHWTHq3zdU3SQZIukbRe0obRo3Wu\nnprp76k5/TLAmbXk4LJW5RuVgfWSNkr6nXqu1bjh2ZwKXDV2PCvtB437zt1ine4F9n/aoroLkn4E\n+Diw1va2coG58wwnAw/b3ijpuNHpef5oV220B3Ak8A7bX5R0IY1ulwHUL4jXASuBR4GPUW5DzTUr\na2/OzPt7N3Bo/dydDnwa+CPKL1R/2TZWZ85rHWDGfAz4W+ASYFfjLH03s99T8/TLFwPvo+R7H3A+\n8JZG8Y61/aCkFwDXS9rUKMdEdX7TKcDZ9dQstd+z6eQ9OcRB90xseytpMeWD/fe2r6mnH5K0v+0t\n9bbGwx1EORY4pU5u2AtYSrnyvUzSHvVqbpdt9ADwgO3RFYarKYPuFm0D8PPA121vBZB0DfDTtGuf\nkUntMRPv793E4vo5fD1wke0nJM1Ex98F2ze1zjBjdtrOHIhuzOT31Hz9su2Hxl6/BPhko3jYfrD+\nfFjStZQynVZ94yQnAreO2m2W2q9q2ncOsbyk+ba3tWb6UuAe2+8fe2l8C983A/8w7Sy2z7b9Ytsv\npbTFBtunAzdSthHuLEvN8+/ANyUdXE+9hnLrv/O2qTYDqyXtU//dRnmatM+YSe2xDviNOhN7NfDY\n6FZaPMPfAfcDS4DPSjoA2NY0UYdUdihEZTWEO+Y+Wudr4DpJvydp/7rCwQpJK1qH6qnm/fBck/rl\nOXW9bwDumvt3uyBpiaQfHT0HfrFmadU3TnIaY6Uls9J+Y5r2nYPckbJe1b2A7297e27H//+fAT4H\n3Mn366j/mFI/9lHgJZTB3ptsz50EMM1cxwF/YPtkSasok1tWALcBv2b7ex3lOJwyqXNP4D7gDMov\niE3aRtKfAr9Cmd1+G/BWSq1XJ+0j6SrgOOD5wEPAOcAnmKc9asdxEWXG9nbgDNu3TCNXH43dvei9\nsas9B8z3eutJUF2T9PV5Ttv2qs7DDEDrfniePJP65dOAwymlBvcDv9viQkbtk0ergewBfMT2uZL2\npeG4YU7GfSh10atsP1bPXUmj9pvFvnOQg+6ICJV1eC8HHqf8kncE8G7b65sGi4iIXhpieUlEBMBb\nbG+j3Kbdj3JH5c/aRuqepNWS/lXSf0naIWmXpMGU2YxIWizpnSobc10t6cxa4xsRsSAy6I6IoRrN\nVn8tcLntL42dG5KLKLfQ7wX2ppRPfaBpojYupmzq8Tf1cRTZXCoiFtAQVy+JiADYKGk9ZTnIs+sk\npSf/l7/TS7a/KmmR7V2UNfJvbp2pgaNtHzZ2vEHSl5qliYjeyaA7IobqtygTfO6zvb1OSDqjcaYW\nttcVJG6X9BeUTaCWNM7Uwi5JL7P9NXhq4lrW646IBZNBd0QMku0n64oVB0naq3Wehn6dUmp4JnAW\nZa3aX26aqI13ATdKuo9SZnQAw/wlLCKmJKuXRMQgSXorsIayCcLtwGrg87ZPaBqsI5JeYntz6xyz\nRNJzgYMpg+5NXS2TGhHDkImUETFUa4CjgW/YPp6yZODWtpE69YnRE0kfbxmkJUkn1J9vBE4CXg68\nDDipnouIWBApL4mIofqu7e9KQtJzbW8a2wl1CMZXahnyBjCvBjYAvzTPawau6TZORPRVBt0RMVQP\nSFpGueJ7vaRHgAcbZ+qSJzwfFNvn1Kfvtf20XSklrWwQKSJ6KjXdETF4kl4NPA/4jO0drfN0QdIu\n4DuUK957U7Y+ph7b9tJW2VqQdKvtI+ec22j7qFaZIqJfcqU7IgalrlTyNkrt7p3ApbZvapuqe7YX\ntc4wCyQdArwCeN6cGu6lwJBXtYmIBZZBd0QMzRXAE8DngBOBQymTKmOYDgZOBpbx9Lrux4HfbpIo\nInop5SURMSiS7rT9k/X5HsC/zC0riOGRdIztz7fOERH9lSUDI2Jonhg9sb2zZZCYKW+rE2sBkLRc\n0mUtA0VEv6S8JCKG5jBJ2+pzAXvX40FOIIynvNL2o6MD249IOqJloIjolwy6I2JQMoEwJniOpOW2\nHwGQtIL0kRGxgPKFEhERAecDN0u6uh6/CTi3YZ6I6JlMpIyIiAAkvQI4nlJqdIPtLzeOFBE9kkF3\nREQEIGkR8ELG7gLb3twuUUT0ScpLIiJi8CS9AzgHeAjYRZ1YC7yyZa6I6I9c6Y6IiMGT9FXgVbb/\no3WWiOinrNMdEREB3wQeax0iIvor5SURERFwH/DPkj4FfG900vb720WKiD7JoDsiIgI218ee9RER\nsaBS0x0RERERMWW50h0REYMl6QLbayVdR1mt5Glsn9IgVkT0UAbdERExZFfWn+c1TRERvZdBd0RE\nDJbtjfXp4bYvHH9N0hrgpu5TRUQfZcnAiIgIePM8536z6xAR0V+50h0REYMl6TTgV4GVktaNvbQU\nyEY5EbFgMuiOiIghuxnYAjwfOH/s/OPAHU0SRUQvZcnAiIgYPElLgP+2/aSkg4BDgH+0/UTjaBHR\nExl0R0TE4EnaCPwssBz4AnALsN326U2DRURvZCJlREREuQi1HXgj8AHbbwAObZwpInokg+6IiAiQ\npGOA04FP1XOZ9xQRCyaD7oiICFgLnA1ca/tuSauAGxtniogeSU13RERERMSU5dZZREQMlqQLbK+V\ndB3wjKtQtk9pECsieiiD7oiIGLIr68/zmqaIiN5LeUlERAQgaT8A21tbZ4mI/slEyoiIGCwV75H0\nbWAT8G+Stkr6k9bZIqJfMuiOiIghWwscCxxte1/by4FXAcdKOqtttIjok5SXRETEYEm6DfgF29+e\nc34/YL3tI9oki4i+yZXuiIgYssVzB9zwVF334gZ5IqKnMuiOiIgh2/FDvhYR8QNJeUlERAyWpF3A\nd+Z7CdjLdq52R8SCyKA7IiIiImLKUl4SERERETFlGXRHRERERExZBt0REREREVOWQXdERERExJT9\nD7RZt7bam8DpAAAAAElFTkSuQmCC\n",
      "text/plain": [
       "<matplotlib.figure.Figure at 0x1be0ac4f5c0>"
      ]
     },
     "metadata": {},
     "output_type": "display_data"
    }
   ],
   "source": [
    "f,ax = plt.subplots(1,3, figsize = (12,4)) #intialise the figure(f) and the subplots(ax)\n",
    "\n",
    "#plot a histogram and kdeplot of total scores. and value count of final_result which is categorical\n",
    "final['total_score'].plot.hist(bins = 10, ax = ax[0]);\n",
    "final['final_result'].value_counts().plot(kind='bar', ax = ax[1]);\n",
    "sns.kdeplot(final['total_score'], shade=True, ax = ax[2]);\n",
    "\n",
    "#add legend\n",
    "ax[1].legend(ncol=2, loc='upper right', frameon=True);\n",
    "ax[0].legend(ncol=2, loc='upper right', frameon=True);"
   ]
  },
  {
   "cell_type": "markdown",
   "metadata": {},
   "source": [
    "The above plots show that majority of students passed their modules (approximately 10,000), with just over 2000 gaining a distinction. Over 4000 students failed the course. This meant the total scores distribution is not perfectly normally with a visible peak at scores ranging from 0-10 (failed students) - I tested for normality below.\n",
    "The _final result_ plot validates the _total scores_ that I computed, there both have roughly the same shape. "
   ]
  },
  {
   "cell_type": "code",
   "execution_count": 90,
   "metadata": {},
   "outputs": [
    {
     "data": {
      "text/plain": [
       "(0.9772805571556091, 0.08144091814756393)"
      ]
     },
     "execution_count": 90,
     "metadata": {},
     "output_type": "execute_result"
    }
   ],
   "source": [
    "#test for normality - kolmogrov-Smimov\n",
    "np.random.seed(12345678)\n",
    "x = final['total_score']\n",
    "stats.kstest(x, 'norm')\n",
    "(0.9772805571556091, 0.08144091814756393)"
   ]
  },
  {
   "cell_type": "markdown",
   "metadata": {},
   "source": [
    "Testing the null-hypothesis that the total scores is sampled from a population that has a Normal Distribution. 95% Significance level is assumed for the tests. with p-value (0.08) less than the test statistic (0.98) we do not reject the null-hypothesis.\n",
    "\n",
    "The total scores thus passes the normality test."
   ]
  },
  {
   "cell_type": "code",
   "execution_count": 91,
   "metadata": {
    "scrolled": true
   },
   "outputs": [
    {
     "data": {
      "image/png": "iVBORw0KGgoAAAANSUhEUgAAAuMAAAD8CAYAAADdYqrDAAAABHNCSVQICAgIfAhkiAAAAAlwSFlz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\nAElFTkSuQmCC\n",
      "text/plain": [
       "<matplotlib.figure.Figure at 0x1be0ac4fc18>"
      ]
     },
     "metadata": {},
     "output_type": "display_data"
    }
   ],
   "source": [
    "f,ax = plt.subplots(1,3, figsize = (12,4))\n",
    "\n",
    "#histogram\n",
    "\n",
    "final['sum_clicks'].plot.hist(bins = 10, ax = ax[0]);\n",
    "final['studied_credits'].plot.hist(bins = 20, ax = ax[1]);\n",
    "final['num_of_prev_attempts'].plot.hist(bins = 6, ax = ax[2]);\n",
    "\n",
    "ax[0].legend(ncol=2, loc='upper right', frameon=True);\n",
    "ax[1].legend(ncol=2, loc='upper right', frameon=True);\n",
    "ax[2].legend(ncol=2, loc='upper right', frameon=True);"
   ]
  },
  {
   "cell_type": "markdown",
   "metadata": {},
   "source": [
    "Sum of clicks and previous attempts are both skewed to the right. On average the students clicks are less than 5000 but there are students who click resourses about 20000 times. It would interesting to see the relationship of this to the total scores.\n",
    "Most students have one attempt and studied 60 unit courses. The studied credit distribution is bi-modal."
   ]
  },
  {
   "cell_type": "code",
   "execution_count": 92,
   "metadata": {
    "scrolled": true
   },
   "outputs": [
    {
     "data": {
      "image/png": "iVBORw0KGgoAAAANSUhEUgAAAtUAAAK9CAYAAADrFJBcAAAABHNCSVQICAgIfAhkiAAAAAlwSFlz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\n",
      "text/plain": [
       "<matplotlib.figure.Figure at 0x1be02f51390>"
      ]
     },
     "metadata": {},
     "output_type": "display_data"
    }
   ],
   "source": [
    "f,ax = plt.subplots(3,2, figsize = (12,12))\n",
    "ax = ax.flatten()\n",
    "#barcharts\n",
    "final['gender'].value_counts().plot(kind='bar', ax = ax[0]);\n",
    "sns.boxplot(x=\"gender\", y=\"total_score\", data=final, ax = ax[1]);\n",
    "final['age_band'].value_counts().plot(kind='bar', ax = ax[2]);\n",
    "sns.boxplot(x=\"age_band\", y=\"total_score\", data=final, ax = ax[3]);\n",
    "final['disability'].value_counts().plot(kind='bar', ax = ax[4]);\n",
    "sns.boxplot(x=\"disability\", y=\"total_score\", data=final, ax = ax[5]);\n",
    "\n",
    "ax[0].legend(ncol=2, loc='upper right', frameon=True);\n",
    "ax[2].legend(ncol=2, loc='upper right', frameon=True);\n",
    "ax[4].legend(ncol=2, loc='upper right', frameon=True);"
   ]
  },
  {
   "cell_type": "markdown",
   "metadata": {},
   "source": [
    "With more males than females, the males outperform the students. It is also seen that age group greater than 55 on average performs better than the younger students. The highest age group is 0-35 and the students are predominantly not disabled. "
   ]
  },
  {
   "cell_type": "code",
   "execution_count": 93,
   "metadata": {
    "scrolled": true
   },
   "outputs": [
    {
     "data": {
      "image/png": "iVBORw0KGgoAAAANSUhEUgAAAtUAAALeCAYAAABldO2oAAAABHNCSVQICAgIfAhkiAAAAAlwSFlz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\nNtWSJElSn2yqJUmSpD7ZVEuSJEl9+huBav+ZCMoaiAAAAABJRU5ErkJggg==\n",
      "text/plain": [
       "<matplotlib.figure.Figure at 0x1be0d45fba8>"
      ]
     },
     "metadata": {},
     "output_type": "display_data"
    }
   ],
   "source": [
    "f,ax = plt.subplots(2,2, figsize = (12,12))\n",
    "ax = ax.flatten()\n",
    "#barcharts\n",
    "final['imd_band'].value_counts().plot(kind='bar', ax = ax[0])\n",
    "sns.boxplot(x=\"imd_band\", y=\"total_score\", data=final,  ax = ax[1]);\n",
    "final['region'].value_counts().plot(kind='bar', ax = ax[2])\n",
    "sns.boxplot(x=\"region\", y=\"total_score\", data=final,  ax = ax[3]);\n",
    "\n",
    "#add legend\n",
    "ax[0].legend(ncol=2, loc='upper right', frameon=True);\n",
    "ax[2].legend(ncol=2, loc='upper right', frameon=True);\n",
    "ax[0].set_xticklabels(ax[0].get_xticklabels(), rotation = 45);\n",
    "ax[1].set_xticklabels(ax[1].get_xticklabels(), rotation = 45);\n",
    "ax[2].set_xticklabels(ax[2].get_xticklabels(), rotation = 90);\n",
    "ax[3].set_xticklabels(ax[3].get_xticklabels(), rotation = 90);"
   ]
  },
  {
   "cell_type": "markdown",
   "metadata": {},
   "source": [
    "Most students are in England with a small proportion from Ireland. English and Scotish students perform higher than students from Wales and Ireland.\n",
    "In line with current literature, students perform poorer if ther come from highly deprived areas (10-20% and 0-10%) as seen from the imd_band boxplot, they are also the smallest proportion of students. It is interesting that students who are not deprived (the 90-100% bracket), are also not likely to attent open university but perform best when they do. The highest attenders (30-40%) are the average students."
   ]
  },
  {
   "cell_type": "markdown",
   "metadata": {},
   "source": [
    "###### Correlation"
   ]
  },
  {
   "cell_type": "code",
   "execution_count": 94,
   "metadata": {
    "collapsed": true
   },
   "outputs": [],
   "source": [
    "cont = ['total_score', 'sum_clicks', 'studied_credits', 'num_of_prev_attempts'] #list of continous variables\n",
    "continous = final[cont] #filter out of the final dataset"
   ]
  },
  {
   "cell_type": "code",
   "execution_count": 95,
   "metadata": {},
   "outputs": [
    {
     "data": {
      "image/png": "iVBORw0KGgoAAAANSUhEUgAAAcYAAAFYCAYAAADJDlwaAAAABHNCSVQICAgIfAhkiAAAAAlwSFlz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\nRK5CYII=\n",
      "text/plain": [
       "<matplotlib.figure.Figure at 0x1be0ac56f28>"
      ]
     },
     "metadata": {},
     "output_type": "display_data"
    }
   ],
   "source": [
    "#correlation matrix is produced using the new continous dataset\n",
    "sns.heatmap(continous.corr(), annot=True).set_xticklabels(list(continous),minor=False, rotation=45);\n",
    "plt.title('Correlation Matrix', fontsize = 14);\n",
    "plt.show();"
   ]
  },
  {
   "cell_type": "markdown",
   "metadata": {
    "collapsed": true
   },
   "source": [
    "1. Correlation\n",
    "With the aim of identifying multicollinerity, correlaton analysis is performed on the continous variables. From above plot, it is seen that the exists no highly correlated varaibles. Sum of clicks has the most correlation to total clicks, and is positive as is expected. With higher number of credits and previous attempts negatively correlated with total scores\n",
    "\n",
    "2. Scatter plots using pairplot\n",
    "With above insights, it could be visually displayed as below. This shows that the variables have different scales and so may lend itself to standardization so as to get the models working better. \n",
    "\n",
    "It can also be seen from below that though sum of clicks have a positive correction with total score. Those average clickers do achieve higher scores on average than the high clickes"
   ]
  },
  {
   "cell_type": "code",
   "execution_count": 96,
   "metadata": {},
   "outputs": [
    {
     "data": {
      "text/plain": [
       "<seaborn.axisgrid.PairGrid at 0x1be0a2e2f98>"
      ]
     },
     "execution_count": 96,
     "metadata": {},
     "output_type": "execute_result"
    },
    {
     "data": {
      "image/png": "iVBORw0KGgoAAAANSUhEUgAAAtAAAALICAYAAABW0sdqAAAABHNCSVQICAgIfAhkiAAAAAlwSFlz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\nBEHQAP4PSVvFJ3vT1N8AAAAASUVORK5CYII=\n",
      "text/plain": [
       "<matplotlib.figure.Figure at 0x1be02fcbcf8>"
      ]
     },
     "metadata": {},
     "output_type": "display_data"
    }
   ],
   "source": [
    "sns.pairplot(continous, kind='reg')"
   ]
  },
  {
   "cell_type": "markdown",
   "metadata": {},
   "source": [
    "## Clustering"
   ]
  },
  {
   "cell_type": "markdown",
   "metadata": {},
   "source": [
    "Arabie et al. define clustering as “Those methods concerned in some way with the identification of homogeneous groups of objects”. It is clear that students can be grouped by modules taken, it would be insightful to find out what charcateristics make the students better performing. This information can be used to inform actions that could be implemented to improve poor performining students. Total score predictive modules may also be improved if built for specific groups/clusters."
   ]
  },
  {
   "cell_type": "markdown",
   "metadata": {},
   "source": [
    "The clusters would be done using all variables, with dummy variables created for the catergorical variables. All variables would be standardized using MinMax method. This transforms features by scaling each feature to a given range ([0,1] in this instance). This scaler is sensitive to the presence of outliers (Pedregosa et al., 2011), with no prevalence of outliers in this dataset, it is not seen as an issue.\n",
    "\n",
    "To reduce complexity by reducing the number of variables used, principal component analysis(PCA) would be performed on the variables. By indicating for the creation of two vraibles, it would enable the ability to visually identify the possible number of clusters available."
   ]
  },
  {
   "cell_type": "code",
   "execution_count": 97,
   "metadata": {
    "collapsed": true
   },
   "outputs": [],
   "source": [
    "#convert categorical variables to dummies\n",
    "cate = ['gender', 'region', 'highest_education', 'imd_band', 'age_band', 'disability', 'final_result']\n",
    "category=  final[cate]\n",
    "category_dummies = pd.get_dummies(category)"
   ]
  },
  {
   "cell_type": "code",
   "execution_count": 98,
   "metadata": {
    "collapsed": true
   },
   "outputs": [],
   "source": [
    "#create a new dataset which has the dummy variables and continous variables\n",
    "new = continous[['sum_clicks', 'studied_credits', 'num_of_prev_attempts']].join(category_dummies)\n",
    "\n",
    "#this is then standardised using the MinMax Scaler\n",
    "min_max_scaler = preprocessing.MinMaxScaler() #default range of [0,1]\n",
    "new_stnd = pd.DataFrame(min_max_scaler.fit_transform(new),\n",
    "                             index=new.index,\n",
    "                           columns=new.columns)"
   ]
  },
  {
   "cell_type": "code",
   "execution_count": 123,
   "metadata": {
    "collapsed": true
   },
   "outputs": [],
   "source": [
    "#perform the PCA, using PCA module and fit_transform methos\n",
    "pca = PCA(n_components=2).fit_transform(new_stnd)"
   ]
  },
  {
   "cell_type": "code",
   "execution_count": 106,
   "metadata": {},
   "outputs": [
    {
     "data": {
      "image/png": "iVBORw0KGgoAAAANSUhEUgAAAX8AAAD8CAYAAACfF6SlAAAABHNCSVQICAgIfAhkiAAAAAlwSFlz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\nCeT/A9W9nGwzd1AVAAAAAElFTkSuQmCC\n",
      "text/plain": [
       "<matplotlib.figure.Figure at 0x1be04282b70>"
      ]
     },
     "metadata": {},
     "output_type": "display_data"
    }
   ],
   "source": [
    "plt.scatter(pca[:, 0], pca[:, 1]);"
   ]
  },
  {
   "cell_type": "markdown",
   "metadata": {},
   "source": [
    "From the figure, it can be seen that there may be 6 clusters present in the dataset. Given that k-means needs number of clusters , 8 would be used"
   ]
  },
  {
   "cell_type": "markdown",
   "metadata": {},
   "source": [
    "###### K-means"
   ]
  },
  {
   "cell_type": "code",
   "execution_count": 131,
   "metadata": {},
   "outputs": [],
   "source": [
    "# k=8 as pca plot suggests\n",
    "k_pca = cluster.KMeans(n_clusters=6).fit(pca)"
   ]
  },
  {
   "cell_type": "code",
   "execution_count": 132,
   "metadata": {},
   "outputs": [
    {
     "data": {
      "image/png": "iVBORw0KGgoAAAANSUhEUgAAAX8AAAD8CAYAAACfF6SlAAAABHNCSVQICAgIfAhkiAAAAAlwSFlz\nAAALEgAACxIB0t1+/AAAADl0RVh0U29mdHdhcmUAbWF0cGxvdGxpYiB2ZXJzaW9uIDIuMS4wLCBo\ndHRwOi8vbWF0cGxvdGxpYi5vcmcvpW3flQAAIABJREFUeJzsvXmUXFd97/s586m5qqur51GtebCF\nJWwL2UaGwDIOAZxAAiEhyQ3hJYuscJPwkpvcDPeStd66ee9mXZLHWyRcksBNciEEEkPABmMGGxvb\nWEKeZMkau1s9d3VX13iqzrTfH6UuS+qW1JOklnQ+Wr3UVWfX2ftUV/3O3r/fb39/khCCgICAgIBb\nC/l6DyAgICAg4NoTGP+AgICAW5DA+AcEBATcggTGPyAgIOAWJDD+AQEBAbcggfEPCAgIuAUJjH9A\nQEDALUhg/AMCAgJuQQLjHxAQEHALol7vAVyK5uZm0dfXd72HERAQEHBDcejQoawQInOlduvW+Pf1\n9XHw4MHrPYyAgICAGwpJkoaW0i5w+wQEBATcggTGPyAgIOAWJDD+AQEBAbcggfEPCAgIuAUJjH9A\nQEDALUhg/G9QPM/D9/3rPYyAgIAblHWb6hmwEN/3mZ2d5cknn+To0aMUi0UAent7edOb3sS2bdvQ\ndf06jzIgIOBGYE2MvyRJfwe8E5gSQuxc5PgB4KvAmXNP/asQ4hNr0fetgu/7TE9P8/DDD3P69Gnm\n5uYax3K5HC+88AK7du3iPe95D11dXddxpAEBATcCa+X2+RzwwBXa/EAIsfvcT2D4l4llWQwNDTEx\nMUGpVFq0zalTp/jBD36A4zjXeHQBAQE3Gmti/IUQTwKza3GugMWp1WqUSiVc18V13UXbVCoVnnzy\nSR5//HGq1eo1HmFAQMCNxLUM+O6TJOlFSZIelSRpxzXs96ZAlmUSicQlDf88vu/z8MMP8y//8i8X\nuIYCAgICzudaGf8fA71CiNuB/xd4eLFGkiR9RJKkg5IkHZyenr5GQ7sxCIVChMNhotHoktqfOnWK\nF1544SqPKiAg4Eblmhh/IURBCFE69/sjgCZJUvMi7T4jhNgrhNibyVxRlO6WwnEcKpUK+/fv50rv\njSzLlEolpqamsCxr2X25rks+n+f06dO88sorvPbaa0xOTmLb9kqHHxAQsM64JqmekiS1AZNCCCFJ\n0p3Ubzoz16Lvm4W5uTkikQjpdJqf+qmf4itf+Qr5fH7RtkIINE0D6jeC5WDbNtlslqGhIUZGRnAc\nB8/zSCaTdHd3MzAwQCwWW/X1BAQEXF/WKtXzC8ABoFmSpBHgTwENQAjx18B7gd+QJMkFLOD9Qgix\nFn3fKriuiyzLyLKM4zh0d3ejKAqzswvj7EIIEokEvb29GIax5D6EEBQKBYrFIhMTExiGgaZpeJ6H\n4zhMTk4SiUTQdX1Z5w0ICFh/rInxF0J84ArHPwV8ai36ulWJxWKMj49jmiahUAjDMOjo6EBRFC6O\nj7S0tHDHHXewe/fuZfXh+z6O4zRWFJ7nYds21Wq1sSKQJAkhBO3t7UQikWWvLAICAtYHwQ7fG4Rk\nMkk+n6dQKBAKhYjH44yPj7N582Z27tzJ8PAwvu+zZ88edu/efcW4wGJIktQw7pIkUSwWcV2XSqWC\n4zg4jsPc3By5XI54PI7ruqRSqatwtQEBAVebwPjfICiKQk9PD6VSiWKxyL59+xgZGWFkZATXdbn9\n9tu5/fbbaW1tRZKkFfUhyzLhcJhIJIJt25TLZSqVCvMeumg0iq7rVCoVoL73wHGcRnwhICDgxiEw\n/usQIQSjo6M89thjHD9+HNu22bRpE+95z3tobW0lmUwCdU0f13UvCPCulmg0SiaTQZIkfN/Htm0k\nSUJVVZLJJLquY5om5XKZaDRKELoJCLgxCYz/OiOXy/HVr36VZ5555oLnX3jhhUbefktLC3/2Z38G\ngKqu7Z9QlmVM0+T2229nYmKC0dFRVFXFdV0ikQixWAxZlhvuIUVR1rT/gICAa0MQrVtH+L7PI488\nwrPPPnvZdlNTU3z84x+/auNwXZdEIkFraysdHR1kMhmam5vxPA9JklAUBVVViUQiyzL+81lDgRR1\nQMD1J5j5ryMmJyeZmJhYkiulWCzy0ksvsXPnzjXPuNF1Hc/zaGpqQpIkRkdH8TyPcDhMKBQinU6T\nyWQwTXNJ5/N9n3w+z+zsLHNzc4yPj5PP55FlmUwmw8DAAK2trYTD4TW9joCbA8+uUpkcYuL5r1M4\n8WM82yK5aQ9t9/4c0fYNQcbZCgmM/zrCtu1l+dD/9m//ll/91V9l27Ztaxp0DYfDWJaFEILm5maS\nySSWZZFIJIhGo8t2NeXzecbGxpicnOTw4cMMDw8vEJ4Lh8M8+OCD3HvvvUu+qQTc/PhOjdLoCU4/\n/D8onDiEqBTBc6kcP8TYD/6N/vd8jO77fw5ZDepYLJfglrmOaG5uRtf1JWfrVKtVnnnmGcbHx9c0\n8KooCul0GtM08X0fXddpb28nmUwu2/B7ntdIUR0ZGWFiYmJRmYhKpcIjjzzCd7/73SCIHNDAKeeZ\nfe15ysNHEK6NbIZQ4k1ghKGSY/SH/0Lu+PPXe5g3JMHMfx0RiUS48847yeVyjI2NXbG9oiicPn2a\n733veyiKguu6tLa2smvXLlpbWxddDfi+T6VSIZfLMTo6ytjYGJFIhL1795JMJhs+fEVRiMfjq74m\nIQTVahXLssjlcpctP1mpVHjuuee44447aGtrW3XfATc+vm1hjZ3AdWzw/fpnp1ICvwaAfeJHvPy5\nP2LHL/wZzTvfhBS4gJaMtF5nWXv37hUHDx683sO4Lpw+fZqnnnqKp59++pJt5rNtoO6jv3g2vWHD\nBt71rnexdevWxkrC8zzGxsb4wQ9+wFNPPYXneQvOu3fvXt7+9rfT29u7JtcihODMmTOcOHGC48eP\nc+rUqSuKzbW2tvKzP/uzbN++PfDn3uLU8tOc/uqnmHzqX8CugGsDi0weUu30PfhR+t7x4Ws+xvWG\nJEmHhBB7r9Qu+GatQzZs2MCHPvQh/vAP/5D77rtvwXFFURpGUVGURd0op0+f5tFHH2VkZKTxXLFY\n5JlnnuFHP/rRooYf4ODBg3zpS1/ixIkTa3ItkiTR3t6OpmkkEokluXQmJyf51re+xdDQ0JqMIeDG\nRYsk0JtawbPBrbKo4ccAq8LIY3/P7OCRaz3EG5bA+K9jOjs7ueeee/jQhz5ET09P43nP8xrG+3Iz\n48HBQZ555pmGwc1mswwODl5x5n327FleeOGFNSsHGQqFuO2224hEIjQ1NS3pNdlsllOnTgVpobc4\nrlVEWCWklu7LtLKhmsedPsXLn/mPnHz4k1QLyxMNFkLglAsUR45THHkNu1xY3cBvAAKf/zpGVVV6\ne3tpa2tj+/btDA0NcfjwYXK5HM3NzczOznLy5MlLvr5Wq3H48GF27NjB1q1bsW37ipXA5l83PT3N\n9PQ0HR0da3ItsiyzadMm+vr6eOyxxxgcHLxs+3lNofXqlgy4NlQmz4AvUKpVXCRgsc/D/HMqKiql\nEz9mxHHof+i3UZaQoCCEoDR6grmjP8Qt50F4SIpB8rYDJPtu3qKDgfG/ATAMA8MwSKVS7N69G9d1\nyWazvPDCCwwPD192hu55HocOHSKTydDW1oamaYvGCM5nXjo6n8/T2tq6Jrt4y+Uypmmi6zq+7xON\nRi9ZiB7qwe+WlpbA53+L49s1bKeCcGtgJqBaBBZ3WWKYmOEwSjhFZfQYtZlxwq2XWzHUca0Sc0ef\nQfguZqYLfA+vVmX20DcxExnMVMvaXtQ6ITD+NyCqqhKLxejv7yedTlMulxdtp2ka0WiUXC5HsVik\np6eHO+64g7m5ObLZ7CXP39TURF9fH47jMDExQTabpVQqEY1G6evrI5FILHvMiqJc4KoKh8PYtn3J\nm9DAwMAFweqAW5NQugtZUpC1EJ5jgxGB2iIuGSVMqO82FD2E8C1838OtXnpycT52bgKnPIfR1Ep1\nZhy3NIs9N001nwVVp23fuzCbOpDVm0vAMDD+NyjzWvpvfOMbyWQyvPzyyxcYUtM0SSQSaJp2wcz9\nrW99K83NzTzxxBMcObIwOJZKpdi3bx+9vb0cO3aMb37zm+TzeUqlEo7joCgKO3bs4KGHHqK1tXXJ\n402lUszOzqLrOs3NzYyOjpJIJLBt+4KKZKZp8va3v5177rlnRTeZgJsLvbmL+MY7yL/2HE61ALIM\n0Qy4PlRnARNicSJ9t2GYBr5VwXVddM1ATy3t8+kLAb5HbWYct5ynPHaKWn4CzyqR/VEBr5yn5a53\nEt9w+001GQmM/w2MZVmkUqnGjWBoaIhSqYQkSUQiEVRVxfd92traCIVCjZvAvPwz1GsDDw4O8tpr\nr9Hc3Ewmk2mc68yZM5RKpYaev6Io+L7Pq6++SqFQ4Nd//deXvBcgFArR09PD+Pg4fX19zMzMUC6X\nCYVChEIhJEliz5497Nu3j+bmBeWdA25RFEWhde87kGSVs4//A5Xx4+DUUEwduW03TQN7qEycxK/M\nYjs6fq2K4idoOvB+zPjSkgvM5k5836E6PYY1fQZrYhAllEAJRdGSaezCDDOHHyPcuQnNjFzlK752\nBMb/BiYajVIoFEgkEmzduhUhBKdOnaJcLmPbNrqu09LSwo4dO2hqalrUf65pGgMDA0SjUfL5PJ7n\nUSwWKRaLlEolFEWhVquhqipCCHzfx3VdJiYmePzxx3nooYcWzIZc16VcLnP69GnGxsbYvn073d3d\nxONxotEovb29bNq0iePHjzM9PY2maezYsYOBgYFA2uEWpVbMM3bkSfLPP8rc6CCEInS+9Rfp3fNW\n9FCE9jc+QHrbPkqTw/h2GaOpAyPWRPHkIQrDnZRHXsOenSAysIO2/e8mtemNS+5bMyNoqQ4mn/l3\nHCsPtosQORAxlBYdxTCpzk3h5LOB8Q9YH3R0dDA5OUmxWCSRSHD77bfT3t6OqqqEw2FM02RgYIBE\nInFZWQZZlmlpaSEUCjWCsOl0Gl3XGzeE+drB85TLZZ577jlaW1u56667GquMo0eP8tnPfrZR8AXg\na1/72gX9/cZv/Aa7d++mr68P3/eDoO4tjBCCs098gTNf+xRi6vQFx0ZP/IDRc7/v+N0vknnDAZqi\nuy5ok77tzcQ37QXfQQnFV/RZ8j0Xe2aEcNcmKhPD+NUiWjiB51apFWYx0l31fQY32ec0MP43IEII\ncrkcw8PDFIvFhnRCU1MTe/fuXVE1L0VRSCaTJBIJHMehVqvR1tbG1NQUwIKMIkVR0DSN1157jZaW\nFjZt2sTIyAh/9Vd/dcW+Pv3pT3PgwAE+8IEPBIb/FmfmpScYffIrCwz/xRz5i/dz+3/9PqmBrQuO\naaHVzcad4hxetUS0YxM4Naysg6TISL6CVy3jVUvoqQ6M5NJjXDcCgfG/AZjX45mamsJ1XfL5fMPw\nQz2dM51OA3U3znwN3pUgSRK6rtPa2kpfXx+vvvrqJcc0Xyd4eHiYDRs28Nhjjy25n+9///u8733v\nW/NiNAE3FtnD38atzC2p7Yuf/ihv+q//hh5ZvebU+UiahqLqKKEk4d4duLUabimL77moRgwtnKRl\n37tQtOUrh/q+jzUzTnHwZazcJG45T7h3B20770HRjTW9juUSfPPWMb7vc/DgQb7+9a8zOTm5aJvb\nbruNRCLB9PQ06XSaM2fOIMsyyWRyVZkJLS0tFAoF9uzZw6uvvsrExETjmCRJNDc3Y5omiqI0dIaG\nh4eX1cfHP/5xfuVXfqURfA649fCqJWRJuVTm/oVMHGHwq5+k/c0/T6xz45qNQTUjhLp3UB56GSPV\nTvPu+ylPDmNnh2m9612k73gbZiKz7PPahRkmnv0qk899jfLJl8F7PSX7BBDZ/162P/R/EmlbGx2t\n5RIY/3XMvM7O/Ax/MV566SV6e3tpaWnBdV18328UVtf11Wucd3V14fs+6XSa6elpXNdFVVWi0SiO\n4xCJRGhvb2/IQF/qJrUYlmXxla98BU3T2L59+6rHGnDjEe7eQWH6ygq28+ROHsZIthBu7kQxQmsy\nBllRydz+FiRJYI0cx3NqhOJNtL3pIdLb7l7RJMp3amRfepLZV56mPDl+geGfp/z0lzmJwdaf/32M\nxLXfSBYY/3WK53k8/fTTS5JjGB4eJhqN4vs+mqY1iq+vlnA43DDq4XAY13UbN4BqtUoqlaK/v5/e\n3l4kSeK9730vn/jEJ5bVR6FQ4OGHH+bs2bPE43G2bt1KKpVa9dgDbgza3/QuKmdfYXq6C2ZHLt9Y\nCWPPjlPNjjH1ylMIz8F1akQyvcS7NqGFY4u+TAiBWyniWCWsuSxuOYeZ7iTa0t1wvRjxJtrufCe1\nbXmEU0GLZdDC0RWvniuzk9iFKdzKLMyNXrJd7ukvcCbVxpaf/R0k+drWww6M/zrF931mZ2eXFBAV\nQlAqldB1nXQ6jRBiTQKp6XSabDZLoVAgFos1dgfbtk0qlWLHjh2NAjRQF6L7wAc+wBe+8IUl92FZ\nFkNDQwsUPN/73vdy1113rUlNgYD1i5lqY+PP/wnxl57k1D//OeQuoeQqm6BreLZFYfAIs0efxi7O\nIqoVUBSM9o30/sSv0HrnAyj66ysCz3WY/vHjjD31rxSOfBdqF83AEx1seN/v0bb3HejRBOH02qwm\n8B2QJBACuNwEzmfi63/BxKGvsfujnybZt3Nt+l8CQarFOkVRlMbmraXQ3t5OV1cXpmmiadqqyzp6\nnsfc3FwjAFwul6lUKnR0dLB//37uv/9+Ojo6FriWDhw4wN/8zd/woQ99qBEQXglf/vKX+cIXvkCh\ncPOrK97qGPFmuu/5ae7979+j+2NfROrc9vpBSYdoEkJhcByUcJLa7Ai1Yg7h2qiRGJIexp48w/iz\nDzN18FsXnHv2tecZ+c7nKBz5/kLDD5Af4/Rn/yMn//cnsCtr91kzYmk0M4K+1Ayh8RO8+jcfwzov\nRfpqExj/dYosy7z5zW9ekqplJpPh3nvvbeT2p1KpZS1XhRA4jkOxWGRubo7Z2Vm+973v8eijj/Lc\nc8/x2muvUS6XKZVKFItFstks2Wz2sq6l/fv38+EPf5if+ZmfuUCOejkcPnyYH/7wh0tyfQXc+ChG\nmJ4de7jjY58l8/bfQEq1g6pCxYJqBcwIRlMbwheoqoas6UiyiqIoCM+lNPIasy99h/JUPfHA91zm\nXn6yLu/sVC/b99Srzyy4cawGLZok1rcTwkvfrW6ffY2z3/gUtdzElRuvAYHb5yrgOA6e56EoCqqq\nrthvuG/fPnzf51vf+tYlA6nhcJgPfvCDDAwMACzb6B8+fJivf/3rjI4u9Es2NzfT399PKBRiZGSE\nnp4eXNfFdV0mJyfxff+yks99fX00NzezZcsWnn/+eY4cOcL09PSS6wQIIfi3f/s3yuUy991336pW\nEgE3Blo4hhqKsvUDf0D+7p8ke+hxrNkR0MOkN++lWpxlYmoQCZAlGd+28OwaVCsIx6Uw+DKj3/tH\nOg98AKOpE7swU/9OXGkSlZtk6rmv03bng6hrtIs32rsL3/ncMl7hUhp8kalD3yS17R6ia5jRtBiB\n8V9DfN9vbLqaT3/UdZ1kMrliH/z+/fvZv38/4+PjnD59mpdffpmRkRHC4TC7du1i//79Sy6QcjEH\nDx7kH/7hH6jVaosen5/hd3R0EI1GmZubw3VdTNMkk8mQy+XIZDKXdTFFo9GGpMMDDzxAPp/n+eef\nZ3h4mKNHjy4pMP30008jhOAnf/InCYXWyCcbsG6RJAlF02navJemzfVqhNXZcbxKkdLEGbKhGHY5\nj7AthOvA/GTCDCOpKn7NYvbFJ2i752cIt/YwN/giyCp4l1lBGgaKDIXTL9K0/U1rdh1ubumZTKCC\npCJJOqWhlwm39CCvYG/BMnoLWCssy8KyrAv0aWq1GuVymVhs8UyEpdLa2ophGAwMDCy4sawEz/P4\nzne+c0nDfz5TU1PUajUkScIwDLLZLEII0uk0nuctOb4wfyOIRCJ861vfYmRk5AJFz0tRqVQYHh5m\nfHycDRs2LKmvgJsLPd5MzbUxki003XYfU898Ddey6rIL+KBH0aNJQs394DsIt0p1+iyZfQ+RO/oU\nTj4J+Uu7U9RYC9Et+ygMvkKtXKIydgIhCyKtm4h2bSTU1LbsFYEkSRiJdpYmLA1SSy9mLIVfK+Cp\nMl6tvP6NvyRJfwe8E5gSQiwIV0t1X8RfAg8CFeCXhRA/Xou+1xOWZS0whLquU6lUiEZXnjYG9RhA\nKpXCcZyGHs58WudKcBynId1wJVzXpVQq0d/fTyKRIBQKNa5pJYHlZDLJAw88QLFY5Pnnn79ieyEE\nnuddtvhLwM2NrGqYzd3oiQyhTBfxTXdz9tufpTx2EmyXSOcAkfZ+tGgSZy4LsoIQPrGWLrb80n9j\n5Pv/yPiPvgnTpxaePNVJ+o1vxy5kmX3x23ilPH4lD865cqdKmPDAbXS/9RfJ7HkHqhle8rjb3/p+\nZg49CrXLT3LCm+4mObAbtzADAmRVAeXqzs3X6uyfAz4F/K9LHH8HsOncz13Ap8/9f9Ox1nrf80qa\nkiQhy/KabNwCGhW9LlUIZrH2hmE0ZJ19379AJnq5hMNhEokEmzdvZnJy8rIrAEVRMAyjIWERcGsi\nyTKKEUYxwrTtfTuaEaJw5iWsseMo4RiSquFWikhmGFnVG1o8kfZ+tnzgj9n43v+EVy0xd/YkE09+\nEWt2hOTWfSQ6N1KZHGTq4KM45QL4HjjnrYi9CpWTLzLse7i1Kp0Hlq5J1bzlbvp/4U8487n/DN4i\nQedUL8n+HYTS7QjXwZcEvqxiNHWhmtG1eNsuyZoYfyHEk5Ik9V2mybuB/yXqqSvPSpKUlCSpXQgx\nvhb9rxdCoRDFYvECt4/jOA29+uViWRbFYrFhbOdvBPM7bFezmlAUhX379vHoo49eMaMoHA5zzz33\n0NLSQq1WIxQKoarqqgKw8yuXRCJBoVCgVCo1Kn1dTFNTExs2bKC9vX3F/QXcfMR6t+NaBYRXpTJ2\nCt/3kCSZcOcWor070RMXZtoomoaipWjZ/kbSm9/A3LEfYk2fxS7NUho8DEgoqolXmQRJBnFePMq3\nsE6/ymT4EZLb3kSsvf+CcwshsOayzBw/jPAdkj07CKczKEaY3vs/SPOu+zn+jc+Qf/FxsMsYHZuJ\nD+xF11SolalkzyK5DrG+XSQ27CLef/ULx1wrn38ncPa8xyPnnrvpjL9t21Sr1YZffr6U4nKpVqvk\n83l0Xcd1Xc6ePcv4+HhjxqHrOh0dHfT19a3o/ADvfve7mZyc5NChQ5e9pj179rBx48ZGZS3HcahW\nq6uqtKUoCgMDA+RyOdra2nAcB9u2F0hZZDIZ3vGOd7Bnz55AATTgAvR4msSmN6LHUpgtvXiVEnpz\nN8n+nVdU4FRUlfTO+7CLszilAvbMGEJScQvT4LqLZwf5ZUqvPM2pf/5ztvzinxBKdyCE4PQ3P8/Z\nf/pPl+wrdPf7ues3P8kbfum/AP/lgmN2YZpqdhwhSeiJZvRoCkW/NjUtrpXxX+wWtuDdlSTpI8BH\ngBXnhl9P5gXV1sIvX6lUGq+dmZlpBFkrlQqxWAzbtslms5imSWdn54qzYD7ykY8wOTnJ4OAg4+Pj\nnDhxgomJCQzDYNu2bRw4cICWlhYmJiYaG640TaO7uxvDWLkqoeu6dHd3Mzs7y4kTJ4hEIiiKQnt7\nO21tbaiqSlNTE/v37yccXrqPNeDmxPdcvFoF37VRNBNZMxC+hx5LYiT3kfA9JFlZ9ndNjzWhx5qI\ndm3FqZbPvV7ikkXifZfK8EuMPfMw3Qc+yODjf8fYl//8sn1Yz36R7z/7RQ7848KAsx7PoMevTwrz\ntTL+I0D3eY+7gAU5UEKIzwCfAdi7d++VdzetQ+Z3xK4Wx3HQNA3XdRuSCqqq4nkepmlSrVYbAm6l\nUgnTNFe8TGxtbb1iPd7e3l5s28b3fXRdX9EsfF54LpvNMjw8zMzMDMViEcMw6O3tRZZlFEUhHo/T\n19dHf39/UNnrFqZWKWPnJkA1wLGQZRlJUbCmhvFrFnqyBUmSUEMx9ERmVW6S5PY3UcuNU2nfhFPK\ngXWJLDjNwJNlrJGjWJNDjH3jM0vu44XP/Qm7f3l52ldXk2tl/L8G/KYkSV+kHujN32z+/rXGNM1G\neqXrusiyTK1Wa2TXqKqKbdsNEbfVaPgvleXe1IQQnDhxgs9//vNks9kFx7dt20ZzczO5XA4hBIlE\nglQqRW9vL01NTYHW/y2I7zpUJgY5/Y1PM3v421Cafv2gmST5pp+mbec+9GgzCB81nMC1SiDLGCuQ\nXX791C103v9BYhv3kDt+iLOPfRZy52981MAIg6YhIYEvqJVmwMotuY+5xz/D2c5NtO1/N1r4+mtW\nrVWq5xeAA0CzJEkjwJ8CGoAQ4q+BR6ineZ6knur5K2vR781MJBKhVqs1ZvrnB3vnZZsNw2gob65H\nf/hXv/pVHn300UseP3r0KFB38cXj8UZa7LzCZ7lcXlVcIeDGQvg+xeEjjHz/S8w+/whULyryUp1j\n7rt/R+Xo0/T/9O+gGAZaJIGsG7jlOfRYGmkV3wM1HKdpy500bbmTcHsfY9/8O4ojx0B4ICvgC9BD\nyLKM0bkZI95M3YQuXX7k1Jf/O05xmt53f2zFmXJrxVpl+3zgCscF8NG16OtWQVVV0uk0lmXR2tra\ncO8Ui0XK5TKRSISWlhZUVV2x8qUQgmq12ghQS5JEsVjEcRxisRjRaBTDMFa0oqjVapc1/OczPDxM\nS0tLQw7Dtm26urpWFVMIuPFwrSJOcYb8iWeheukUZDs7xsRTX6LvnR+llpvEtYrYhVlcq0KouQM1\nkkRWVyds2LzrLVQnh6mWcjjTw+BboJiomkG4ayup3p2EW/tRN96Fe/LppZ+4PMnw4ScoV4pE2jfR\nvvcBQomV7dBfLcG6eh2jKEpjR2wymSSXy2FZFrZto+s6mUyGeDy+oo1WQggKhQKWZaEoCmNjY5w5\nc6YRW5gPvvb19ZHJLN+fevz48WW1L5VKGIbRuNlMTEzQ0nLtC1wEXD+8WgVfSHhWGbiM/pNTpDj8\nKnOvHcTIdCIrGpIs49VKlMdHMaHfAAAgAElEQVROYqTaMJs7kdWVx940w6DvwY/QvOsA2Ze+z9zo\nUVTPw8z0ktl9P9HurahmhH1//CV+8HtvgcnXln7yM88xc+Y5ZoDhv/+d+nO9b2TH+3+PzK57Vzzm\n5RIY/xUw73aZlzbQdf2q+tslSSIejxOJRPA8D1mWV+0PdxynIUUxNzfH+Ph4oyRjJBLB931mZmbQ\nNI1QKLRseYrlxgdqtRrVapVwONzYTBb4/G8tFDOCDKiJFrzsJXT96y2RVBPZjFAeO0Eo1U6sbwey\nquNW6xlBTnEWI9W2rP49u4pXqyCrGmooBkIQ7d5MtGsjvusgyfKCG4qiKBz4iyeYPnmUU9/7Z6pP\n/PXyLxxg6HmOfPLX6H3/H9P/tg+u7BzLJPh2LRPXdcnlctRqNYrFYiP1sqen56pnpiiKsmZ+Qsdx\nGnsRcrkcsizjeR6qqjaybizLahxfrvHfvHnzstq3tbU19jT09PQQDocD43+LoZpR9GSGljt+grOD\nr4BnLd7QjJPcvg89HEG4NWRVbRhlCZAUFbdaZjGnoe/7uJU8bnkOoRqomoGsh3HmxrEmB4H6CsSp\nVdHCcbRQBCPTi5nuuGxcLbNxG+m+/0ztXb9MYfQkR//nx6G4TGnm2hyjj/017ff+zDXJcgu+Xcuk\nUChQq9UYHx9vlE2cnp6mXC6zdevWG0Z1UlEUhBCNLCFFURrGf97/P18R7FI7by/HfFnHL3/5y0tq\nf//99zf2NaTTaWzbvmHey4C1QZJlot3bUENxfN9j9BufhurF9as1UrfdT/s978Mv5lBdF+HXs8KF\nEAhAkuRFA79ezWL6pSeZPvQIMy99HwoXyaS3bKb/7b+E79tIvoesqhjxJiqjr4HnEG7rX3DO85FV\nDTPTjRpLs/t3/54jn/9TnDM/WtZ74I6f4KVP/xa3/dKfYTYtsRDMCpGWUizkerB3715x8ODB6z2M\nC/B9n+npaWZnZymVSo3NR57nUavVaGlpobe39zqPcmnM59tLkkQ+n2doaIhcLockSUSj0Ybmz4YN\nG+js7FyxlMPIyAj/9E//xOnTpxc9vnHjRh588MHGzl7XdYnH4/T29gaZPrc4jlUie+wguZe/Q61a\nQjdTpPq2E+vZjBACuzCLNXEaxYwRbu9HeC5qOI6s6uiptgU1fbMvf5+hR/+W4tGnwbl0xazQwB5a\n734PqqIQ2/AGkMAr50lu37+sQLLnedSyZ8mPnaFw9GnGn/43yF+6nu/raLS85efZ/HN/iBpZ/ndA\nkqRDQoi9V2oXzPyXiRCCYrG4YFZqmialUuma5NuvBbIs09TURKFQwDRNYrEYtVqNmZkZpqamUBSl\nodm/Gk2drq4ufv/3fx/Lssjn84yPj+O6Lul0mmq12shYsm2bubk5DMOgvb19zQTsAm5ctFCU9jcc\noP0NBwBwK0UKp1+gVphBVlQQPqGOTWiRFMKpoIZiyHoIPda0wPB7NYv8qRepjB67rOEHsM68ylxT\nJ83b7gYEsqLiCB/h2rAM468oCuHWPkItvajCoZqbIvfMl5bwSofiyHFyJw6R2f2WJfe3XALjvwxk\nWSYcDiOEwHVddF1v/D6vcHkjGP555iUUEokEra2tzM3N8eKLLzauMxKJYJom2WyWVCq1KoM8//7o\nut7YJSyEwLKsRpnG5ubmVRW+Cbi5UcMxklvupJrP4tfKqOEkerwJWVERvo+Yl3hY9PMjsCYHEZcr\n6DKPb2GNHsXu2Y7v2iCBLKtI2spSjyVJInXbWzAy3ZRzk9jHnrjyEOwq1ZmRFfW3VALjv0yi0Sit\nra2cPXuWUOjchg/DwHGcC1ITPc8jl8sxOzsLQCqVoqmp6bpv7FiM+UDy/Kz74uCubdtYlrXq2biu\n6wuqjkWj0cYO5tWUvAy4efDdeprnYi4WWTMIN3cueF6SF/fzz6MYYYx0R32j1hIQnkBPtlKdGUVW\nDeL9t9dXGytEVVXi3dvY8p7fYvJH/eReeQpn6uQl22vhGHpyedlKyx7TVT37TYgsy/T19WEYBtPT\n0w03T1tbW8OwCSEYGRmhUCgQiUQQQjAxMUGlUqGnp2ddG7i1jAGVy2UGBwfJ5/PEYjHi8XgjbTUe\njzeyitbjDTHg2uM5Ncpjx3HzWXxfoERiKJEkuhFGS7SirDL7q/v+X2T62X/HLuXAv0wFOzVGZONe\ntHAEWVbRk62Yma5V9T1PYuMdFM78GLdnM7OFaaguUsdCjxHu3UVy4PY16fNSBMZ/hbS3t5PJZC4o\n1D5PpVKhWCxeELBMJBLk83kqlQqRyNoUiF5rwuEwsiw3ROWAhktmucqauVyOJ554olEmcr7g+5Yt\nWzBNk5aWFjZt2hT49gOAc/WvB1/Gq1XQYk1Y2VGmn3oc37EwmzvRwknSu3+CSFvfivsw023s+D/+\nB8f/9ycon3juku2itx2g94FfI5SsFw+qbzpbG1QzRNfbfo253oMYbZsY//HjMHaMhoporIX2N3+Q\n7rf+/BVlqVc9lqt69pscVVUXzUWfF1y7GEmScJzL7Fy8zqiqSk9PD2fPnsWy6jnWsizT1dW17F3E\nL730Eq7rkslkGBkZwff9xkqgu7uboaGhxv6IgADPKuBW8hiJDE6lSP7kIWTdQDEMjHgG4XlM//hb\naG9+P/oKMmDmSWzawxv/9KvMHn+e2TOvMnn6FZyjT4Nno7cP0LzrXjrvfCfquTx733WQVlEudR4h\nBL5TAyGQ8Elu2Ely4+1sfOi3ca0ClfEzYESItvWhha9uBa95AuN/FZgPal7MfHGX9Uw0GmXTpk1U\nKvWMiJVstnJdl6mpKZLJJK7rMjs726h1ML+ruFgsMjo6Snd397p2gwVcG3zHRqLus6/lJvCrFkYq\ng1sp4rsOeiyFlx3DmjyDvmH3qvtr2vxGYu0bad+1H+mh30D4AuHaCOGfK+LlIzwH37Ux0wtjDMu6\nNteuX5NTwynm8Gpl9GQbsqojyTJGUzupbde+qm1g/K8CoVCIcDh8wV6AeXfPWhYmmS/vKMvymmbI\nrEYsDl4v0Ti/ynFdl3A43HCRzW8qq1QqN0xqbMDVRTFCiHNlE4XjwvzHWRLI2rndrrKMsO0161OL\npVDMMJ5TAyQUIwS+h1PO49cqyLqJnmxdVmUt3/MYevzzDP3rX0L5ok1kux6gb++DNPVtwrPyaOmu\n+n6F/BRm87WfBAXG/yogyzI9PT1MTU0xN1eXpU2lUrS0tKzJH9jzPSZzk4zPjOPXfCJahNZMK01N\nTevCkMqyTH9/P6+88grJZLJRfMZ1XTo6OoC6lk9Hx+W3zAfcOqihGEa6g9rMGHIkgXAc7HwWPdmC\nYobOGWgwWrqvcKYrI86tyiVZRtYM5PNTOBUVI7kyQUGnVuXpP3oQxl9dvMHL32Tw5W8y2LuX3b/4\nR3h2FTUUxauWEZ6DtAohupUQGP+rhKZpdHZ2NjZIrZWR83yPVydeZWhsCAkJSZGYcWcony3juu4V\nK3JdK7Zv3065XGZoaAhJkrBtm0gkQiQSoVgsEo1G2bBhw/UeZsA6ItK5BTWaopYdIdK3g8rEIMIX\n2DPjeL5LYuMejMTKlV49x6Zw6gXypw7h16qEujaR2nwnCB+vWkHWdPR484pr6J56+JOXNvznM3SQ\nM9/5JwZ+6qN4+Wms2TE818FItaJFktdsAhfIO9xgTJQneGXwFaiCGTJBgqpTRZVUWpR6Bs16iisU\nCgWy2WyjBvG8flBbWxtdXV3BzD9gUYQQVGfHKI+eAnzCbRsw053IK0wLFr7P9I+/zeyrP0APxxGS\nQmV6CMm2iW+5Ez2RRglFUWSN2Ibb0CLJZffx/Y/fBxNLlDLXImz58P+NVy2f0yJSEMIn2rODSMcm\n1NDKMwIDeYeblLnqHJrQ8BSvLmEIGKpB0S5S8SvkyjnMsImpmOjK4stI3/cp1ArYwiapJ9Gv4nJz\nPqe/u7ubQqGA53mEw+FGWmlAwGJIkkQo3UlolcHWeZxKnsLxZzGaWlG1EE5hFjOWonj2GI5VIpRu\nQxISkm5QPnuMxJa7VjADX8aNybGwJgdRzRhGuhXFjCFcB2tyENkIEWntu9AddRUIjP8NhizJKJqC\nbdnMa9YKBDW3hmu6+LKP67vkvTxhNUxEu3AGUaqW+NH0j5irzuHjo8s6O1M72dB0dV0wmqaRTqev\nah8BAZfCLszi+S6GHsazqwjAs2vIRgSvOI2s78KrWWjRJE45j1ezUM3lJWd03PNOxr58dGmNU92Y\nLb245TxCqidBSJqOWy0hXBenUlhVTeKlEEy9bjDSoTRyREZWZKqVehC1UCmgeRqZRIaQHkKVVXRZ\nx3ItPP91OWYhBM9PPc9cbY6EkaA51Iwpm/x45sdMl6cv02tAwI2NFk6AT13+2ffPLZolcB0kMzr/\nCOG7SBIrqgW8+T2/Cz1LS0PtfOBX6wZfVuCcnIUQAklQr02wFA2iVRIY/1UghKBgF5goTjBVnGLG\nmqHmXGbb+BrQZDbRFe8i0hJBGIJCtYCpm/R39NOUbkKSz32szy1ZXfH6hyhfyzNbmyVpJFHk+hJV\n13RUSWUwP3hVxx0QcD3RE2livTuwJs/gCw/fd8D38BGE2/rref0I3GoFLZZescvlwP/1TTZ+5FNo\nm++5RIsoGz76t3S84S0IAfgunKud4ZbzqNEUkiwhm1dfBSBw+6yQsl3mxekXGS4OU/bKeK5HwkgQ\nN+K0hdvojHaSNJOX9LuvFEmS6In30BJuwWq2kISELutU/MoCjRyBQJZev7/bfj1H+vzn5h9X/eqa\njjMgYD0hSRKZux9CMsIUTx/GKxdRI3Fa7noPkudSnZ1AiybRIwkinZtXlXHTdd976XjTu8ifOIhV\nmkXyfSTNRFSLmE2dhFp6kSSJcGsfxeEKTnkOv1ZFjaXQU23ImoEaGP/1iS98Xsi+QLZaL4ZiyAaO\n7JCzc+iyTraSRVVUBIK4ESekrn1FKlM1MVWzMZ5qrYrru6hy/U/q+A6qrKJKr/+JE2oCVVaxHRtd\nq9+UBIKaV6M9vHLN/oCAGwHNMGi/+11k3vA2PMeuu3ncKr7rISsyihlBMSIrcvlcjKzqJDbuQZ8Z\nxcnPIBsmZtOeuqeplEcIHyPVSrR7G16tjF+zkFUN2YygmpG6O+gqExj/FVCoFcjX8sjI+NSXi7qq\nYzs2ju9gY1P1qnjCo+JWMBRjwWx7Lan7McFyLXS1XkxekzWiWvSCGYyhG+xM7eRw9jCqq6IoClW3\nSrPRTHfs9c0ztmdTrBWxPRtkCKthomo0UN8MuKrU9W+q4PvIunnVDKBqhFCN+QnZ1asWJ2sGkbYN\n0HZhMoUWSQGicX3LDSyvFYHxXwGO7yDO/ZPO/fPxkZHrPnYBEhKe8OofaOFfFeNfc2uczJ3k8ORh\nxivjVKni45Mmza7MLna27iQdvjDDZqBpgHgozpncGWpujZZkC33xPgy17uPM1/IM5geZrc4yZ8/h\nCpeElqAl3MJAcoCYvrxC7gEBS8F3bWqz43UhtXMTFi3RsqAi13rGc11Ko8epDL2CpBrEBm4jnOlZ\ncBNbi5XFWhAY/xUQ02KoUt2lUuac3KsPHh6arGEoBoqsYMh1g3o1DL/lWpzNn+WHEz9k1prFwmoc\ny5LlqemnmChP8OaeN9MWv7AoRCaUIRNamEbmei5nC2dxfAfLs4jrdX0fy7NwhMOp/Cl2Nu1EXUVR\ni4CAixFCUMtNABJqqJ55I3wfe24SRdOver77WiB8n4mn/oXi0EsoWgSnWmT82X9Fa+oilukh2r2V\n2Ibb0SKJdSHBAkG2z4owNZON8Y3URA0ZmapTZc6eq6t2yhoxLUZMjdU3qqihFRt/X/jYnk25VmbW\nmqVgFxrPV9wKo8VRanYNh4Uy0Q4O05VpXsm9grvEtLGaV6PqV/HPCWwpsoIiK6iSiuM5eJ5H2V07\nbfOAAADh2viujay9nhxRr8yl4FVvjM9befQ4haGXibQOoEZiiJqFWylTPvVjrLkpZl58nKnnHjl3\nk1sfBFO4FTLQNEAilGA4P0zJLaFJGqZiElJDhPUwYS1MWA2vONhbc2ucyZ/hSPYIY9YYmqSRDqXp\ninSxK7MLIUQ9y8j3cFncuGfJcmjyEL7r84a2N5CJXH7TiEAgxOvurAXHEI0bQ0DAWlGXmFlkNizV\nP3c3AqXxQRRVBwmc/AxuJY9mhPCEh6JI6Il2anNjVCbOoMea1sVq5pY1/r7vI4RAluUVL8OaQ800\nh5oXPD+vl7TS87q+y8ncSV7OvsxsbZaQXL+BZK0sCgq+8NnctJmMmeGEOHHZc1lYDJWGmB2Z5W29\nbyNtXnqX7fzNqurUYweeX5eQ8IRHSAohJEFUuzaFJgJuHWTNQJYVfM9BVuq6VEIIhOeiGNcnGLpc\nZNNA+B4I8BwLqEuV1yXLZSRVRapJOOUcvucGxv9aM1Oe4dmRZzmSP0KFSuN5FZX7Evexd8Newtrq\nP2yr9enZrs1QaaieuqmojWCs7/hUvbqLyfM9OiOdxPQYeXuROqDnUFHRNA3bt3l1+lXu7b73km1l\nWaYv3sep/CkMySBXyyEjEzfi+Pj0x/rRlPUjGhdwcyBJEnqqldrMOK5dQ5JlhOehxZtQ9ItXzh5Q\nO/e/TF3j5PqbsUTvDuZe/B6OVULWTHzXx7crKGYENZZBuDbIaqOAy3rg+r9r14jJ0iT/fvrfGamO\nLDjm4vLd/Hc5ePgg7+x/J5szm6/DCF/H8RwqbgVZkpHPC8uoskrNr9Wfl2VSkRTb0tvIjmepsvgm\nLRMTBJiyyUxt5op9R/UoO5p2UIjW01lni7MMl4YZc8d4JfsKaTPN9tR2OhOd6Kp+VVNYA24dFD2E\n2dKDV6vPmpWLdfaBusEvUncRyecel4Ao19uUGYkW2u57P1PPPoxbtXDtEviCWPd2JM/Gq1VRIzHM\nTPfrxWmuM2vyjkmS9ADwl9Rl7T4rhPhvFx3/ZeD/AUbPPfUpIcRn16LvpfL82PMUq8XLtilQ4IcT\nP6Q70U1owYzj2hHWw+iKjvAFnlvX5plPGTWEUZ+Na3FkWaYj1kHHXAfZahZLWAuCv2E1jCIpOMIh\nrS5NWE1VVMJaGMuxOF05Tc7O4XgOVa/KpDXJqcIptjVt4/bM7aTMVGNlEhCwGmRFRb5sameVuuG/\n2GxZwPVPCY33bifUvhFndpRaMU9l5CjW1CCOVcBItpPYspdI+8Z1k+2zauMvSZIC/H/A24AR4HlJ\nkr4mhLi4qsE/CyF+c7X9rQTf95m0JxcEMRdj0Brkky98kv+w7T/QGrs+hVE0RWNjdCOvzLyCIhSK\ntSK+8JGERCKaYGN8I6ZmYnt2o6BLS7iFaWsay7eweb3UnS7reL6HLMlsTW9dUv9CCMpumWlrmpJT\nQlM0XFx0SScshamJGlkry9niWWRFpllpDlYAAdcAl4WyyQrgAJcIGl9jNF1Ha+sn3AapTbtxqxWE\n76Doobpg2zpiLWb+dwInhRCnASRJ+iLwbmAJJW2uDbIsY8omJanEUpIHatT49NFP8wsDv8DG9Mar\nP8BF2N6yHVM1OTZzjKyTRREK7ZF2drXsIhOuZ+2ocj0ekNAT2L5Nn95HvpqnUCtQ8Sv1m50KcSPO\nbU230Rlbmja6L+rB8KJbXymVnTK+7+NKLp7vUfEqjDqjTJYmGS2OsiW1hf5Uf0NuIiDg6qAAPhfe\nAOYfX8nwC+o3idq51+jU4wVXd9JyvXbvLoW1MP6dwNnzHo8Ai5Wi/xlJku4DjgO/LYQ4u0ibq8aW\nxBZmrJm6m3CJPHzqYT6W+Biaen2CnBuaNtCf6r+g8Pn5yJJMc6iZrmgXJwsn8YRH1IgSN+ouobtb\n7iZmxjBkA1Vd+p9akiSQICJHcD0X16sbfQ8PGxsXFxsbDY1Tc6co1AoU3AK7m3djrIMshoCbFZML\nff4+9S/0UgxslbrhV8691qa+koiyHlYM14O1MP6LvXMXz6//HfiCEKImSdKvA58H3rLgRJL0EeAj\nAD09PWswtNfZ2bqTweIgs4XZJb+mRIlvnPoGOzM7GUgNXNFX5wsfy7YYKg4xXZ1GEhJpI01zqJmY\nEcNQjYaU8lKRJKlhuD3fQ0K6oAKWpmjsaN5BVIsyXZnG9m1CWohNyU0LpB0uxvM9Kk6Fsl0GCVJG\nCkOr6xCFlBDNZjOarFHxKwgEHh4+5zaAoRDVooSUEEW/SLaUZSw0Rn+yf1nXFxCwdFQgQt2IO9SN\neJj6LP5y+Odeo/K6uZLPncOmURXpFmMtjP8I0H3e4y5g7PwGQojz00z+J/Dni51ICPEZ4DNQr+G7\nBmNrUHbKbEptYqQwwhxzy3rdsdwxNFmjN9l7yXa+8JkoTXAkd4Q5q56KaXkWJ8QJkkaSzcnNtERa\nSJmpZcs8z5Rm+M7p73CseqxhfAG2spUHtz5IPB5nc3ozvYneRnWuy91khBBMFid5fPhxTldON84Z\nIUJ3tJtt6W20RduIGlE6Y51UnApz7twFfSsoqLKKqZoItx4jKNQKy7qugBsZn/ps2qVuSE2uTcaN\nfu5nOT7++c/txe2l847deqzFX+t5YJMkSf3Us3neD/z8+Q0kSWoXQoyfe/guYIm1ztYO27eRZImQ\nFmLOWZrxV1CQVAld0RkqDdGT6Lnk7L9oF5mypqg4FcJauC73IAlM1aTm15ioTGCoBqqs0mQ2XXYV\n4Qufqlul6lY5MnWEJyafWHQX7zGOcezYMbro4sN3fnjJWTdz1hxfOf4Vpv0Lq3eVKXOsdIyJ8gQ9\niR6SZpIms4ltmW3IQma8PM5wcRiBQJM0dKmuIOrhoSoqphL4/G8NfOruF3jd/VICQly7WfRyXDWX\n8uuLyxy7+Vm18RdCuJIk/SbwLeoOtb8TQhyRJOkTwEEhxNeA35Ik6V3UpwmzwC+vtt/lMr97NWJE\nWEQKZ1G6zW58v67WaXv2ud16lzb+nqi7ZSzPQvh1A2k5FkIIFBSqXpUupwtFUojpsUVn577wyVVz\nTJQnOJs/y4szL15SvmGeEUb415f+lZ++7aeXdF0vZ18m5+cuedwVLjVRw7ItHM8hpIXw8WkPt5O1\nsliuhSRL9ZuUXUUSEjE9Rmt0ZdlRnu8hEI1aBAHrnflssvP/XhL1lYDOtfGhu9SN97wP/3LI1Mdl\n87rrxz33/2LxPO/cz6WO3xysybdNCPEI8MhFz/3Jeb//AfAHa9HXSoloEXRFZ2NiIydLJy/bNkSI\n1kgrsqjr9dueTSacucDXvgAJVEmtZ8X4Lq6oB0otYeG7damEueocJbtEvpqnPdbOhsSGBTtmq26V\n6co0M7UZSk7pAlfL5Xip+hJvrryZhJm4ohGdqkxdVjPFw8N1XUzTpOAU6Ix0UvSK2L5Nd7ybkbkR\nHFFX/tRlnf5EP7c130bCWJ42+kxxhqdGn+JU4RQF6i6jOHHubr6bN3S94brutQi4HPOG83xkXjfI\nV9P4e0CO+sojC+Sp+/1bqXucL3XzCZ0bY+3cGDXqrqqLv9Plc+f3z7ULAymu9yayq8HNd0WXQJVV\nOqOdxLQYCgrfG/3eBRIPAO16OzEjRsEuULJLKJJCQkugqAobk5dP+YxrcfJyHlmWyZfzeMLDcqyG\nzLMnPOJGnLAapubXmK3Ooika/fH+C1YTNbdGzs4RUSMgc8EO3ytxMneSlmgLXdGuy8owxPRYow7B\nYjcBTdJQFAVd0YkRQ1ZlDFF3WSVjSXY176LiVjBlkyazibgZX/as/cTMCR4+9fDrktjnKFDgsexj\nfDv7bd634X1sadqy7CB5wNVGYWHa3LzRv9qz/tn/v703D47zvO88P8979H2gG/dB8KYo6qIkSrIs\nyZZsx/cRZxInntSOU5OsnZrJJtlJ1U52UuPJZnY2Sc1UJZtrK06cxJPKTuyN48SHYsWyZVuSJdGk\ndZAUKd4kSIAAiKvR93s8+8fTLxogjn4bDYIg8H6qutDofvp9XzS6v8/z/E6UiekSkENNONPAGGoy\nuAPVoGUp+36EullqqeusAhOoCcT7zFVQk8HKRRFvRzal+Duuw4snXuQ7pe8sePzf7Ps3tMXaeKj/\nIe7tuJfh8jCjuVHQVYtDTde4XrquGpmUpjENk/1t+9nVvmuutv1yxI04ISNEykwxqU0yaU1SoUKI\n0JzIGhiYhknOymFoBmemzqCh0RPrIVJL+daEMjFFDRVtc0m75NsndSV/hWwsy1Rliq5Y17LjHu58\nmDeuv7FIeKEexRPTY9iuzbbENna37SZv5SlbZeXkNSNE9MiqzTSlaonnrj635Pk9JJJnzz9L3Iyz\nPb28oz3gVhCiXl/Hi723Uavkmyn+FiqbdxY1AXi1fbwdxzWU8Edqt6VY6fryqL9n/mIjVDunzWaT\ny8311wBHTx/la9NfW/K5Pzn9J3P3P3vos+wM72RHagd5K89EeQLbtemKd5GNZol1xuiOd/tOXLKk\nRVuoDZFSDdUL1QJT1SnyVh7LtYgaUQzdwLZtVTK51mrRdm3Gy+N0ik4iRkSVg9ZjlOwSmViG/mg/\npwqnGp4/TZqpyhQ6Onk7TxfLi38mmeEn9v4ET59/mglnYb0fB4fh6jDD1WEeij9Ed1e3WvGH29bM\nlzdcGKZoFxuOm2SSFy68QMeBDmJmbMOkxQfoqPj4MkqQBf5CLlvFrZ1rFiX2Ferx+95OpILaEexF\nTQTNOHQ9O/98vN83X1TQpnJ1V+zKssJ/I7915LcAFUefMBP0xfvoiHSQCWfoT/TTl+xrKmPVljaa\n0DB0g2QkSTqaZiA1QDqcJm2mqTpVSk6JGWsGHR1HOrSF2oiYkblyCl4zmJ3pndiOTa6UY3tmOw91\nPMQOc8ey506TJh1NK/OIUGabRuzO7Obf3v9vuTd+77Jjflj4Ib//xu/z0tBLc2Wq1wpd032V2zhT\nPcM3z36T0cLoml/D1sNzZK4FBmoCSAMp1MrgZk/OZu0cErUazwNFFv5NRWAEFYHuP6RbEYVFwRUO\n6m/dfI7fTbXy/+aZb+wDYV0AACAASURBVDY1/r8c/i/88p2/TDKZJKSHmo6/n48pTEqyhC50olqU\nilbBlCaJcIKcm8PUTSzXIizCuLgIIchGsgAITdX9dnHR0emIdfCA/gCj5VHKVpltiW1kt2UpO2Uu\njl/k2ZFnF/grJBJb2vRGe7GlTWfYn31ydHqUNwuNq3A8M/IM0pG8fcfbV/fm3MC2+DaiehQTc0Ed\nouU4mT/J4OwgyVCSeCi+JtewNfBCMM+ixHCculD2AW8DFvejaI713I1pqInGRIn8Up8dL/pnGmhD\nTU5+fUYxlMO3SN2BDcqZvPl2nZtq5T9Z9Z+9C6rV4e+f/H2GZ4cbD26AqZsYuoGBgdAEYT2MIQy6\no90MJAe4u+Nu7mi7gx3pHexI7qAn2oMQAsux5uLl5zt34+E4u9K7ONBxgIHUAFEjSq6Y43sj31vk\nqM6RY7g8TNSI0h5q991w5fWpxmGkHkfHjjI+O47rtr79DYVCPNn7JHHhT8htbCaLk+SsIInMPy5q\nBXwcJf7XWLhCHgb+HjjM4tXuRiaOEvXlBN2r8yNrt2Z2OhrQjno/TgKvod6/11Dvpc8Y8duETSX+\n98fub/o1Dg5fPvnlls+tCY1UKEUynCQRSpAwEspxasbIRrP0J/o50HGA7entmIZJVVap2BVCuhL+\nuBFf0aY9Xhzn6NhRZli+ccsLYy8wVhrzbRsvO0v3AFiKPHlOTp3kauGq6vDVIns69vBk/5N0m92q\n50ADpFzcWjJgJUqoKJU8K5s/jgOX1+WK1gaBsul7kTs3SpiDEm8vjLPZSLER4AJq9S9RO4ELwMvA\nW7Vzbw7z46Yy+xzce5B/OPwPTb9uggl+7/DvYWLSbXbzSO8j9Lb3YppL2/mklBSrRcYL41zJXcGV\nLrtTu+ls6yRuxNXKu1ZrynIspsvTcwXP0uE0ET3CVGVK1cYxo8T02IrZuVJKrhWvMZIfWXaMx9Gh\nowzEB0hGl69vbjs2k+VJYob/ioMRTTWFma3OkjNzZCIZ369dDmlIUtEUqWiKc7lzy+Y0mJiko2lS\n5soRVwHz8Sb2RhO1DTyLqs/4HjZ+nRtvAaCjBF6y0PzjRSClaM7kQ+04Y6hdk1Y7dhS14ndQZrM4\nyrF9+2ezbyrxB/jNh3+TP331TxmxGgvlfLwV9XXrOicunyB7Oct7dryHA10HFowrV8s8d/k5Dk8e\nXhAj/53xeljpR3s/ygPbHgCUOShiRCjbZQy9/nb3xlROgV9safta0Z+1zvKXx/6SD+7+4JLlqF3p\nMloapWgXOdB1gLPXzzLG2IrH1NDYlthGOBzGdV3ydp4MrYt/NpJFuiryKaNnFkUeeexP7mdX2y5i\noY1bHnfj4cXc+/2KX0XVW/w5bn7UTisIVMz9MPU6PyXUZOegzDa7gUGUcDeDXbt50UOV2vkqtcc9\nf0Ae2I5qIHP77kY3ldnH4zP3f4bPHvos+1Krb8c4ySQvDr3IpZlLc4+50uXbF7/N0cmjK2bIfnXk\nqzx//vm53xOhxILEqmYdl0II0qG0b0fuJJM8d/E5ruauLnqu4lQo2AXiZhxNaPz4XT/Owx0PE13m\ni6KjcyB1gN2Z3SBZ5Jtohd5oL92xbkp2CVMzSWkpYsQIESJGjAwZ3pZ9Gx/Y8wG647emsc7tSxK1\n6m3WQf7Dm3Ata00vSuS9SJw0kAV2oarJ38Hqcg5M6glsVdTKv0y9gJ2FSjJ7q3ZbvkTK7cCmW/l7\naJrG+7a/D3FZcH7m/KL2hn4YcUY4fO0wffE+TMNktjTL+cJ5X07SF66/wAP9DxAPK1t+xIi01Oyk\nI9SBHtKhcXg8AFedqxweO8yH4h9aEMVku/Yi2/nB7oPsy+6jPdJORI8wMTvBSGkEy7bQQhpRM4rj\nqnLOnm9jLTBNk8f7Hic9luZs7ixUQJiCbDhLJpwhG81yV+ddhPWNborYiJioFXIBFZKZ9/m6E6hV\ncz/+14ZeyeRC7aajSiJ4JRXWmjDwIMoWP4oS5h5gBys7g+fjUG8E412jiYrs8Zy7qp/wQiK1cbO1\ncW3crmvoTSv+AO3Rdj55xycZnh3mwuQFXhl9Za6GjB9cXM7MnOGVkVe4u+NuclbOt7OzQoXDw4d5\naudTq738BcxYM5iaSZIks6zci9hjojTBW+Nvsat9F3FTrQBNzVxy1+JIh7AeJmpGGcgO0GF3MDQ7\nxGRpkqnyFAJBe6idrljX3LH8Yjs2V65f4elLTzPGGD308Ik9nyCbzRINRXl44GEecB/Adm0K1QKW\naxExIySNJLoelHZYHZ6wbUPVv1m5ntVC3kIJWh+NV89ehc/rKMexlw0bAnbWzh/1cZz5lFChqadq\nx/UWbjuAQ6hVfhTYD+yrXWszE1URtZr3fAUxlI9Ao14jqMBi4feax3itI0u1Y9ye9v9NLf4efck+\n+pJ9PLb9MRzXIVfJ8dr11zh27RiTcuXwUB2d8eI4Z6bPsCe+B13X0R0dx0cI2ZncGe7O301novW6\nIBOVCQxhEAvFmK02Fn+BIG2kyTk5cuUcIT2EqZmE9TBJI0mukiNiRhBSUHErxM34gp1JxIiwO72b\ngeQAFbuiWkbq4RVrBt2IK12ePf0sP5j5wYLHr3GNPzj7B3O/f3r7p+nr7pvrDxCwFsh5P5uJzkqg\nBG0cJYSNJMIzi1xBCaIn9Baq/k4cZaLxa3+fAF5n6cnqYu0WAz6ImgSaXXWXUcLuibhETY4StYo3\nUGKeRu0wpmt/ixdC6vkAVhtNtHG4PfcrLaBrOplohsH4INsS21YcKxDEzBhlWaZgF9DCGnfE7yDk\nwyGmoeG4DqenT3Np5hKnrp/i7NRZrheuU7ErTWermsLE0Azf9XRSpMhEMnMduCxHrZ6EEHTHuumO\ndSNdiSMdsuEsvbHeRU3YNU0jakRpi7SRCCWaEn6AI2ePLBL+pfjcpc9xZuxMU8cOaMR8U4a/vA9F\nlnoEjZ+cDgtlUqpSr6jpxdhXUaaRCeqCuxI2qsvraINxRVSEUrMhl54N3/MVeOIdQa3indpjJvU+\nv/PLVniJX95zWW7nzN8tsfJfit3Z3RTtIqZucnL65KIiYwJBm9GGrulIV4KrHnvv3vcSuxjj6NhR\nplZw+LTr7ZTsEkeGj/AiLy5IzIoT5+7s3RzqOzTXjL0RvfFerhWvETfiqjzECl+kDjrY1bELWyj7\nvoGxQNg1TaMt0kZbpM3XuVeDlJJnp571Pf5vLv4N/7HjPwYVPNcMgVptF1G2/ySsaC6MokwfNkoQ\no/iTB6+wmyfEXpN0L2pmHDX5eCGTniN6KbxompKP806jJoodNNdDwLvOG8d7OyQD5a+I1a4/hhL9\nUu36DdT71I3yizSLRJmyTqJ2RmXU+3MXKkpp/TLYt6z4A2i6Rl+6j3g0znhxnKt5lcBkSYuIiKCj\nhD9mxIiEIkRNtXV9fMfjPLb9MSaKE7w5+SbfGamHeWY1ZccuVAuUZRkDY1FGboECr02+ho3N2/ve\n3rDXLkB7rJ296b0q1r40y4izOJRVQ2NPbA/dyW6kkMxWZ+mL9WEYBqa2visUifRVumE+x68fZ3tq\n+02dlLYWYZTQmsAB4AwqQsUTQK/zllef3wt17ETZvf0YBiIoQfdW1V5fXDnvea/nrokS0eV2Ip5Z\nxa9BYqx2rRZKNBtNAF5zliILV+zODb+nUKaqidrjSeo7oX6Uc7nDx/mW4hwqomr+RDyLSiJ7GXg3\nahK4+Wxp8Y8bcWYrswgEffE+inaRqfIUVadKWZYRriARSpCOpNmT3rNAQIUQZKIZ7um6h954L6+O\nvcpIYQQhBOVqWbU6ZGnnKiiH8FBuiFORU7w9+vYFMfyudKnYFcZnxxm5NsKe/j1kkhm2t22nJ9HD\nAz0PMDQ5xPHx44xVxnBw6I30clfvXZTs0pyDNm2kVfN4c+muYTcTTWhoaL6b0QCcGD1BxIgQNsJE\njaCRS3MUgKMoJ6lHFvgYSmzvA/agTCp56qJmo2L8p1Fi1ocKmfQb0WXUztOPWol7sfESJchm7RwT\ntce8gnBLEUdNSBkam36gbkayqa/aG5FAvVcV6pOM1+nL+36bKGd1pHYd1dp19aJW/AlWJ/xenaWV\ndmAvoiaXm78D2NLi3x3t5nrpOratQjcHE4OEtbDqSSsM2kPt7GzbSX+yf27VPx9d02kLtZE0k3TF\nurg8dZkxa4xipaiyckvXmKws71CetCc5NXmKVCjF7sxuYmaMoetDfP785xcOfGvhr4/yKO97+H3c\n03MPrnSRSC7PXkbTNLpiXQzEByhWi4TNMD2JnkW2/PXi/e3v5+mJpxsPrDFaHZ1rBB+IfzO8DLyx\nxOOTwF/W7g8C70eZSWZRYllGCd021MSQpPnIHFDCub92/xpqhWyysEqmNyF4JqGlpEcH7qQ+WTQK\nqfZaM3omJT9yJlG7nWMo53Gl9ngnKkegu3YdSZTJZ7D2vOcLaCWpa5bGsdpl1M7gCW62M3nLir/l\nWkgh2ZncyVBhiCv5K0gkuzO76Yx00hXtUv1+GyCEwBAG6Uiae3rvwXIsilaR0zOnqTgVpirL+wVC\nhAgbYWatWc5On6Vb714s/EvwEi9x/PBxfu3hX5tLuOpP9DNaHKVgFZBIUpGUaj15i4Qf4OHdDzPq\njnJ06mjDsWmRxnZtpCNx5earnX7zOMnSwn8jl1GrysdQwlZGCZmLkoE49YiW1ZKlLlgO9UgZUMJp\noVbNpdo1LEUb8DBqMnoNGFpijOef8JKy/DZid1GC/+0lnhsHvl67f6B2DfM7eq0Ffo91GvVePU7z\nWcr+2TLiL6VUVSmlSywSo+JU0NC4Xr2OJS12JneiaRpCE3QnupuqezMfUzdJ62m6Kl2UEiWuFa9R\ncpZ2YCXNJCkjhaZpVN0qX7jwBd/nmWUWx3XmzDkRI8L21HYs11JO3g3SDP0jez/CR/gIl65d4oXL\nL3CGxVE97WY7lq2qm5q66bsqaQAs2hauyAnUCr0dtapdy3IZGnWhmkCtqKvUS0zEqPfObRT1E0aZ\nWHpRppJvocR5PvHaMb3VuB+fVgF4xce4N1Gr9PeytuLfhpr0rvsYewFl/jq0hudfyMZQiJuElJI3\nx9/kuxe/y/iiD4/izsid3DdwH650SYaTONJhtDDK9uT2lRu2N2B7ejuZSIaUnuL4teMM2UNU5raY\n0GP2sC29bUFTkxsdw434z0f+M09kn+Dde94999h6O3b9sr1nO6l0irHyGKfHT/Pm9Jtz/QtKVgmB\nYGd6J+2x9qaTyLY2zWaufxk4iFrZriVeS0WBWjFPoORFpx4SKVFmD7+Tew5lnrnxu1sCzqPs8Un8\nZyPP4D/TeQi1W9ru89h+8BLfLvgcP4qaRG9OhvumFv/jY8f5p0v/tKKoniyf5PrZ67xr97twpGq2\nXrALVN2qqmTZAqlwiv1d+xnIDFB1qpyZOkPRKjJTmSFhJjA1E4Eq/WC5q6sV/vzk85gXTd6x4x0t\nXet6kIlmSIQSdIY66Yp1cTZ3lryVR5Ma2xPbeXTbo6rmUAuT7tajjeZrzLyGCi1c60nWW/m7tftJ\n6pnGoFb8En8ZsWVUKOTFFcYUgB8BXfhboTf7uTqFMi8lWbtid1mUmFcaDaxx88pHb1rxd1yHI2NH\nfIUbjjPO1dmr7GvfhytdbNdeM7tzSA9hOmo13p/sZ6Y8gxSSqluds/mXrTI98R4+ZH6Ib1jfaPoc\nz489jy51BuID9GZ6MQ1zw/a7NXWTbDzLI/FHOGgdpOSUiOkxQuZGriS5kbkHZUbwV/Kjzpeox7Nv\nq91WCpf0nLWzKGGOo4RxvoR4vXyjLPQfzO+xm8af7MzUztMo5n8MlfD1DhpX2Wyn7nj2g0DtVHTq\nSWGtksb/bq2Dm1lie9OKv4tL3sn7bgAyNDHEjrYdzFZnMYRBwVJJX1Ej2pKQeoXQLNcipIdIh9L0\nxntVP9/KDHEjTle8i3Qozfb7t/PS4ZeYpPmOZN8a/5baHV9Ujz2YepAnB54kmfBfNnq9CZvhuT4H\nAaulB3gKZc8/18TrLJgr5X2x9vNg7XbjRJxDNX05w9Ir1idQ4aHe/1KgJod87X6EerawXz9DM93F\nhoG/BR5ChbQuJ9Lh2pjDPo7pOZUL1ENi12KBoqN2a42+450o/8zNW8RtWvHX0YloEYoU/VX0FDBV\nmSKmx+iJ9WDohirpILRV1ZtxpUvZVvH+YT1c7xEcUrsSiUQX+qKJ5Zcf/mUqlQq//fpvN33O+RzN\nHWXo9BCfuuNTxOOBDX1z01O7vRt4CWUnXw3HUZLwwLzHCqhoogssb6p4HmWieZK6ScdAiaa36g+j\nxNPv6tkLtTRXOO+N/BCVp7BS+e+DtWMfgRW64tVt/TdjcXIv8N0Vnj+A+h/c3P4Vm9a4qmkaB9sP\nLmigshIPbnuQgcQAA4mBObOJoRnLRuosheM6OK5D2SlzOXeZq/mrDOeHuZS7RK5cryaqazqGZiy7\nowiHw/ynh/4TB2IHMFuoHTJmj/GDaz9Yk767AbcLjwL/ktWtGG3U6n6MuplmFGXqafQ9uIyKkpmP\njhKwJPVCaH5ZbcesozQ2q+wGfhr4GdSEdXftPHHU5HGAesmIdO01a7lO3o2aAG4kgZrAH+dmCz9s\n4pU/wEP9D1G1qhweO7xi79vHM4/Tn+zHEAsFWUPDkSuHpRXLRc7nzvPsxWeZvqFX6h6xh4M7D5IK\npxgtjxIxIwtq66+EEIJP3P0JXrv2Gm8Mv8F5+7yv193IixMvko6l2de2j7ZoUDZha5AA/hXwKv5y\nAOYzgwof3Y1ypJbwP5G8iioL0dnEa1bCwF9xufmMoiawnTSOkU+g/sYw9axirwdwCDURaNTr+/jB\nRb1n4yhTnNdQ6QlUAhuoSfFhYC8qqqhCPUt6/brViWarS64Xhw4dkkeOHFmTY0kpuZa7xrGJY7x0\n/aW5kgvddPOh7R9isHuQXCWHJa0FoZJVp0rUiC4belgoF3h+5HleHn95xfM/knmEPR176Ih2tNT7\ndqI0wVRpileGXuFcZfmetzfSLtp5sP9BHux6cMVewQGbFRdlthlh8er8Rrya9jtQ4jdTe+15/DlK\nd6MyZVvN1SijsoWfx1+hN48Uyv/Qg//6RF5jF69q5/xSEc04el3UxPl8g3EZ4Kd8HrN5hBBHpZQN\nEwQ29crfQwhBV6qLhyIP8UCvsmdKKYmYERKG+pDGzBgz1RmqThVNaLjSbWjvPzNzhisTVxqe/+TU\nSdoT7bRHGxdwW4n2qDpGIpTg6ptXfecFTMgJxvJjTKWm6En0tHQNAbcjnqDPoswb5RXGegudSm1c\nN8oMlGJlGzm1Y0+jJgsNZX5Jo1bXzbZV1GrjwzQn/m2185apC3ojdOqhoq0kdeVoLPygQnM/B3y6\nhXO1zpYQfwBdqDo8tlRhnLrQF2TBGppBJpyh6lSxXRtDMwjpoRXLI4yXx7FkY2dykSJDs0Pc03nP\nmvwtYS1MV7SLodKQr6YyACW3RFU2V2UzYDMhqJcgPg03mCgVJkrAJUo4vdDNe1Dif4zlJwCvemgB\nFXXkdcvynL29KNu635j8UO11/ctc61JkUZLmJZetJxLlb2iGk9zsiJ6VWBOHrxDi/UKIt4QQZ4UQ\nv77E82EhxBdrz78ihNixFuf1iytdpJQIIea6WS1V/sBb6SdCCSJGpGFdnJAW8pVR60X8RPS16VI1\nWhglEUowEB0gSdJXOKtANYEP2KrYKHHOoGzyXdR77HpVLUOoVbNXhsGrXhlHOUE/jioOd6Ppcn69\nflDCb1NvluI1dTnB0rV6lqMDZUYabDDO674VqZ0vRL1W0Xriv0Ws4nlUktqtWZS1LP5CCB34Y+AD\nqE/IJ4UQB24Y9vPAlJRyD/B7wO+2el4/WK7FdGWayfIkU5UpcpUcs9VZCtUC1Wrrb/jO1E7SycaC\nGiPGvdl71yzxypEOAoFu6sTNOOEG4WhRouxM7iRpbtyY/4CbjUZd1NtQQhmjvlIW1J2dXsmEGz8v\nIdTE8Q7gjnmv9+r3e/V9vF2D95hbGzOBcqouZ66soNpBXkbtGnSU2endwPtY7EfwTEpe6ehw7X4H\nq6+3v1oEys/QLCOondj6sxZmn4eBs1LK8wBCiL9FFRGf71n6GPCbtft/B/yREELIm+httl2bXCU3\nt9q/NnuNCzMXuDBzgbJTRtM0tiW28XDvwwykBlZ1jsH0IPlKnnwuzyX30rLjDvUcoi/Zt9o/ZRE9\niR7enH6TmBvDMi0yWobJyuSC2kEeBgbv7n83B7sPBmUTtjRRVNKV14nKa7vYjhL8MvWm7V6o43LH\nCVGPVhlG2eQjtWNOU+96Nd8k6aJMRm/UznM39Wic77FygTodtX7cjoqiGa79Dd7KfrZ2v7d2Hc10\n9lpLHqH5HIsZ1KRYZr0bwa+F+PezcC93BfUuLDlGSmkLIWZQnzo/5e1WRdkpg1C2/OnSNGdyZzg3\neY6SLBEWYVzX5XL+MrNDs3xwxwfpjK+uyfqBrgPsaNvBaGmUI+eOcNo+PZdUto1tPLH7CXa37UbX\n124L2h5r5870nRy7fgxpSypuhbAWJmtk6Y53E9fjVKwKmViGe7vuJRkOVvwBBvX6+l7yknc/jlph\nZ/HXtN1r8+g1OAElttdRzdcdlq/cKVFCn0aJ+XdobApyqDtIO2q/exmysnYd/dzMUgj+0IAfQ1Uh\nbQbPx7K+rIX4LzXF3rii9zMGIcSnqbnABwcb2flWxnbtOZv9cGGYnJXDFjZRPUrYCKssW1dSdaqc\nnDy5avEHiIVibDO2EdkX4b7qfWhCI2bGCOkhMpEMulhb22OunKMsy8TMGBYWpmPSHm0nG82SDCWJ\nm3GS4STpcNp3XkHAZqSEMqVEUMLoUK+62Y4SYK/X72oSsWDhV7sDVSNonOUTrbz6+6O18zfjA/Am\ngB6U36FCPZFso9Sy2om6xhxqR7O43epCPPPb+n9P10L8r6D+4x4DqH3ZUmOuCCEM1H99UXELKeXn\nUP9hDh061JJJKKSFKNkldF2VDHYtV0X51FbgmtCoiipSSmbKjULYVsaVLtfy17hauEreymNLm5ge\nY1d6F5ZjoRurE38pJVP5KT5/8vOLGswDDGqDZJIZLEOdIxVJoQmNZDjpuzF8wGbDK5v8KkpY5xd8\nE6jM0j7qUT1e/1qTtYn/2F475jEWR+l4dfc1lJljNd+7v0f5ANLc+pX+SqRQiV0XqfdOXooMasJY\n/8DLtTjjD4G9QoidqHS2n0Hll8/nq8CnUIVHfhL4zs209wOEjTAlp4TlWKo4mybquytdCbbXYzYb\nzbZ0rpnyDCOlEXShk41m0YRGsVpktDhKSA9haMaqmqt879j3+G75u8s+f9m9zOWZy+wwd8w1hIkb\ncWaqM2Qj2XXv2xtwq5GoUMvXUbH2N8bHy9pzl1FlIMLzHq/gryFKI7wooQHUatYrHuc5lT3Hc4zV\nlZS+jpKTn+ZWrJabow1VOnsnav17ivqEF0eFee6m9YS41dGy+Nds+L8EPIPag/2FlPKEEOK3gCNS\nyq8Cnwf+WghxFrXi/5lWz9sIL66/5JTojfcyXhhnxphh1prFtNSHXNd1YqEY+zP7GxxtaVzpUnWq\nDOWHsGzVFjJMGKlJIkaEolWk6lSxHKtp8bcca0Xhn89F6yJ7S3uxEzaYzJWlDsR/q+GgBH+MlROj\nplARJndSd856Dc1X08N3Phpq1ZutHXMa5Qi2qXf1iqBMNysVYFuJEipMcifK57CR+z2bqF1KGjUR\neCWib/2uZU32GlLKp4Gnb3jss/Pul7mZ+czLoGs6CS1BPB0nakTpmOng7NRZJiuTGBgMJAd4W9/b\naI83n3nrSpfZ6qxKCpM2OTuH5ViqAUzN0YyrTDdyFQ0ZLo5ebGr8eHmcO7kT27FxpKMmHN1Yc39D\nwEbGYWVn63yGqZcX7qQerePS+krUC7dsR5WJOI9asTuo0Mz9KPE3gA9yg3T45ByLS1i/D2V22sis\nX+2eRmyJDF8hBF2JLjLRDPd23ouQgogZaSn00XItLNcibISV4LuqEFzJLhEPxylYBUIipJq2rMLp\nalvN1DOHMmXKbhnXdumIdFBxK1QrVdLhdDABbBk8m7qfVaVngsmjJoBU7TEvRLOVz4y3sq1Q70Pr\ndfe6MZxxAOUgPYJKeGqFZ1hYQC1gJbaE+HuYuompr02PW8u1EELgSpeoEaUt3MZIcQRb2lABTdfI\nRrOYurmqlf8dg3eogAif7InvIR1K0x5rJ2aq1UXVqVK2y0FP3C2DifpK76RxlEkvSvRdlCmio/a4\nxF8BN8+B5k0UXi0eSd2URO1+GBVNtNJ37xBwP8pBfZiV2zeuxBEWNpYJWI4tJf5riYamPucChCbo\nifdgGibFapGEmSCqR4mHlLlpNS0hNaFxKHmII7ONK5vq6Dy+/XFioYVbSkMzqDiVQPy3DAIlsjtR\n0TTLraT7UMF3NnUBh7kP9IpRPxJVbfNHtZ/zTUztqMSvHurO3Aj1khGN0FE7kHeiTFE/9PGaGykB\nL6Jq4m90h/CtJRD/VRI2whSdIlJKQnqIolXEEAa98V6iZhTLtYiZMSTSdyvJG/nwnR9m96ndfCX3\nlWV7EffQw8/e9bNU9epc/SIPr4BdwFbCS9p6EGX/fhUl0hIlrNtQdndv5V5AOWe9ssZhVhb/k6gG\n8Pklnpuo3SKoZCfPlGSgTEB+xNhLQLsf5SC9hoqZH0VFMPlZSJ1F7WT2+zzn1iQQ/1WiC510KE3e\nymMIAw0NTVOho1WnOmd60TXdV/G35bjjjjv48PiHcXGp2BVOjZ7CcR0Gk4NEE1Ee6XkEQzMoWkUK\ndoGQFpozRzmuQyJ8a8LIAm41ArV6fu+8x4qodosFlAnGRTkg26hX8Fzpszpbe32jUuJl4BXUBNAK\nIepF3SKoMEm/RQGuoHYgXS1ew+YlEP8WMDWTTDiDIx3aI+3Y0qZgFVRil1CiHzfjLRd0c3GJGBFM\n3eS+/vtwcRFSI99asQAAHvpJREFUIBBzWcxRQ4W7FZ0iuMrJnQwlgwzfgHnEUPbwKVRkTwa1Ove7\nOJmmbipqxBgqoshLNmy1bk0EFS7pV/wdWCIxMqBOIP5rgC50EMr2HtbDczb+RiWh/aAJjbZwG5Pl\nSZJhJeZSSmars3REO+bOIYQgZsaIGBGklGhCW7MqogGbiTCrqz4J9excr1JnI4ooc00nrZlfXJSZ\nKYnyV9xYQGApvJIWAcsRiP9NYC1EH+pJZG3hNmYqM0yUJjGEAaguZD3xxV9iTWgbp8xJwC3CK9tQ\npV5u2UuuaiXarZ16Q/ZGpRmS1H0JXmnnVvD+hlDtZ6NQ6Pba+QOWIxD/DYrjOsxUZ2qNaMDOJ3nt\ndImLV2YBjTv6oxgHiuzp1zGM4N8Y4OGFWs6gqq0M1e5rqOStO4B9rG4SMIGDqBIRXpvH5bgPNdk4\n1KN9Vrsq0VCTiY2SrDD1CW4pDqKijta3RPLtRqAaG5SiVUSiIokujczyzOFRhidyVC0dbJ0Xpse4\nNl3mbfu7eed9fUGt/oAaNkqYL1N37nrx97OoNhsOqjXjasQ4g0qkmkJNKidQETkeXj8Ar4y4ixLh\nVrejXajJxusl7DmdvdwGB1XW+QHUqj+gEYH4b0CklFRkBVOYOI7LD0+Pky9WERik4wKNKIVilZlc\nhXMjOfYPttHbvvqoHttxmS1Z5IsWApeOdJRIeG2S4QLWGwtlH5+s3ffaGnrmFxeVQNVDveetX9za\nMavUHbC7qa/qZ1GTgkl9ZW6zNoXLTFT4poWqCRSmXrE0g4oK2klg5/dPIP4bFC83wHFhfLKEoauk\nMk3T0aQgGjbIl2yQkrHp0qrF33ZcroznOXpqlBdOjDKZrxAxDX7s/l7e+/AOElETTQucCLcPArXa\nt1EC7OV5aNR7xeqoePwKakXtRzC9iqFeRq/nhI3Ne733GZxFrdJDteM34+yVqBLIh1kcUhpHmXO8\nwnFeM5o0ajILclqaIRD/DYgQgqgepWAVMESIaFSnZDm4uHj/Msty0E3QdY1QCzb/XKHKj94a42sv\nX8bQBfGwQbFq8aXvX0QIwRP3DdDZFgkih24bvEbsXgllTyC9DFsviSpVu38dVeqhkdmwSr32v4eG\n8i94UUBehnGC1Tl5HeAfWT6cs4BKMNNRpiezdl1W7TqCnJZmCAzFG5SIESFiRnCExf7tCSzHASko\nFByK5SqFikNHMkJbMkx/x+rLN+RLVV48PkoopBOPhgiHDbLJGPGwzgsnrlGs2lQsP1UiAzYGOmq1\n3UbdMVpBiaMXIdNLfYJwaBw5Q23cfLmY78C98fPRqETEcryKvzh+B7U7ENSbwxe5Fa0Qb2eClf8G\nRRMaSTNJTI/x9v0JDDvB4TPjXBzJU6pY9Gbi3L+ng4N7O0nFVx9DLRBMzJZpS4WRrvrdlZJ41GQm\nb2HbNlXLJRLkit1GJFAN0hOoAm+TKIFMoCJ9bsx69bOr01ErbK/2vxdKWkSZfqIo23srH5SzTYy9\nWjuf14XMRZWBSBDImj+Cd2mDo2s6ibDOE/cNcO/uDmZLVUCQiodIRkOEzNbsnO3pKKl4iELRIhYx\ncaVEui4VyyGVMNE1DcMINoi3H0lU1M2u2u8aKus2TF3sPcetHxkwUWaXAkrgK6gELr12q6B8AP2s\nX4jlKMr23069kFyBek2hgJUIvtW3Caah0dEWY2dvGzt707Snoi0LP0AsYvDRRwcpVm1m82VKFZtC\nxaZiuzx+ZzdhUyeyBucJuBXoKFGMo1bmWer28RLq65/Bn1B6mb1G7RheATfPvu/F9M/gr4LnUuxq\nPGQBXgP62Lzr8yKaAhoRrPwDeM+h7YR1g6//8DITuRKxkMl7DnbxjvsHyKYiQbTPpiGJEkoLJZoh\nmlshew5dr9+vVwHUqT2no6J8VpvQ9RAqDPXGxu9LsQ81cZVRE1ly5eEBiwjEPwCAJ+7v57H7eilX\nHUKGUCGlgehvQjwzzWrwHMRe8xZvlT3f8dtKnL0APoFqdH6U5Quz7Uf5LUq183t+BpvW/r6tRSD+\nAXNomkYsElgCA5YjQj2xKo4y8Rgo04/X/jFN69bk/bUbqPIU47XjFlETjrdjcaknsXkJbUHjIr8E\n4h8QEOATnbrZx3OqVqmbgbpZ+1j7bbUbqGieIZRj2bP1D6D8GV54abBb9Usg/oBtO0zMFDF0g2w6\nSGgKCFgeHSW6MZQDeX7V0JtdEiSFas5eqf2+FjWDti5bWvxfPDbMX//zKY5dnF0UH3Bop8Yv/+Tb\n2TsYFIkKCFgajZsX1imR0kZKF03zMoi9c0Zv0jm3FltW/P/h+bN86bkzXBhfujfukQsuv/pHL/Af\n/qdDPHZP/zpfXUDA1sV1bAr5KUavzjA1WqFUhpAJma4Uu/b3YIaCooNrwZb07s3OVvj+G9eYKS4t\n/B6TJfjzp9+kVK6sOC4gIGBtcF3JbG6K8yfGGXqrQn4anDKUZmH4XI5XnjvN1PVGjWQC/LAlxX80\nV6ZiS6SPXJRTV4p88je/ydGTo7juapNXAgIC/GBbFrnJAtOTS3/XrCJcfGsCx2m+3pTjuJRLFsXZ\nMpVSFelHADYxW1L804kwuiaI+gxJHi3A//4XL/Pmpambe2EBAVsc15XMTpZxreXHlGbLVCrNib9l\nOeRnShRmSpSLFrMzZXKTBRxn62YDb0nx70xHuHdnlnDIfxGq2TJ8/huvkyuuzgS01VcZAQF+0DQN\nrUE5EQlNReRJKakUqzi2xAwZmCGDcNjEsl1KhZVNv5uZLevw/fHHBpicLXJ59OqynUBv5MyVPM+9\nepX9g1n2DaQbfgAnc2V+dGqEb716lfMjOWzLorsjwUcf2cajd28jlYigB1m0AQFzmCGDVDbN2NVx\nnGV0OZGNEY36d/pKV+JYDromFnxnTV3Hrtq4rtyS2exbVvyrjsY9uzo5PTTOiSF/s386btKeCnPy\n0hTt6TAdqeVDzq5N5Pn6Dy7yzz+6wrXJClZtd3ktl+fUpZM8/MZ1/vX797GzP0M4KJwWEACoFX1X\nbzv56QpXL+YWtQqIpDR27r+xJHXDg+IiFpk5JIDYksYPoEXxF0JkgS8CO1AVmT4hpVxkGBdCOMCx\n2q+XpZQfbeW8a4EjQdMBEaLe3m5l7t/Tga7rhEyNaxPFZcVfSsnhk+NcnS4yW7LQpEqNEQI0Aa4D\npy5P8sLxayTjEfo64kFiWUBADcPU2XWgl2xXgtGhKUqlKroZoqsvRXd/G0aTnes0TRAOGxTzZUKa\niRAC15U4riQS09mqX71WV/6/DnxbSvk7Qohfr/3+75cYV5JSHmzxXGtKPGzQl437blT+9v3t3LG9\nw9fYiuUwkS9TLlq4rotVM/c7krlqt+OzDn/9zDmKFZuffHIPPZn4ltx6BgQshWEYdPRk6OjJrMnx\nInET23GxyjZSSDQ0QlGdSDS0ZRderYr/x4Ana/e/AHyXpcV/w5GKhyhbMd77YC9vXZoiv8zif1tG\n46lDO4iFDdKJEI7rUrUlvdnYssfWNYGuaSSiJra1fHXxKvD337/E+eEZfuFDd3NgRzaYAAICbgKa\nppFMR3ASLo7tIgQYprGlv2+tGry6pZQjALWfyxnjIkKII0KIl4UQP97iOdcEQ9foyUR51wM7+JWf\nvId9PaEFM2E6BB881MvPvf8uNE0jGjKZLlSZyFXZN5Akm1o+rd00dPb1p6g4No1SA2wX3hqa4aWT\nI0zkSmvzxwUEBCxCCIFh6IQjJqGwuaWFH3ys/IUQzwI9Szz1G02cZ1BKOSyE2AV8RwhxTEp5bolz\nfRr4NMDg4GATh18e13X5gy89zxdfXNwgwgT+6DN7eer+vewbSDM1a2G7Lp1tUUKGQVdbGNMwcF2X\n6zNlLEeSSYZJxcyGW8VsKox0DdpTJlenlg9a1g2oOpKhsTxjUyU625bfUQQEBASsFQ3FX0r5nuWe\nE0KMCiF6pZQjQoheVJPQpY4xXPt5XgjxXeB+YJH4Syk/B3wO4NChQy0HxlerFu/8taeXfd4CPvOn\nZ4Az/PPvfoB4pIrjgq5BWzJMLOL5AzT6O5srVXtmOMfewTSGLqm8dZ2JvL1kcztdAAJsxw0yiAMC\nAtaNVs0+XwU+Vbv/KeAfbxwghMgIIcK1+x3AY8CbLZ7XF7/6f/+z77Hv/ff/RF9HnP7OOH0dceKR\n1RePklJSKDpEdJ1wKISUEFsmm9h1IKzBQGeSWBOxywEBrWBVLMola1VlEgI2B606fH8H+JIQ4ueB\ny8BPAQghDgG/KKX8BVQB7j8VQrioyeZ3pJTrIv6vXrabGv+Nl87zroPbiMX8Z/4uhRCCnvYI50dy\nxCI6kYiGXRLEQpIba8lpugohfWR/D+m4/xZ4ris5fm6Uv/rmCV46nV/w3IcOxvnEex9g37ZsS39H\nwObCthxmJvJcvTzN9Hh+QRJVslNj792DxBPhpkMpA25PxEYtO3Do0CF55MiRlo7x6P+yaCPSkHfe\n3cFv/OxDJBOtTQDTs2WefuUSk/kqx85d58LoLK4rSUYMbNuhUJEMZEN85J17eHhvN1IIerJRIqHG\nXzzXlfzJV17nb757acVxe/ui/P5nHiWbDZpbb3Vs2yF3vcjQhQkmxwuLkqcAMGH3gS76BjPBBHAb\nI4Q4KqU81Gjcpk5vG2hv3pv/+vkJnn31csvnbktG+PDbtvPQ/i4euKOLh+7sZGdPgnQ8TF9Piqfu\n7+OT77uLB/d2gSZIJ0K+hB/g4tVJvvKDlYUf4Mxwif/wly+3+qcEbALKRYtCsUK5aC0t/AAWXD07\nRqlBqfOAzcGmnt6/+NkP89ivfK2p1zi25PUzE3z8iT2+xpcqNscujPMXXzvC65frEf29Ufhvv/Qo\nD+7p4K7tWcanS2iaoFy10YVA0wTZVISwqWMaGobufx5+5uhVqitUPZzP6xeLfOe1Szx13+CWTWYJ\nALtqg3Rx5co2/nIBjnz7Anc+1EXPQOc6XV3ArWBTr/w1TeOlP/wY2zv9i57QIBb1NyfmChX+3R9+\nl1/548MLhB9gpAQ/+19f4on/9ev8n194gfZUBE0IIiGDSNigKxOjLREmGjaaEn4AIZqrBfQbn3+N\nv/r68aCy6BZGNwxCpg7S33fh5A/HGB5aMngvYJOwqcXf428/+1Ge+Z0P8Kkf291wbDhk8J77BxqO\nk1Lyjy+8xWuXCg3Hfu9Ejv/6Ny/R3xGfuyVaiOz5wKEempwv+H+/e55jFyZWfc6A25to3EQYBpG4\n/4XDxbfGsSyfW8yA245NbfaZTyoe4l+8YxfdmSj/9Mp5jl0qLh4Thp9+cg8P7O9ueDzbkfz99y/4\nPv+zx6b5zPU8/Z2Jls0v2/vbeepgN988Our7Nfkq/O233qL9JyJ0ZmKEjC0x7wfU0HSNSNgglY4z\nM1lB+tD0agmKOYt4SsPwUXnWsmwKuTLT14uUyiWcssQVLtFEhGxHklRbJOi/u4HYMuIP0NkW4+NP\n7OYjj+5gerbMy28O88rpcapFm7v3ZXnfgzvoyvpL5tI0QanJRdF/+LMf8D9/6ABPHNy2iquvYzsu\noZBJQod8E2Ha08UqF0ZmuZ6rcNf2DEYwAWwZHNtBC2kYIYNIzKA00zgMWtNADwkqZRtNE2grbDdt\n22FsaJpcrkxxtsjslEXdvVDi2sUpere10dWfIdEWQdOCz96tZkuJv4dh6HRk4nz4sb18+LG9qzqG\nrgnu293B949f9/2aa1NlvvrKELv6M01nDM+nWK4wNVvBiACNrU5z7OxOEYnqFMo2U/kKnW3L9yMI\n2HwIKRAArr/Whe09cUzDwLFdbNsltIL453MlymUL4UK14rLAryzArsD10TyhqIkZ1ok2kdMScHMI\npt8W+D8+1TCUdgGappErVDlzdXGdoWaIRcKETZ10E1nIu3rC7BpII11J2BTkg3C+LYVeE+5wVBU1\no4HlMdFu0DOQRUqJECDlyhNGOW8hNA3HcrDLN2xHa3EGpVmbc8fG+dGLZ7lyboxKJfAn3EoC8W+B\nSCTMt3/3x7irv/EqPhVmrsKnz4XXshi6xtv2d5KI+du4PXl3G08dHCQWNgmbOpYtCfvMKQjYHGi6\nhhk2iCZCpLNR1choGXYfbGf/PYNomobrSqQE3VjZ5m+YQk0QusBu8PmuFuDSuetcPjOGVQ3KS9wq\nAgVokVgsxp//+rspV21ePzvBV35whu+9Xo+qEUDErHXxwiWbCrO3P9XyeT/wth04QmK+eI7XLi1d\nCjoEPHJXlo5MgmTUIJuOYNsSTQiyqWDbvdUIhQ10QyO0q4NYKsz48DS5yQpWFfQw9G1ro70nDVLg\nOC7Slbi2ixHW53YOy5FIx5idrmAYQu0UGlxLtSApzJSZmczT0ZNeuz8ywDeB+K8RkZDBXTszxCN3\ncvfgGF8/PMTl0RIScGywBOzuTfK+Bwbo62jO3p/Ll/nekbf4v758UZ0L+LN/9xDvO7SDHzs4wA+O\nX+XklRwvvH6ZmVlJe7vJHf0dPLS3g3DUJBIxsSwH14FQWGfftoTvbOKA24+pqWlOHLmKlV/8nNkB\njz9xF73bwnT3t+O6LlJCtWSjG6LW4tClWnXRhCAcNzEMvWGEWiQWorM/xdjVacywoGo3zimxqja5\nqTKZjiR6EHyw7mzq2j63Cst2yRervH5+nB+dHqNYdjgw2Mbb7umnuy3acBXl4Tguj/9q4wzl9wzA\nxz/+KFP5Kvmyg5Qunekwg11JujIxwqaO47g4kiDEc5Nz9cwIp49PNhwX64VH3nbX3O+25VAt2yBA\nSpTwR40VI3yWwnEc3nrjKqMXZxuOTbQZdA+2096VIBIL+f5eBKyM39o+wfLvJmAaGplUhCcPbuPJ\nFsI63+FD+AGevQLTX3qJ3/rV91OpWpi6Tiyi7PtetyJd12guLzjgdsNxXF/CD1AcUUKt6+pTYZg6\nuqHhOhKECmVeTT6KrusIKdHCoEmwV4grCEVCpDMxNCGwLRtdb62YYkBzBOK/QXFduWzv36U4MgoR\nXZDxmacQsPkYvdxcOYbvf/UU9zy2jY4u5YMSQqAbrdd/isTDhMwS0nFZuoURpDtD9O9pJxI1lW/B\nh9/XqtqMXplkdGia3JS1wLGwfX+W3h1tRKNB+LJfgn3WBsVZRUjQu/63f+KZI+dvwtUE3A5Iq3nh\nPvbyEFcvjK/pdbR3pQhHTMyoSTRlEksZeNvOVFeIvfd3s//gNpIJJdSuKxva/GdnZnntBxc48/o4\nuUlrkUf50qlJXv7mec4cH1rTv2UzE4j/BsVsEFq3HL/7348xPNFE5lfApqFnd0fzL3LgyrlJSqWl\nI8ZWQywZomsgpcyOSFzHJRY3GdyfZd/d/bRl4wgE0pU4tguChuUjLpy6Tn6qcW7KlTM5Jidby6PZ\nKgRmn01GScI3XzrHv/7wvbf6UgLWGV3XGdjVxpXzzYmfY0vKBRe/FhPHcblyaYTzJ6ZhXpWIeA8c\nfPAOQiGDgZ2dtHcmyedKSDSSmRDhcBhN03AcF7tq47pghHSMeb6ppa/PpZSrqLhpH/Epr3/vKu/8\nWCooIdGAQPw3MC/94cdW1Y1sMh9kTm5V9t7XT6rL5PyJ65RnfUbyCUko7E8o87Mlfvjt80uKcOEa\nvPiNtwC4+7EuOrs6iSYii8bpuoYe9e/cFVrtdE0EJn7vH09y7xO9tHcErUyXI5gaNzgv/eHH+MEf\nfJTOJv5TD+5rv3kXFLDh6e7t4tH3HOCBd273NT6RChNPNl72O47L6y8uLfw3cvzFMcrlsq/zN0LT\nNBJtzUcCvfH8yJqcf7MSiP9tgBCCL/+3D/KZD93Bnt6Vv6R3D0Z5/N7WqoYGbA6SbTEefHIHA3cs\nn0Gb6jTZc1+vr+NVyzbVJlwDb756ac0aCA3e0UFoFYE8Vy6P4LZaT2WTEph9bhNM0+Tn3r+fdx7s\n5Y1Tl/mdLy+O6vnwoSy/+lOHVu0sDthcaJpGKhMn2RZjcHcnxVmLa5cnKZYKJBIxevrbSTeRbW7Z\nzZkTZ67ZDA+N093XjtHiZ1ITJu09MUYuLO7DsRKTV0rEogXa2uOBD+AGAvG/zdjZk2Znzz187Ml7\nGB4vMJkv0p+Nk0nHbvWlBWxQhBCEw2HC4TCZJkuLzCe+hP2+EcPnJ0kk46TaYi01MbLKDnooDDQn\n/tFUlHyuTCwRJtKEn2ErEEyFtzF9nXHu3tkZCH/AuqDrOv17mvMnFQsO5ZKF67Zm/tEMgY5sSrHC\nCdV3w3UlthWYfm4kEP+AgADf7Lunh513dfoaK4xa24AWhR8gkYwQiUVJpv0ZK6JpQTKZwLIcdEMj\nsPgsJjD7BAQENMWOfV1s39vJ9Ws5Lrx1hcLUDQOEukkXYimDSDS0Yhy/H3RDp6M3hREyOHNyiGpu\n6XFGBNKZOLqhYZdtsHXCYYNwYPJZRCD+AQEBTSOEINMZR4gBpieKTI5NU5iumVakukXigt4d7cRT\nkabt/eVSlZdePAO14qB7HkzT199HV1+K9u47Gb82y8XTVyjV8tmiKegezICrk8+VsMo2roBMV5xM\nRyKoGLoEQUnngICAlrBtB9d2caTN5GiewkyZUCxEe1eSeLK5Zu2XLw5x7tVllvXzeOrj9XLUjuNw\nfXgWy3YIhXQc26VasUhmomQ7W2+cdLsRlHQOCAhYFwxDB0MHTPp3rL6qpm3bvoQf4LmvnJibAHRd\np6Mvyex0iXLBQjM0sukksWTQrW4lgr1QQEDAhuD5r73V1PjnvnJi7r6u67S1J+gZzNDd30ayLTbX\nqyBgaQLxDwgIuG157isnmJiYaDwwYBEtib8Q4qeEECeEEK4QYlkbkxDi/UKIt4QQZ4UQv97KOQMC\nAgLm88b3r93qS7gtaXXlfxz4CeD7yw0QQujAHwMfAA4AnxRCHGjxvAEBAZuMd3x0/6pfOzM5s4ZX\nsjVoyeErpTwJNArjehg4K6U8Xxv7t8DHgDdbOXdAQMDmohUbfaWyMaMWNzLrYfPvB+b3VrtSeywg\nICBgAU99/C4VxZNs7nWJdBDZ0ywNV/5CiGeBniWe+g0ppZ9OI0ttC5acpoUQnwY+DTA4OOjj0AEB\nAZuRp95zFxMj05w5cY3S7Mrd3eMdEIsFjdubpaH4Synf0+I5rgDzC8wPAMPLnOtzwOdAJXm1eN6A\ngIDbmPbeNmJtYaZHS5w6NrKgZeTcmO0G99y/b/0vbhOwHklePwT2CiF2AleBnwH+5TqcNyAg4DYn\nGo0S3RGld0eW6elpZq9XCSd1OruyLZWIDmg91PPjQogrwKPAN4QQz9Qe7xNCPA0gpbSBXwKeAU4C\nX5JSnljumAEBAQFL0dbWxrY9XXR1twfCvwa0Gu3zFeArSzw+DHxw3u9PA0+3cq6AgICAgLUjyPAN\nCAgI2IIE4h8QEBCwBQnEPyAgIGALEoh/QEBAwBYkEP+AgICALciG7eQlhBgHLq3y5R3A9TW8nM1E\n8N4sT/DeLE/w3izPRntvtkspOxsN2rDi3wpCiCN+2phtRYL3ZnmC92Z5gvdmeW7X9yYw+wQEBARs\nQQLxDwgICNiCbFbx/9ytvoANTPDeLE/w3ixP8N4sz2353mxKm39AQEBAwMps1pV/QEBAQMAKbArx\nDxrJL48QIiuE+JYQ4kztZ2aZcY4Q4rXa7avrfZ3rSaPPgRAiLIT4Yu35V4QQO9b/KtcfH+/Lzwkh\nxud9Tn7hVlznrUAI8RdCiDEhxPFlnhdCiD+ovXdvCCEeWO9rbJZNIf4EjeRX4teBb0sp9wLfrv2+\nFCUp5cHa7aPrd3nri8/Pwc8DU1LKPcDvAb+7vle5/jTx/fjivM/Jn6/rRd5a/gp4/wrPfwDYW7t9\nGvh/1uGaWmJTiL+U8qSU8q0Gw+YayUspq4DXSH6z8zHgC7X7XwB+/BZey0bAz+dg/nv2d8C7xeYv\nIL9Vvx++kFJ+H5hcYcjHgP8uFS8DbUKI3vW5utWxKcTfJ1u1kXy3lHIEoPaza5lxESHEESHEy0KI\nzTxB+PkczI2pNSOaAdrX5epuHX6/H/+iZtb4OyHEtiWe36rcdvqyHm0c14T1bCR/u7HSe9PEYQal\nlMNCiF3Ad4QQx6SU59bmCjcUfj4Hm/azsgJ+/uavAf9DSlkRQvwianf0rpt+ZbcHt91n5rYR//Vs\nJH+7sdJ7I4QYFUL0SilHatvQsWWOMVz7eV4I8V3gfmAzir+fz4E35ooQwgDSrLzl3ww0fF+klBPz\nfv0ztoAvpAluO33ZSmafuUbyQogQqpH8po5qqfFV4FO1+58CFu2ShBAZIUS4dr8DeAx4c92ucH3x\n8zmY/579JPAdufkTYhq+LzfYsD+K6skdoPgq8K9qUT9vA2Y8c+uGRUp529+Aj6Nm3gowCjxTe7wP\neHreuA8Cp1Er2t+41de9Tu9NOyrK50ztZ7b2+CHgz2v33w4cA16v/fz5W33dN/k9WfQ5AH4L+Gjt\nfgT4/4CzwGFg162+5g3yvvw2cKL2OXkO2H+rr3kd35v/AYwAVk1rfh74ReAXa88LVLTUudp36NCt\nvuZGtyDDNyAgIGALspXMPgEBAQEBNQLxDwgICNiCBOIfEBAQsAUJxD8gICBgCxKIf0BAQMAWJBD/\ngICAgC1IIP4BAQEBW5BA/AMCAgK2IP8/eOBKGEjjpiEAAAAASUVORK5CYII=\n",
      "text/plain": [
       "<matplotlib.figure.Figure at 0x1be042cd978>"
      ]
     },
     "metadata": {},
     "output_type": "display_data"
    }
   ],
   "source": [
    "plt.scatter(pca[:, 0], pca[:, 1], c=k_pca.labels_, cmap='Accent', alpha=0.1);"
   ]
  },
  {
   "cell_type": "markdown",
   "metadata": {},
   "source": [
    "Visually, this does cluster the dataset based on what is expected as gauged from the PCA plot. This would be compared to a hierachical clustering technique"
   ]
  },
  {
   "cell_type": "markdown",
   "metadata": {},
   "source": [
    "###### Hierarchical Clustering"
   ]
  },
  {
   "cell_type": "markdown",
   "metadata": {},
   "source": [
    "Second attempt to cluster would be done using a hierachical cluster, with linkage method as average and euclidean distance as the metric. The average linkage method is to minimize the average of the distances between all observations of pairs of clusters. \n",
    "Making use of a dendogram and scree plot, the cluster number is identified.\n",
    "The PCA dataset would be used here as well"
   ]
  },
  {
   "cell_type": "code",
   "execution_count": 133,
   "metadata": {
    "collapsed": true
   },
   "outputs": [],
   "source": [
    "Z = hac.linkage(pca, method='average', metric='euclidean') #hierarchical cluster using pca as data"
   ]
  },
  {
   "cell_type": "code",
   "execution_count": 134,
   "metadata": {},
   "outputs": [
    {
     "data": {
      "image/png": "iVBORw0KGgoAAAANSUhEUgAAAYUAAAE0CAYAAADDtS+YAAAABHNCSVQICAgIfAhkiAAAAAlwSFlz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\n",
      "text/plain": [
       "<matplotlib.figure.Figure at 0x1be0187af60>"
      ]
     },
     "metadata": {},
     "output_type": "display_data"
    },
    {
     "data": {
      "image/png": "iVBORw0KGgoAAAANSUhEUgAAAYUAAAEWCAYAAACJ0YulAAAABHNCSVQICAgIfAhkiAAAAAlwSFlz\nAAALEgAACxIB0t1+/AAAADl0RVh0U29mdHdhcmUAbWF0cGxvdGxpYiB2ZXJzaW9uIDIuMS4wLCBo\ndHRwOi8vbWF0cGxvdGxpYi5vcmcvpW3flQAAIABJREFUeJzt3Xd41fXdxvH3JztksBL2CCNBUaFi\n3EJRRHBifZytWuugWlt3d58O+3TaVrF1FK3V1rqqtmqr4hZUBIML2RvCkIQZAgkZn+ePc3JIICSB\n5OSXk9yv68p1cn7ne865ORfJne9vmrsjIiICEBd0ABERaTtUCiIiEqFSEBGRCJWCiIhEqBRERCRC\npSAiIhEqBZE2wsxyzMzNLCHoLNJxqRSk3TKzk8zsPTPbZmabzexdMzs64ExjzazazHaYWYmZLTKz\nrx3E6/zUzB6NRkbp2PQXibRLZpYJ/Ae4DngKSAJGA+UH+DoJ7l7ZwvHWuXs/MzNgEvC0mc0Cdrbw\n+4gcMM0UpL3KA3D3x929yt13ufsr7v5pzQAzu8bMFoT/Yp9vZqPCy1ea2XfN7FOg1MwSzKyPmT1j\nZkVmtsLMbqj1OnFm9j0zW2Zmm8zsKTPr1lhAD/k3sAUYvvfj4fd8PjzLWWpm14SXTwR+AFwUnnF8\n0szPSiRCpSDt1WKgysweMbPTzaxr7QfN7ALgp8DlQCZwDrCp1pBLgDOBLkA18ALwCdAXGAfcZGYT\nwmNvAM4Fvgj0IfRL/p7GAobL5Evh95hbz5DHgcLwa54P/NLMxrn7y8AvgSfdPd3dRzb2XiJNpVKQ\ndsndtwMnAQ48ABSF/+ruGR5yNfBbd/8g/Bf7UndfVesl7nb3Ne6+CzgayHb32919t7svD7/mxeGx\nXwd+6O6F7l5OqGzOb2CDcR8z2woUAz8BLnP3RbUHmFn/cP7vunuZu38MPAhc1pzPRaQx2qYg7Za7\nLwCuADCzQ4BHgbsIzQL6A8saePqaWt8PZM8v8hrxwIxaj//LzKprPV4F9ATW1vPa69y9XyPx+wCb\n3b2k1rJVQH4jzxNpFpWCdAjuvtDMHib0Vz2EfukPaegptb5fA6xw99z9jF0DXOnu7zY76B7rgG5m\nllGrGAawp2R0emOJCq0+knbJzA4xs1vNrF/4fn9CM4T3w0MeBG4zs6MsZKiZDdzPy80Gtoc3Pqea\nWbyZHV5r99b7gV/UPN/Mss1sUnPyu/sa4D3gV2aWYmYjgKuAf4SHfA7kmJl+hqVF6T+UtFclwLHA\nLDMrJVQGnwG3Arj7P4FfAI+Fx/4bqHePIXevAs4GvgCsILQt4EGgc3jIFOB54BUzKwm/17Et8G+4\nBMghNGv4F/ATd381/Ng/w7ebzOzDFngvEQBMF9kREZEamimIiEiESkFERCJUCiIiEqFSEBGRiJg7\nTiErK8tzcnKCjiEiElPmzJlT7O7ZjY2LuVLIycmhoKAg6BgiIjHFzFY1Pkqrj0REpBaVgoiIRKgU\nREQkQqUgIiIRKgUREYlQKYiISIRKQUREIjpMKWzaUc7tL8ynpKwi6CgiIm1WhymFd5dt4uH3VjDh\nzunMWFIUdBwRkTapw5TCOSP78Mx1J5CaFM9lf5nN95+dq1mDiMheOkwpABw5oCv/vWE0Xx8zmCc/\nWM3Eu2bwzpLioGOJiLQZHaoUAFIS4/n+GYfy9HUnkJwYx6V/mcUP/zWXHeWVQUcTEQlchyuFGqMG\ndOXFG0ZzzehBPDZ7NRPunM57SzVrEJGOrcOWAoRmDT88czhPX3s8yQlxfPnBWfzvvz+jVLMGEemg\nOnQp1DhqYDdevHE0V580iEdnrWLilOnMXLYp6FgiIq1OpRCWkhjPj84azlNfP554My554H1+/Jxm\nDSLSsUStFMzsITPbaGafNTBmrJl9bGbzzOztaGU5EEfndOOlG8dw5YmD+Pv7oVnD+8s1axCRjiGa\nM4WHgYn7e9DMugD3Aue4+2HABVHMckBSk+L58dnDeXLy8cSZcfHU9/np8/PYuVuzBhFp36JWCu4+\nHdjcwJAvA8+6++rw+I3RynKwjhnUjZduHM0VJ+Tw8HsrOX3KDGZp1iAi7ViQ2xTygK5m9paZzTGz\ny/c30Mwmm1mBmRUUFbXuKSo6JSXw03MO48nJx+EOFz/wPj97YR67dle1ag4RkdYQZCkkAEcBZwIT\ngP81s7z6Brr7VHfPd/f87Ozs1swYcezg7rx802i+enwOf313JadPmc4HKxuaCImIxJ4gS6EQeNnd\nS929GJgOjAwwT6NqZg2PX3McVe5c+OeZ3P7CfM0aRKTdCLIUngNGm1mCmXUCjgUWBJinyY4f0p2X\nbxzDZccN5KF3V3DG3TOYs0qzBhGJfdHcJfVxYCYwzMwKzewqM7vWzK4FcPcFwMvAp8Bs4EF33+/u\nq21NWnICt086nMeuOZaKqmrOv38m//ef+ZRVaNYgIrHL3D3oDAckPz/fCwoKgo5Rx47ySn790gIe\nfX81g7PSuOOCkRw1sGvQsUREIsxsjrvnNzZORzS3gPTkBP7v3CP4x9XHUl5ZzQX3v8cvX1ygWYOI\nxByVQgs6cWgW024ew8XHDGDq9OWcefcMPly9JehYIiJNplJoYenJCfzyS0fw96uOYdfuKs6/7z1+\n9ZJmDSISG1QKUTI6N5tpN4/hoqP78+e3l3PWH9/h4zVbg44lItIglUIUZaQk8qvzRvC3K49hZ3kl\n5937Lr95eSHllZo1iEjbpFJoBWPysnn55jFccFR/7ntrGWf/8R3mrdsWdCwRkX2oFFpJZkoivzl/\nBA9/7Wi27qzg3Hve5f63l1FVHVu7BItI+6ZSaGVjh/Vg2k1jOPXQnvz6pYV8+YH3Wbt1V9CxREQA\nlUIguqYlce9XRvG7C0Yyb912Jt41nec+Xht0LBERlUJQzIzzj+rHSzeOZljPDG584mNuePwjtu2s\nCDqaiHRgKoWA9e/WiSe/fjzfnjCMF+euZ+KU6by3rDjoWCLSQakU2oD4OOP6k4fy7DdOIDUpnq88\nOItfvrhAu66KSKtTKbQhI/p14b/fGs2lxw5k6vTlTPrTuyzaUBJ0LBHpQFQKbUxqUjw/P/dwHroi\nn+Id5Zz9p3f4yzsrqNauqyLSClQKbdQph/Tk5ZvGMCY3m5//Zz6XPzSbDdvKgo4lIu2cSqENy0pP\n5oHLj+JX5x3BnFVbmHDXdP776fqgY4lIO6ZSaOPMjEuOGcCLN45mUFYa1z/2Ibc89TElZdp1VURa\nnkohRgzKSuPpa4/nxnG5PPfxOk6fMoPZK3RdaBFpWSqFGJIQH8fN4/P457XHEx9nXDR1Jr99eSG7\nK6uDjiYi7YRKIQaNGtCVF28YzUX5/bn3rWWcd9+7LN24I+hYItIOqBRiVFpyAr/+nxH8+bKjWLe1\njLP+OIO/zVyJu3ZdFZGDp1KIcRMO68XLN43muMHd+fFz8/jawx+wsUS7rorIwYlaKZjZQ2a20cw+\na2Tc0WZWZWbnRytLe9cjI4W/XnE0P590GDOXbWLiXTOYNm9D0LFEJAZFc6bwMDCxoQFmFg/8BpgW\nxRwdgplx2fE5/PeG0fTpksLX/z6H7z79KaXllUFHE5EYErVScPfpQGP7TH4LeAbYGK0cHc3QHuk8\ne92JXH/yEJ6as4Yz7p7Bh6u3BB1LRGJEYNsUzKwv8CXg/iaMnWxmBWZWUFRUFP1wMS4pIY5vTziE\nJycfT2WVc8H9M7nz1cVUVGnXVRFpWJAbmu8CvuvujZ4f2t2nunu+u+dnZ2e3QrT24ZhB3Xj5ptGc\n+4W+THl9CRfcP5MVxaVBxxKRNizIUsgHnjCzlcD5wL1mdm6AedqljJREfn/hSO758ihWFJdyxpQZ\nPD57tXZdFZF6BVYK7j7I3XPcPQd4GviGu/87qDzt3ZkjejPtpjEcNbAr3392Ltf8bQ7FO8qDjiUi\nbUw0d0l9HJgJDDOzQjO7ysyuNbNro/We0rBenVP425XH8OOzhjN9SRGXPjiLKl2nQURqSYjWC7v7\nJQcw9opo5ZC64uKMK08aRI/MZL752Ec89/FazhvVL+hYItJG6IjmDuqMw3tzeN9M7nxtsU6oJyIR\nKoUOKi7O+PaEQ1izeRdPfrA66Dgi0kaoFDqwMblZHDOoG3e/sZRduxvdM1hEOgCVQgdmZnx7wjCK\nSsp5ZObKoOOISBugUujgjs7pxsnDsrnvrWVs1yU+RTo8lYJw62nD2LarggemLw86iogETKUgHN63\nM2eN6M1f3lmhA9pEOjiVggBwy/g8yiuruffNZUFHEZEAqRQEgMHZ6Zw/qh+Pvr+KtVt3BR1HRAKi\nUpCIG07NBeDu15YEnEREgqJSkIi+XVL5ynEDePrDQpYV7Qg6jogEQKUgdVx/8lCSE+K489XFQUcR\nkQCoFKSOrPRkrjppEP/5dD3z1m0LOo6ItDKVguzj6tGD6ZyayO9f0WxBpKNRKcg+Oqcmcu0Xh/DG\nwo0UrNwcdBwRaUUqBanXFSfkkJ2RzG9fXqRLd4p0ICoFqVdqUjw3nDKU2Ss3M31JcdBxRKSVqBRk\nvy46egD9uqZyx7SFmi2IdBAqBdmvpIQ4bj41j8/WbuelzzYEHUdEWoFKQRp07pF9Gdojnd+/sojK\nKl22U6S9UylIg+LjjNtOy2NZUSn/+mht0HFEJMpUCtKoCYf1YkS/ztz12hLKK3XZTpH2LGqlYGYP\nmdlGM/tsP49/xcw+DX+9Z2Yjo5VFmqfmsp1rt+7iidlrgo4jIlEUzZnCw8DEBh5fAXzR3UcAPwem\nRjGLNNNJQ7M4bnA3/vjGUnburgw6johESdRKwd2nA/s9HNbd33P3LeG77wP9opVFmq9mtlC8o5y/\nvrsy6DgiEiVtZZvCVcBL+3vQzCabWYGZFRQVFbViLKntqIHdGHdID/789jK27awIOo6IREHgpWBm\nJxMqhe/ub4y7T3X3fHfPz87Obr1wso/bJgxje1klU2fosp0i7VGgpWBmI4AHgUnuvinILNI0h/bO\n5JyRfXjonZVsLCkLOo6ItLDASsHMBgDPApe5u87RHENuHp/H7qpq7n1TswWR9iaau6Q+DswEhplZ\noZldZWbXmtm14SE/BroD95rZx2ZWEK0s0rIGZaVxYX4//jFrFYVbdgYdR0RakMXaic7y8/O9oED9\nEbT123bxxTveYtLIPtxxgQ4xEWnrzGyOu+c3Ni7wDc0Sm3p3TuXy4wbyzIeFLN24I+g4ItJCVApy\n0K4bO4TUxHj+8OqioKOISAtpUimYWZ6ZvV5zygozG2FmP4puNGnruqcnc9Xowbw4dwNzC7cFHUdE\nWkBTZwoPAN8HKgDc/VPg4miFkthx9ehBdOmUyO9e0WxBpD1oail0cvfZey3TCXCEzJRErvviEN5e\nXMSs5TrURCTWNbUUis1sCOAAZnY+sD5qqSSmfPWEHHpmJnPHtEW6bKdIjGtqKVwP/Bk4xMzWAjcB\n10UtlcSUlMR4vnVKLgWrtvDWIp2bSiSWNakU3H25u58KZAOHuPtJ7r4yqskkplyY358B3Tpxx7RF\nVFdrtiASq5q699EvzayLu5e6e4mZdTWz/4t2OIkdSQlx3Dw+l/nrt/PiZ1qzKBKrmrr66HR331pz\nJ3wdhDOiE0li1Tkj+5LXM50/vLKYyqrqoOOIyEFoainEm1lyzR0zSwWSGxgvHVB8nHHbacNYXlzK\nMx8WBh1HRA5CU0vhUeD18EntrgReBR6JXiyJVeOH92Rk/y5MeW0JZRVVQccRkQPU1A3NvwV+ARwK\nHAb8PLxMpA4z4zsThrFuWxmPzVoddBwROUAJTR3o7i/RwCUzRWqcODSLE4Z05543l3LR0f1JS27y\nfzMRCVhT9z46z8yWmNk2M9tuZiVmtj3a4SR23TZhGJtKd/PQOyuCjiIiB6Cp2xR+C5zj7p3dPdPd\nM9w9M5rBJLaNGtCV8cN7MnX6crbu3B10HBFpoqaWwufuviCqSaTdufW0PHbsruT+t5cHHUVEmqip\npVBgZk+a2SXhVUnnmdl5UU0mMe+QXplMGtmHh99bwcbtZUHHEZEmaGopZAI7gdOAs8NfZ0UrlLQf\nN4/Po7LK+dObS4OOIiJN0KTdQtz9a9EOIu3TwO5pXHR0fx6fvZprRg+mf7dOQUcSkQY0de+jFDO7\n3szuNbOHar6iHU7ah2+dkkucGXe+tjjoKCLSiKauPvo70AuYALwN9ANKohVK2pdenVP46gk5/Ouj\ntSz+XP9tRNqyppbCUHf/X6DU3R8BzgSOaOgJ4dnExprrOtfzuJnZ3Wa21Mw+NbNRBxZdYsm1XxxC\nWlICf3hFswWRtqyppVARvt1qZocDnYGcRp7zMDCxgcdPB3LDX5OB+5qYRWJQt7Qkrh49iJfnbeCT\nNVsbf4KIBKKppTDVzLoCPwKeB+YDv2noCe4+HdjcwJBJwN885H2gi5n1bmIeiUFXjx5Mt7QkfvfK\noqCjiMh+NLUUXnf3Le4+3d0Hu3sP4JVmvndfYE2t+4XhZfsws8lmVmBmBUVFutxjrEpPTuAbY4cw\nY0kx7y0rDjqOiNSjqaXwTD3Lnm7me1s9y+q9jqO7T3X3fHfPz87ObubbSpAuPW4gvTJT+N20Rbjr\nsp0ibU2DxymY2SGETpXdea8jmDOBlGa+dyHQv9b9fsC6Zr6mtHEpifHcMC6XH/xrLm8s3Mi4Q3sG\nHUlEamlspjCM0JHLXdhzJPPZwCjgmma+9/PA5eG9kI4Dtrm7Lu7bAVyQ34+c7p24Y9oiqqs1WxBp\nSxqcKbj7c8BzZna8u888kBc2s8eBsUCWmRUCPwESw697P/Aioes8LyV0Cg0dNd1BJMbHcfP4PG58\n4mNe+HQdk75Q76YkEQlAU69+8iUzmwfsAl4GRgI3ufuj+3uCu1/S0At6aIXy9U0NKu3L2SP6cN9b\ny7jz1cWccURvEuObunlLRKKpqaVwmrt/x8y+RGhbwAXAm4Su3SxywOLijNtOG8bVfyvgukc/ZFBW\nJ9KTE0lPSSAjOYH0lATSw7e176clJRAXV98+CiLSEppaConh2zOAx919s5l+MKV5xh3ag/OP6sfb\ni4t4d2kxuyqqGn2OGaQn1S2N9OQEMmru11MsGSk1jyfueV5yAvEqF5F9NLUUXjCzhYRWH33DzLIB\nnSBfmsXM+N0FIyP3K6uqKS2voqS8gh3llewoq6SkrJKS8Pc7yitCyyL3Q18lZZWs31ZWZ1lTdEqK\njxRLt05J/O9ZwxnZv0u0/rkiMcGauq94+Ijm7e5eZWadgEx33xDVdPXIz8/3goKC1n5biSFV1U7p\n7j3FUVJTFuFiqXs/VDLvL9tEny6pPP/NE9EsWNojM5vj7vmNjWvsOIVT3P2N2sco7PUD8+zBRxSJ\njvg4IzMlkcyUxMYHhz1VsIbvPP0pr8z/nAmH9YpiOpG2rbFdPsaEb2uutLb3rUi7cN6RfRmUlcad\nry7WsRPSoTVWCiVmdgvwWa2vecDc8Pci7UJCfBw3jstl4YYSXvxMx1BKx9VYKaQDGcBRwHVAb6AP\ncC0wPLrRRFrX2SP7kNsjnbteW0KVZgvSQTVYCu7+M3f/GZAFjHL329z9VkIl0a81Aoq0lvg446ZT\n81i6cQcvfKLTcEnH1NTDSAcAu2vd303jF9kRiTmnH96LQ3plMOX1JVRWVQcdR6TVHcg1mmeb2U/N\n7CfALOCR6MUSCUZcnHHL+DxWFJfy7Edrg44j0uqaVAru/gtCJ6zbAmwFvubuv4pmMJGgjB/ekxH9\nOnP360vYXanZgnQsTT4Lmbt/6O5Twl8fRTOUSJDMjJvH51G4ZRf/nLOm8SeItCM6NaVIPcbmZXPk\ngC786Y2llDXhnEwi7YVKQaQeZsat44exflsZT8xeHXQckVajUhDZjxOHdueYQd24561l7Nqt2YJ0\nDCoFkf0IzRbyKCop5x+zVgUdR6RVqBREGnDs4O6cNDSL+95aRmkTT8ktEstUCiKNuOW0PDaV7uaR\nmSuDjiISdSoFkUaMGtCVk4dlM3X6ckrKKoKOIxJVKgWRJrhl/DC27qzgoXdWBh1FJKpUCiJNcES/\nzpw2vCcPvrOcbTs1W5D2K6qlYGYTzWyRmS01s+/V8/gAM3vTzD4ys0/N7Ixo5hFpjpvH51FSVskD\nM5YHHUUkaqJWCmYWD9wDnE7o2guXmNne12D4EfCUux8JXAzcG608Is11aO9MzjyiN399dwWbS3c3\n/gSRGBTNmcIxwFJ3X+7uu4EngEl7jXEgM/x9Z0AnsZc27aZTc9lZUcWf314WdBSRqIhmKfQFap9N\nrDC8rLafApeaWSHwIvCt+l7IzCabWYGZFRQVFUUjq0iT5PbMYNLIPjwycyVFJeVBxxFpcdEsBatn\n2d7XOLwEeNjd+wFnAH83s30yuftUd8939/zs7OwoRBVpuhtPzaOiyrnvLc0WpP2JZikUAv1r3e/H\nvquHrgKeAnD3mUAKoUt/irRZg7LSOO/Ivjw6axUbtpUFHUekRUWzFD4Acs1skJklEdqQ/PxeY1YD\n4wDM7FBCpaD1Q9Lm3TAul+pq5543lwYdRaRFRa0U3L0S+CYwDVhAaC+jeWZ2u5mdEx52K3CNmX0C\nPA5c4e57r2ISaXP6d+vEhUf354kPVlO4ZWfQcURajMXa7+D8/HwvKCgIOoYI67buYuwdb3HeqL78\n+n9GBB1HpEFmNsfd8xsbpyOaRQ5Sny6pfPnYAfxzTiGrNpUGHUekRagURJrhG2OHkBBnTHl9SdBR\nRFqESkGkGXpkpnDZcQP590drWbpxR9BxRJpNpSDSTNeOHUJKYjx3a7Yg7YBKQaSZstKT+eoJObzw\n6ToWbSgJOo5Is6gURFrA5NGDSUtK4K7XFgcdRaRZVAoiLaBrWhJXnjSIlz7bwLx124KOI3LQVAoi\nLeSqkwaRmZLAna9qtiCxS6Ug0kI6pyYyecxgXluwkY/XbA06jshBUSmItKArThxE106J/EGzBYlR\nKgWRFpSenMC1XxzC9MVFFKzcHHQckQOmUhBpYZcdP5Cs9CR+/4pmCxJ7VAoiLaxTUgLXjR3KzOWb\neG9ZcdBxRA6ISkEkCr5y7AB6ZiZz56uLibUzEUvHplIQiYKUxHi+efJQPli5hRlLNFuQ2KFSEImS\nC4/uT98uqfxeswWJISoFkShJTojnW6cM5ZM1W3lj4cag44g0iUpBJIr+56h+DOjWiT9otiAxQqUg\nEkWJ8XHcOC6Xeeu2M23ehqDjiDRKpSASZece2ZfB2Wnc+eoSqqs1W5C2TaUgEmXxccZNp+ax6PMS\n/jN3fdBxRBqkUhBpBWcd0Zu8nunc9dpiqjRbkDYsqqVgZhPNbJGZLTWz7+1nzIVmNt/M5pnZY9HM\nIxKUuDjj5lPzWF5UynMfrw06jsh+Ra0UzCweuAc4HRgOXGJmw/cakwt8HzjR3Q8DbopWHpGgTTis\nF8N7ZzLl9SVUVFUHHUekXtGcKRwDLHX35e6+G3gCmLTXmGuAe9x9C4C7a2duabfi4oxbxuexatNO\nnv2wMOg4IvWKZin0BdbUul8YXlZbHpBnZu+a2ftmNjGKeUQCN+7QHozs34W7X1/K7krNFqTtiWYp\nWD3L9t7ClgDkAmOBS4AHzazLPi9kNtnMCsysoKioqMWDirQWs9BsYe3WXTxZsKbxJ4i0smiWQiHQ\nv9b9fsC6esY85+4V7r4CWESoJOpw96nunu/u+dnZ2VELLNIaxuRmkT+wK/e8sZSyiqqg44jUEc1S\n+ADINbNBZpYEXAw8v9eYfwMnA5hZFqHVScujmEkkcGbGLaflsWF7GY/NWh10HJE6olYK7l4JfBOY\nBiwAnnL3eWZ2u5mdEx42DdhkZvOBN4Fvu/umaGUSaStOGJLF8YO7c+9by9i1W7MFaTss1k7SlZ+f\n7wUFBUHHEGm2D1Zu5oL7Z/KDMw5h8pghQceRds7M5rh7fmPjdESzSECOzunG6Nws7n97OTvKK4OO\nIwKoFEQCdetpw9hcuptH3lsZdBQRQKUgEqgv9O/CuEN6MHX6craXVQQdR0SlIBK0m8fnsW1XBX+Z\nsSLoKCIqBZGgHd63MxMP68VD76xg687dQceRDk6lINIG3Dw+jx27K5k6XYfpSLASgg4gIjCsVwZn\njejDw++tJDM1keG9MzmsTybd05ODjiYdjEpBpI247bQ85q/bxq9fWhhZ1jMzmeG9MxneJ5PD+nRm\neO9MBnTrRFxcfacWE2k+lYJIGzGwexqv3zqWbTsrmLd+G/PXbWf++u3MX7edGUuKqQxfsS0tKZ5D\nwzOJ4X0yGd67M7k900lJjA/4XyDtgY5oFokBZRVVLN24g/nrtjNv3Tbmr9/OgvUlkYPeEuKMoT3S\nI7OKUFlk0qVTUsDJpa1o6hHNmimIxICUxHgO79uZw/t2pubkw9XVzpotO5m3bntkVvHusmKe/WjP\n5T77dknda1aRSb+uqZhp9ZPUT6UgEqPi4oyB3dMY2D2NM47oHVlevKOcBeu31ymLNxZ+TnjtE5kp\nCZHVTjVFkdszncR47YwoKgWRdicrPZnRudmMzt1z7ZFdu6tYuGHPNor567fz2OxVlFWErv6WFB9H\nbs89q5+G9cqgZ2YK2RnJZCQnaGbRgagURDqA1KR4jhzQlSMHdI0sq6p2VhSXMn99eDvFuu28sXAj\n/5xT9/rRyQlxZGckh77Sk/d8v9f9rPRkbexuB1QKIh1UfHjj9NAe6Zwzsg8A7k5RSTlLNu6gqKQ8\n9LWjPPL9qk07KVi1hc2l9R95nZmSUKs0UvZbIt3SkojXbrVtkkpBRCLMjB6ZKfTITGlwXEVVNZt2\n7A6XRtmeAqlVInMLt1JUUk5pPRcRijPont7wzCM7I5memSmkJ+vXVGvSpy0iBywxPo5enVPo1TkF\n6Nzg2NLySop31C2N4r1mIEs+L6FoRzkVVfvuIt+1UyL9unaif7fU0G3X1Mj9vl06kZqkVVYtSaUg\nIlGVlpxAWnICA7unNTjO3dm2q6JOeazfVsaazTsp3LKLhRtKeG3BRnZXVtd5XlZ6cr2F0a9rJ/p0\nSSE5QaVxIFQKItImmBldOiXRpVMSuT0z6h1TXe0U7yhnzZZQUdQUxpotO/m0cCsvzV0fOfI79JrQ\nMyNln9Lo1y2V/l070btzCgl1+kkWAAAIoUlEQVTaFbcOlYKIxIy4uD3bPI4auO/jVdXOhu1lFG7e\nyZotuyjcspM1m0O3s1ds5rmPd1GrM4iPM3p3TqFf11BJ1FlN1S2VHhkpHW6DuEpBRNqN+Dijb5dU\n+nZJ5dh6Hq+oqmb91rLwTGNPYazZsou3FxexsaS8zvjE+NDrDeiexqDunRiUlUZOVhqDs9Lp2zW1\nXRaGSkFEOozE+DgGdO/EgO6d6n28rKKKtVt37bNqatWmUj5ctSVyrqnQaxkDuoWKoqYsar7vmZES\ns2eyVSmIiISlJMYzJDudIdnp+zzm7hTtKGdl8U5WFO9gRfh2ZfFOpi8prrMBPCUxjpzuaXUKY3D4\ntntaUps+QjyqpWBmE4EpQDzwoLv/ej/jzgf+CRzt7joFqoi0OWZGj4wUemSkcMygbnUeq6521m8v\nY0VRKSs2lbKyuJQVxaUs2lDCq/M/r7PxOyMlYU9ZdE9jcHboNicrjc6pia39z9pH1ErBzOKBe4Dx\nQCHwgZk97+7z9xqXAdwAzIpWFhGRaIqrtS3jpNysOo9VVFWzdssuVoSLYkVxKSs3lVKwcgvPf7KO\n2lcv6J6WtM+qqJryaK3jMaI5UzgGWOruywHM7AlgEjB/r3E/B34L3BbFLCIigUiMjyMn/Iv+5L0e\nK6uoYvXmnXvKoriU5cWlTF9cxNN7nYOqd+cUrjppEFePHhzVvNEshb7Amlr3C6HuDgFmdiTQ393/\nY2b7LQUzmwxMBhgwYEAUooqItL6UxHjyemaQV89xGTvKKyOroWpuszOif83uaJZCfVtSIhMlM4sD\n7gSuaOyF3H0qMBVCV15roXwiIm1WenJCrQsrtZ5oHspXSM0lokL6Aetq3c8ADgfeMrOVwHHA82bW\n6OXiREQkOqJZCh8AuWY2yMySgIuB52sedPdt7p7l7jnungO8D5yjvY9ERIITtVJw90rgm8A0YAHw\nlLvPM7PbzeycaL2viIgcvKgep+DuLwIv7rXsx/sZOzaaWUREpHE6PaCIiESoFEREJEKlICIiESoF\nERGJMPfYOhbMzIqAVUHnaKYsoDjoEG2IPo+69Hnsoc+iruZ8HgPdPbuxQTFXCu2BmRW4uw7SC9Pn\nUZc+jz30WdTVGp+HVh+JiEiESkFERCJUCsGYGnSANkafR136PPbQZ1FX1D8PbVMQEZEIzRRERCRC\npSAiIhEqhVZkZv3N7E0zW2Bm88zsxqAzBc3M4s3sIzP7T9BZgmZmXczsaTNbGP4/cnzQmYJkZjeH\nf04+M7PHzSwl6EytycweMrONZvZZrWXdzOxVM1sSvu3a0u+rUmhdlcCt7n4ooYsKXW9mwwPOFLQb\nCZ1aXWAK8LK7HwKMpAN/LmbWF7gByHf3w4F4Qtdk6UgeBibutex7wOvungu8Hr7folQKrcjd17v7\nh+HvSwj90PcNNlVwzKwfcCbwYNBZgmZmmcAY4C8A7r7b3bcGmypwCUCqmSUAnah75cZ2z92nA5v3\nWjwJeCT8/SPAuS39viqFgJhZDnAkMCvYJIG6C/gOUB10kDZgMFAE/DW8Ou1BM0sLOlRQ3H0t8Dtg\nNbAe2OburwSbqk3o6e7rIfRHJtCjpd9ApRAAM0sHngFucvftQecJgpmdBWx09zlBZ2kjEoBRwH3u\nfiRQShRWDcSK8LryScAgoA+QZmaXBpuqY1AptDIzSyRUCP9w92eDzhOgE4FzzGwl8ARwipk9Gmyk\nQBUChe5eM3N8mlBJdFSnAivcvcjdK4BngRMCztQWfG5mvQHCtxtb+g1UCq3IzIzQOuMF7v6HoPME\nyd2/7+793D2H0AbEN9y9w/4l6O4bgDVmNiy8aBwwP8BIQVsNHGdmncI/N+PowBvea3ke+Gr4+68C\nz7X0G0T1Gs2yjxOBy4C5ZvZxeNkPwteyFvkW8A8zSwKWA18LOE9g3H2WmT0NfEhor72P6GCnvDCz\nx4GxQJaZFQI/AX4NPGVmVxEqzgta/H11mgsREamh1UciIhKhUhARkQiVgoiIRKgUREQkQqUgIiIR\nKgVpV8zsp2Z220E8r4uZfSMamVrCwf67RA6USkEkpAtwQKVgIW3+ZyhWckrboP8oErPM7HIz+9TM\nPjGzv9fz+Ftmlh/+Pit8Sg3M7DAzm21mH4efn0vooKAh4WV3hMd928w+CI/5WXhZTvhaB/cSOrCq\n/17vudLMfmZmH5rZXDM7JLy8zl/64WsE5IS/FoZPgPeZmf3DzE41s3fD58w/ptbLjzSzN8LLr6n1\nWgecU2R/dESzxCQzOwz4IXCiuxebWbcDePq1wBR3rzl6OJ7QyecOd/cvhF//NCAXOAYw4HkzG0Po\nKNJhwNfcfX8zi2J3HxVeHXUbcHUjeYYSOjJ1MvAB8GXgJOAc4AfsOT3yCELX4UgDPjKz/wKHNyOn\nyD5UChKrTgGedvdiAHff+7zzDZkJ/DB8PYdn3X1J6PQ6dZwW/voofD+d0C/f1cAqd3+/gdevOdHh\nHOC8JuRZ4e5zAcxsHqGLqLiZzQVyao17zt13AbvM7E1CRXBSM3KK7EOlILHKgMbO0VLJnlWkkUs5\nuvtjZjaL0AV+ppnZ1YTONbT36//K3f9cZ2HoOhiljbxvefi2ij0/Y7Wz1MlTazyEri1RXuv72j+j\ne/97vZk5RfahbQoSq14HLjSz7hC6dm09Y1YCR4W/P79moZkNBpa7+92Ezjo5AigBMmo9dxpwZfja\nF5hZXzNrzgVNVhI+FbaZjSJ0nYADNcnMUsL/5rGEVjW1dE7p4DRTkJjk7vPM7BfA22ZWRWj1yRV7\nDfsdoTNKXga8UWv5RcClZlYBbABud/fN4Y27nwEvufu3zexQYGZ41dIO4FJCf/0fjGeAy8Nnx/0A\nWHwQrzEb+C8wAPi5u68D1rVwTungdJZUERGJ0OojERGJUCmIiEiESkFERCJUCiIiEqFSEBGRCJWC\niIhEqBRERCTi/wHo5RGOKNzsoAAAAABJRU5ErkJggg==\n",
      "text/plain": [
       "<matplotlib.figure.Figure at 0x1be0304f518>"
      ]
     },
     "metadata": {},
     "output_type": "display_data"
    }
   ],
   "source": [
    "# Plot dendogram\n",
    "plt.title('Hierarchical Clustering Dendrogram (truncated)')\n",
    "plt.xlabel('cluster size')\n",
    "plt.ylabel('distance')\n",
    "dendrogram(Z,truncate_mode='lastp', p=20, leaf_rotation=90.,leaf_font_size=12.)\n",
    "plt.show()\n",
    "    \n",
    "#Scree Plot\n",
    "plt.title('Scree Plot')\n",
    "plt.xlabel('cluster number')\n",
    "plt.ylabel('distance')\n",
    "last = Z[-10:, 2]\n",
    "last_rev = last[::-1]\n",
    "idxs = np.arange(1, len(last) + 1)\n",
    "plt.plot(idxs, last_rev);"
   ]
  },
  {
   "cell_type": "markdown",
   "metadata": {},
   "source": [
    "Using the dendogram (between cluster distance cut off of 1.0) and scree plot (at cluster 4, a climb in distance is seen compared to other points), 4 clusters is chosen as the most suitable"
   ]
  },
  {
   "cell_type": "code",
   "execution_count": 137,
   "metadata": {
    "collapsed": true
   },
   "outputs": [],
   "source": [
    "k=6\n",
    "clusters = fcluster(Z, k, criterion='maxclust') #apply the Z-the hierarchical cluster to return the cluster labels, \n",
    "#with k clusters while maxclust enforces a minimum threshold "
   ]
  },
  {
   "cell_type": "code",
   "execution_count": 138,
   "metadata": {},
   "outputs": [
    {
     "data": {
      "image/png": "iVBORw0KGgoAAAANSUhEUgAAAX8AAAD8CAYAAACfF6SlAAAABHNCSVQICAgIfAhkiAAAAAlwSFlz\nAAALEgAACxIB0t1+/AAAADl0RVh0U29mdHdhcmUAbWF0cGxvdGxpYiB2ZXJzaW9uIDIuMS4wLCBo\ndHRwOi8vbWF0cGxvdGxpYi5vcmcvpW3flQAAIABJREFUeJzsnXd8VFX6/99nSjoJISGBECB0Qugg\nCiKIoogUdVdXV/er6+IClrWsvaDg+lvL6rqurmXdta+9omBXqijSpUNISAIEkpDept3fHyeBlCn3\n3plAynm/XiPJzLnnHCczzz3nOc/zeYSmaSgUCoWiY2E52RNQKBQKxYlHGX+FQqHogCjjr1AoFB0Q\nZfwVCoWiA6KMv0KhUHRAlPFXKBSKDogy/gqFQtEBUcZfoVAoOiDK+CsUCkUHxHayJ+CLxMRELS0t\n7WRPQ6FQKNoU69evL9Q0rWugdq3W+KelpbFu3bqTPQ2FQqFoUwgh9utpp9w+CoVC0QFRxl+hUCg6\nIMr4KxQKRQdEGX+FQqHogCjjr1AoFB0QZfzbIJqmUV5SRWV5zcmeikKhaKO02lBPRXOctS62rN1P\nWaF3oz/0tFS6do87wbNSKBRtkZCs/IUQLwkhjgghtvp4/UwhRKkQYlPd4/5QjNuRqK1x8sNXu3wa\nfoCtP+ax5us9qNKcCoUiEKFy+7wCnBegzUpN00bWPR4M0bgdhuydBXhcgdvVVDgoOFTW8hNSKBRt\nmpAYf03TVgBHQ9GXwjtF+eW62277KY+87KIWnI1CoWjrnMgD3/FCiM1CiM+FEBkncNx2gc1uNdR+\nz8Z8tv6kK8tboVB0QE6U8d8A9NY0bQTwNPCxt0ZCiLlCiHVCiHUFBQUnaGptg9S+XQxfU3CwArfb\nHfTY6gxBoWh/nJBoH03Tyhr8vFQI8awQIlHTtMIm7f4N/Btg7NixyuI0oLyk2tR1B/cV03NAoqFr\nSoqqyN5xmJKiKjSPfC4swsrA4Sl07RFrah4KhaJ1cUJW/kKIbkIIUffzuLpxlVPaAPm5paaus4Ub\ncxfl55SwcWUWxQXHDT+Ao8bN1rW5bF+Xp3YCCkU7ICQrfyHEW8CZQKIQIg94ALADaJr2PHAxcK0Q\nwgVUA5dpyoIYQvOYe7u694rX3dbj0diz5RD4Gepwbimx8ZGk9kswNR+FQtE6CInx1zTttwFefwZ4\nJhRjdVSiYyOoKDWW0TtodHdD7asravHouMns2ZJPUX4F6WN6EBah8gQViraIkndoIwwZ20N32+i4\nMCbOHEhKb2OHxPYwm+4dxtGCCjaszFIuIIWijaKMfxshOjaC087tT+fEKCxWgcUmmrWJiglj8ux0\nxp01ALvdbniMsAgbnbtG62usgaPGRUlhleFxFArFyUft2VshLqeLn7/PpKaycUqvJRzGntGX6E6R\nx56rLKulttZJXJdIrFZjh7veyDgllXXLmo/tDU3TqKlyADpvGAqFotWgjH8rY9vPORzJ857N66mF\ntd/sA2DoKcl0TU0kOjacaMJDNr49zIY9zK7L+APExEWEbGyFQnHiUG6fVoSj1unT8Ddl68+HW2we\ntVWOgG2EgM4JUXTqHBmwLchdQkVpDUePVOB0BJ94puh4eDTPsYcieNTKvxWxabUxOYbvP9rGxBmD\nsYcF7+5pSEznSI4ervD5urAIeg1IIG1QV1391VY72bgqm+pKh9cwUluYhX4ZSaSkqfBRRXN2Fe/i\nwz0fUktto+cTwxL549A/Em4L3c63I6FW/q0IR7U+V0tDVi3ZSdHh0Kp49h2ShMXa/EC5S3I0oyf1\nYfLsdPoOScZi1ffx2fzDfqorvBt+AJfDw66N+Xz/0TYO7i8OZuqKdsa+0n28teetZoYfoNBRyMMb\nHuZAxYGTMLO2jzL+rYje6cZkGOr5ZU0uHnfotsKdOkcyelIf4pOisdmtRMeGkzEulRET0ohLiKIu\nWVsXVRW1VJU3/+L6YteGgzidxm+CivbJdwe+C9jmP9v/cwJm0v5Qbp9WRM++iezdbNyXr2mwfPGO\nY79HxFjJOKUXsZ2jmrWtrnSwf3chRw6U4HYeX4rHdglj0KgeRHeKRAhBp86RjDw9zdT/R0OcDjdG\nUwE2rshi3NkDgh5b0fYpqgmsAqOh8dDah7hhxA10Du98AmbVPlAr/1bGlIsysHqJ4TdCTYWb9d9n\n8f3H2xqtoitKa/jx6z0cyi5uZPgByo46+PnbLJZ9vJ2VS3bgcoVm9R0TFwEG/3cqyxx8/9E2nE51\nMNzR6Rqh71zJhYt/bP5HSFRsOwrK+LdCJs0awpkXDkFYgrsJoMGaL3cf+3XXxoN+dXvqcTk8rFqy\nK7ix67BaLfQeaM6dteaL0MxB0XY5K/UsQ+2f2vwULrdyG+pBGf9WihCCkRPTMOBe94rbqVFb4wSg\nrFi/LLTmgeIQHST3HZJMfJLxRDC3S8OlVv8dmq1HvZYF90mZq4yH1j/El9lfGrrO5XHxXe53PL7h\ncR7f8Dg/5f9k6Pq2iDL+rZjOCVFMvmAIg8ekkNCtk+l+fvh8N5UGDl3r2bE53/SYTXE5zR1IO2rU\nKq4js7Fgo6nr1hxZQ1G1PtV4p8fJExufYMWhFVS4KqhwVfB5zuf8bf3fTI3dVlDGv5UjhKB7r3iG\nj+/FlIsyOPPCIYw6I81rKKY/Nq7MMrz6rq10Gtot+MOoImk94VHGNYoU7YdgEro+yPxAV7vVB1dT\n7W7+Oa90V/L+3vfbrXihivZpYwgh6JwYTUpaPHmZR3Vf53S4SRvUleIjlYbG2/pTNrXVx7+AaYMT\nSBucbCjcE8Bqs+AymNnbJTkGq85cAkX7pGtEV47UHDF1bZlDn9tyfcF6n69tPbqV7LJsfjf4d3SL\n6mZqHq0V9c1qowwY3t3QeYAA3C4P46f3MzROQ8MPkL2ziGUfb2fdd3sN9dNrgLHs3eSecQwf38vQ\nNYr2x28H+i0V4pcRCSN0tQu0kKlwVfDi1hdxepym59IaUca/DWNoNyoEsV2iiIiIYMpFGUy5KINJ\nswcz4vTeCBOfgvLSWrZvyNXdvvfAriSmBD63iIkLZ8pFGQwZm2p4d6Fof8RHxHPTsJtMXTu111Rd\n7c5MOTNgGzduNhduNjWP1opy+7RhLBahq/IWSMmGphpAVquVLkkxjJ82kB+/3KO7r3oO7y9j4DA3\nNnvjfsuOVpGbWcCRPKkPZAmD0RP7MuzUXtTWODmSV0LWzkLcTQ6B+2UkGS42r2gfrMhbwXcHm2fz\nXtj7QkYkjWDhuIUsy1vGmoNrcOGiV0wvMhIy+Gz/Z82usVvs3DHqDt2Lh9FJo1mcvThgu/WH1zM2\naayuPtsCorUeZowdO1Zbt27dyZ5GqyZnbyGZv/jPCI6Ji6D/8G7EJ/o/7K0orWHHhgNUlBg/mB13\ndj+iYyNwOd2s/GynrmumXJSBx+PB6XBjD7NisahNaEek0lHJ3zbpi6pZOG5hs+c0TWNT4SZKaks4\nNflUouzNs9oDUVBZwL+2/Stgu94xvbl6yNWG+z/RCCHWa5oW8C6ljH8bxOP2sHnNfkoKmlfRioiy\nc8pZfbHarKbcJh63h8L8Mrat1S+WJSxw5gUZrPhsG24DbtEpF2UYnp+ifbFo7SI0PZmHQKI9kRtG\n3RDyOXyW9RnrCgLbmj8M/gO9Ylv/OZRe46/cPm2A2honubuLyN1XFDBD1xZmRdMCH2L5wmK1kNSj\nM/tijlBdoc+Sax6oqXYaMvwAeTmHSO1lrMi8on2h1/ADFDoL+eHgD0xImRDSOUTbAodAdw7rbMrw\nVzoqeXfPu+yvPC7XLhD8ts9v6ZfYD6sIrRy7EZTxb8U4al2sXmpM4qCipIb1y7MYd3Z/LEHIQ4w7\nu78Ui9P53XTUGk/G2rP+KHvWH2XizEHY7eqjqAjMV3lfsfbIWm4eeXPI+hzedTjLDy33+fqoxFHM\n7jPbcL8fZ37MpqJNzZ7X0Hgz603IgtSoVK4Zeo3hvkOBcrS2Yowa/npqq50UHgpOmsFiseg2/AAx\nsebLOa76TGn4KPRT4ijhl8JfQtZfQkQCw7sMb/a8BQv3jr6XC/peYHgnnVma6dXwNyWvKo93dr9j\nqO9QoZZbrZTKMuNyDPV43LJkYlKPuKDmYLVZcLsCZ1j2y0jGYhFEdrJRXW5OjuH7j7YB0K13LOmj\ne5rqQ9H2GBY/jF+KjRvyD/Z9wAf7ZAZvlDWKyd0nc0q3U7wGDrg8Ltbkr2FfyT4KqguodlfT2d6Z\n89LOo29cX6wWKxf1u4iB8QNZfXA1Va4qRieNZkL3Cdgt5jLMv8r5SnfbHSU7KKwsJDH6xEa6qQPf\nVkpxQQWbVhkr61iPxWph4IhudO8dH9QcDmYXSyVQH9jCLaSP6Ulicsyx5+qNeCjoOTCB/hntK6tS\n0Zwvsr/gxyM/hqSvi/tezNDEocd+P1B+gBd3vBjwurN7nM0ZPc4IyRwAntz0JKWOUkPXdLJ24tYx\ntwY9tt4DX+X2aaXExJl3o1itIuhVf2VFDbl7C330b2H05D6ccX56I8MPMoLntPP6BjV2Pbm7i8ja\naS61X9F2OC/tPBaOW8jMtJlB9/X+vvcbSTr/Z4e+Kl/fHviWlQdWBj1+PRldjEeylbvL2XJkS8jm\nEAhl/Fsp9jDjHjkhIC4hijFn9sVq0/+ndTndlBZXsWtzHtvW5bB5zX7Wfp1JVbnDa3u328PWn3Kp\nrfYe3hMZGcmZFw4JuigNQPaOAspLQyMup2jdjOk6hjO6n4EwWv2nCW/veRtN0yisKTQUTfTtgW+D\nGrchZ6WehV0Ydxl9mP0hb+1+C48ndGVZfaHcPiFG0zSOHq6goqyWqOgwErp3Mh11o2kayz7erqvt\npNnpAIaE0JwON6uW6EvK8oY9zMLEGek+X/d4POzbfoSDWUUEW18jtnMEY6YY0yVStE1q3bXkV+Tz\n+q7XcWHug9MlvAu/6vcrw/V9L+hzAaO6jjI1ZlNqnbU8vPFhU9fGhcVxy8hbTF2r4vxPAi6nmw0r\nsqipdOD2aFitFmx2C2Mm9yU80vgqQAjBlIsyqKmuYdOqHK9x99GxYabr3QZj+AGcDg+lRVXEJXjP\nqrRYLPQf2o3+Q6Xfft+Ow+TvL6G22vgXuqykhpw9BfQaoK+sn6LtEm4Np3dcb+4bdx8gF0FPb3ma\no7X6VWyP1h5ld/HuwA2bsDhrcciMvyUIRdpSRynZZdmkxaaFZC7eUMY/hGRuO0xVueOY/rfb5cHt\n8rBz40FGTOhtut+IyAhGn9GXdcv24XK4cbs9WK0Cq93K8AlppvqsCJErpaK02qfxb0rf9GT6piez\nfV0uh3ONh6Jm7VTGvyMihOCS/pfwys5XcLqdeNDnEvnpyE8MihvErlL9ocQaWqOsY4GgW1Q3Tk0+\nlRGJIwyFfNpEcOZ1a9HWFjX+IfH5CyFeEkIcEUJ4rbkmJP8UQuwVQmwRQowOxbitjSN5pV4LPxQf\nqQjahxcWYeO0c/ozaHQKvQYmMnBkCqedO4AIEzsKgNIQFWmJT4oJ3KgJQ8b2pHtaZ8PXeVyt00Wp\naHm6R3fnlhG3cH7a+QyJH6LrGo/m4beDfkvPaGOhww3PCTQ0DlUd4uOsj1n08yK2FemPZhNCEG4J\nNzR2QzqHG/+OGCFUK/9XgGeA13y8Ph0YUPc4FXiu7t92ha/jE+3Yf4zjcrqpqXISHmnHHmYlOTWO\n5NTgInkAunQ1brS9ERVj7sPdrWdnDmWXGLomIkptVDsyEbYIxiaNZWzSWDyahwd/ftBv+0GdBwEw\nJ2MOIMM+s0qzWHZwmemzhPcy36N3bG9i7Pq+P3ePvZuFaxeaGmtc8jhT1+klJN8mTdNWCCHS/DS5\nAHhNk8viH4UQnYUQ3TVNOxSK8VsLSSmx5OeWNLsJxCdGG/b/aZpG5tbDHNh3FGERuN0e7GEW3G6w\nWORY/YYmYzMpixAZHWbquoZEBFFiMcLE+KPOSDM9nqJ9YREWRiSMYHORd419q7A2k2To0akHPTr1\nYGLqRIqqi3j6l6dNjf3GjjeYP3x+o+dqXDV8mvkp20rlzqBnVE9GdR3FkMQhLBy3kP9t/x97Kvbo\n6l8guHzg5YRZg/+O+uNELaV6AA0rf+TVPdeujH+/ocmUFFXhqHXhdnmwWC1YbYJBo1IM95W7t4gD\nWUelxn6dzr6zVrqOPMDB7BIOZpfQo088A0Z0NyXkdvqMAaxeou8D6Y20web970bdVeljehARZX4L\nrWh/XNj3QmrcNewqaezTHxw3mIv7X4zN6tu8JUQmsGDsAr7O/ZrM0kwKagp0j5tfk88rO17hysFX\n4nQ7eXhD84ie3Kpccvfnsni/rBPwwCkPIIRA07Rj31W3282n2Z+y/aiM6OsV04txyePoH98fi5kK\nSwYJWahn3cr/M03Thnp5bQnwsKZpq+p+/xa4Q9O09U3azQXmAvTq1WvM/v3mMlxPJh6PRuGhMipK\naojqFE7XlFhDMff1rF66S7dYWs8BCcciasyw7ef9xwqvNMVmFwwYkcLO9Qca7WiSe8YxZGyq6THL\niqvI2VNIwYFyv+0GjEgmta8q8NLRKawuZO2RtRRVF9G7U28GdB5AcW0xsWGxJEckU+osJS4sDrvV\n+G5U0zQW/bzI8HXjksax9sha3e3vHXUvdrv53bJeTriefwDj/wKwTNO0t+p+3wWc6c/t01bj/EPF\nsk+2o+msrGWxCs6YOThkBVEark4aPldwsAxHjYuk1FjCwo19iDVNo6SwkqoKB9m7CnDoCPdMH92D\nbr1b9tBL0Tpxe9xsOryJtQVribZFk1OZg1tzo6EhEGhohFnC0NDoEt6F/xv8f7r98N5YvG8xGwo3\nhPD/wDveCtKEmtYW578YuEEI8TbyoLe0vfn7Q02nuAjK9EbkaOByeggLD43x9+ZCEsK4ZITH4zEk\nC90Qi1UQEd3yqyRF6+Jg5UHe2PkGVe7mhYrqqY/GcXhkBnpBdQEfZH7AVYOvMj3u7L6z6RrVla9z\nvtYdSmqGhWsXck6Pczi9x+ktNoZeQhXq+RawBhgkhMgTQswRQswXQtSfiiwF9gF7gReB60Ixbnum\n//BuWKz6/PhWm6VZfd6TjaZpLP/EnOEHqUyauc1/iUpF+6LSWcl/tv3Hr+H3hgcPOeU5VDmNXdeU\n8d3Gc/+4+1t8df71ga8pqTEW6dYSKHmHVkxFaQ3ZOwsoOlyOx+397yQsMHBECilpxhU83S4PuXuL\nOJxXihAyAqjsaFVdZJGVHn0TSOkTj81m/MaSm3mEvVv0H6J5w2qzMGmWb/kIRfvii/1f8ONh8+qe\nVqz069yPs1LPoltUcGqweeV5AUXhzu15Ll/l6pdu9saY+DHM7D/TdOU9b6gavu0Ij8fDljU5FB+p\nbPR8ZEwY/TKS6ZoSa6JPjXXfZ1Jd4ZARRT6wh1sZf+5Aw4fWoZB2joiyMX7aoKD7UbQNXtr+EjkV\nOUH3Y7fY+d2g39G7k/msegCHy8E/N/+TCnfjYAibsHFer/MYmzyWffn7eC3HV3qTMaxYWTBuQdD9\nKOPfolQCO4AyoBsyd63l/dMVZTVUlNQQEWUnLiEqqNXC4bxSdm04gNvHjqIhZiJ7li3ehuY2OztJ\n58QoRp3RJ7hOFG2Gb3K/YdWhVSHpKzkymWuHXWvomt3Fu9ldspuEyATGdR2Hw+MgzBpGlauK3Ipc\nYuwx9Izp6fV799T6pyh2F4dk7sG6nVrbgW874jCwBHAjHdp7gdXARKBlXRQxsRFBlUtsSHFBpS7D\nD1BwoAwCfpQaM+G8gaxeYlxYqyFmxPAUbZfTu5/Omvw1uINdNQCHqw/j0TzN4uWrndV8l/cdOZU5\nhIkwOod3JiM+gyX7l1DuOh52/GXOl8d+To5M5g/pfyDc5jvP5KYxN5Fflc9L2186dhBtlg35Gxjd\nreUVcJSevyE04HvAReOTTA1YCZy4QgzBEhFp1y017c8t5IuwsOANd2q/LkH3oWg7RNoiuXbotXQJ\nD/7vHm4Jb2b4txZt5dGNj/Jzwc8crjpMbmUuvxz9hbcz325k+JtyuPowz259NuCY3aK6cf2w65nQ\nbQLhwnxC4uKcxXy490PT1+tFGX9DVCFdPr7Qn/BxsuneuzN6a2aER5rbIE65KIOoeHOuqcTuMcTG\n61MLVbQfEiMTuXHEjSwct5ALe1+IxYSJslvszXRx3B4372e+b3pepY5SDlcFjj6LC4/j3F7ncvcp\nd3P90OtJikgyNd6Wo1v4Pu97U9fqRbl9DGHFf+yiB3ByIvz/wRIeaWf4hN5s/zkPp8PtN6HMSIGY\nppx6plRg3Lf9CPt3BY7+sVgFGaekktjd+CG2on0xMnkkI5NHHvt9Tf6aRu6YeqxYceM+JqE8LGEY\nZ6ae2ahNUwkIMxyoPEByVLLu9l2junLd8OtwuV08tP4hw+MtP7icKalTDF+nF2X8DREBJONfkqjt\nvKXxidFMOG8gVeUOqipqyd5ZQEVpTbN2VRUOCg6WmYoqqqdPelciomzk7C7C6XDRKT4Sj1ujvKQa\nNBAWgdVmYfSkPiERnVO0P8Z3G0+3qG58lfMVpY5Sukd15/y080mISKDaVU1xbTGdwzoTZW++Y3R6\nvJccNULvGHPRQzarjVtH3MpzW58znMPQkrQdS9VqOBt4C3ng25SuHPellAGfA6V1v3dGKlt3aukJ\nGkIIQXRsONGx4eTnlHg1/gB5mUVBGX8hBClpXUhJa+zPLS+upqy4mvBIG12SzZe8VLQfDlfJw9ru\n0d2bvdYntg/zhs5r9nykLZJIW6TPPjO6ZPDRvo9MzykpIomEyATT13cK78QdY+7gwbUPtmgGsRGU\n8TdMFPB74B2gYfxvLDCz7mcX8C40+iOX1F1zNdJ91PrwFzpqJqw0a8dhsncWHvvdHmbB44HY+AiG\njO1JWISNTvGRdIr3/aVVdBz2lu7l7d1v49Kk7pMFCwkRCUTbozm/9/kkRZnznwPYLDYGxg5kd5nx\nCDSB4Joh15geuyGX9LuEdzLf0dV2WJdhIRnTF+rA1xRW4HLgMuBM4JK6n+t9/evB693dA7S8eJRZ\neg30vbLpNcCYsuYvP+Y0Mvwga/66XR6KC6pY/fkuyktazxZYcXKpdlbzxq43jhl+kLINBTUFZJdn\n8+zWZ3nul+eCGuPywZcTYzUu/iYQaCI0+VDpCelc0vcSRIBoi57RPfl1/1+HZExfqJV/UMTWPZri\nLyqg9erVxMZH0a1XHPk5pY2eT+weQ5dk/V8aj8dD4SH/Us0AG1dmM2mWvpJ8ivbN9wcDR7Ycrj7M\n8rzlTE6dbHqc28bcRmVNJU9vfZoaj3cXZ1MibZGEWYI7h3J6nGSVZeFwO6j11DI8YTgxYTH069SP\n5XnLOVB1gHARztmpZzMsaZgpaWqjKOPfIsQD+X5ea72kj0kltW8COXsK0TTo2T9Bd4H2eirL9H2p\n3C4Nl8ttSjtI0b4ortGXHbsqf1VQxh8gOiKaO8fcyfuZ77O7ZDdOjxMLFoQQeDRPoxq+doudqT2n\nBpVNn12WzZu73wTkTaC+fwsW1h5ey8X9LmZQ/ImXMVHGv0U4BSn/0BRR91qoqEEeLHcCQuc37xQf\nScY4Y0WvG2IP1/+x8rg19SlU0C+uH3tKA1eVc3uCz/4FeYZ1cb+LySrPYufRnYRZwxiROIJyZzlf\n53xNYU0hcWFxnJV6FkO66N+d5pXm8Z9d/gXh6vHgwePx8NG+j7h91O1YLSd2EaS+di1CBDAb+AKo\nT/UOB6YBoQhjLAY+RRr/ehKRB84nP0wyIlL/HFqbFLXi5DAuaRzfH/ieWnet33Y9onsEPValsxIh\nBFG2KPrG9qVvbN9jr3WN7Oo1mkgPOwp28E6WvsPchng0D4eqDpEaY74ynhmUsFuLU/9hDlX92Xxk\nbRxvRCEPok/+OX7Z0UrWL8/22ya2SyRjJvf120bRcahx1fDOnnfILs9u5HppyE0jbiI+3Jzr9GDF\nQf6747+NtIOGxw+n0l1JflU+MfYYzk49m4HxA031v3DtQlPXAURaIxmTNIbJPSZjtwTn71eqnu2W\n12i84m/KNCA4KdtQsmvjQQ7nleB2Nf6cWSyC06YNIDyi9WdDK048TreTt/a8RVZZFhoaKVEp/GbA\nb+gcbq6sZ7Wrmkc3PKqr7cRuE5naa6rhMYIx/vUIBNN7TWdct3GBG/vqQ6l6tlcCHaYuQ0YgDQYG\n4X0XUA18i9QqOgVoOdnkQaNSGDQqhaL8cvbtOILT4SYhOYY+6UmEGTgbUHQs7FY7Vw6+MmT9GdHJ\nWZW/ijNSzvCr4tlSaGh8lfsVXSK60L9z/xYdS3372h21QAHyXCAHuRNoyEoaH0Z/jTyI/mOLziqh\nWycSurWu7GZFxyGzNNNQ+x3FOxjZdWTghi2AS3OxOn91ixv/k+8cVhhEr7/TBRwAjjR4rgbvUUga\nYF7xUKFo7Rit6hVuNb7qv2nATYav8UW5I3CeTLAo4x8UtciV85vA28BHwDa86/6Eitno/7N5aJxv\n8K2ftkdNz0ihaO3MSJuhu60Fi6lVd3x8PA+c8oDh67yN3zeu5QMhlPE3zQ/Aq0AWUuOnDOluWQ38\nF3gFWdwl1Afq4cAc4FSkkFxvYCje9YKsNI7/V3IKio6J1WLlyoGBzxAEgt8M+I3piBshBAvHLeTq\n9KvNXY8gwhbBxO4TTV1vaCwV7WOGKuANHe2swEDgjJadDjVIpdGmsrVhwBUc1xzKRSqNeqPl/f4K\nRWtgT8keDpQfwOFxsK98HwAx9hjSOqUxJmmMX3VQI+wr3ccnWZ9Q6ijFKqwMSxhGlauKzNJMBIJI\nWyRnpZ5FTnkOeRV5aGj0i+vH6d1PJzYsKAVdFerZcnwGHNTZtl4EriWVK8uA75D+fUvdIxI4B5n8\n1ZD/4F107kzkjaq+LvF6pFvLgpSjHu+lL4UidNTU1LBlyxZqampIT0+na9euJ3tKLUKNq4ZaTy2x\n9tigZCN8oUI9WxQj7hMrUs451MZfAzbTvHSkp+5RDqwCLqBxvcY5wHt1c6LutUlIww/yxta0WE01\n8CEyJPSc0ExfoWjAnj17eOaZZ9A07dhjypQp/PrXLatsGUoKqgp4ecfLxwq2dI/szm8G/IbY8Fis\n4rhbNsIWQQQRJ2uax1DG3xQDeNlsAAAgAElEQVQjkfH0enDTMgVc1gBbA7Q5ArwONPR1CuA3ftr7\nq1KWBRQB5otaKBRNcblcPPvss9TUNM5hWbZsGUOGDCE9Pf0kzUw/xTXF/Gvrvxo9d6j6EE9teerY\n76cmncrUXlODzuANFerA1xQD0ffWWYFUwLiGuKQC2AVsQko6LEPeTBx4D9n0Rg36I3kC3UxAHnQr\nFKFj9+7deDzNXZEOh4PVq1efhBkZ55WdrwRs89ORn3hp+0u0Fle7WvmbZg7wAb4NqwXoD5xusv8N\nQNMzj3xgN8dvPnpDSt9H5gdcEqCdHv9jS4axKjoibrfvz5TL5fL5Wmui1FEauBFwqOoQWeVZjcTk\nThYd2PhXI6NjojD3NgjgYh+vOZGrfrMbqyM0N/wN2Y0+Q92QYuAT5BmAL8YCgWR1RxscV6Hwz4AB\nA7yu/MPDwznllFBKoLccAuFTjK4pByoOKON/4vkE/5W0hgOnhWCcYH1623S0iUDewIwQqIpYJ6Qe\n0C4fr8cBvQyOqVD4JyIigv/7v//jtddew+Px4Ha7CQ8PZ/DgwYwaNapR2927d/PRRx9x6NAhEhMT\nueCCCxg2rGVr3ephdOJo1heu19U2mDDOUNKBQj3fQkbABMIChKZYs3n0hJLGAinAToN9z9XR5jCw\nAijFe1ioBRgGpOO9jKVCYZyCggJ+/PFHqqqqGDZsGOnp6Y1CIXfs2MGzzz6Lw+E49lxYWBhXXXUV\nY8cGjGxscf62/m9Uuiv9trEJG3eMvoMwa8vV3dAb6hmSA18hxHlCiF1CiL1CiLu8vP57IUSBEGJT\n3eMkWFe9Whke/LtcTgR6SrqNBLq00PjJyLBOb4afuuc3IyUt9OxSFIrAdO3alVmzZnHppZcyZMiQ\nZjHwH3zwQSPDD/JQ+P33W4cu1e1jbmfO4Dl0i+xGpLV5aHeYJYy5GXNb1PAbIWi3jxDCCvwLGQCe\nB/wshFisadr2Jk3f0TTthmDHM4cjcJNGbED61S9vgbnooT/gT4JWICWbdxvsV29ssQNp3PWwBuiJ\n2gEoWppDh7yHIZeUlOByubDZTr4Xu2dsT+YPmw/IkpM7indQWF1I/7j+pHY6sZW6AhGKd2scsFfT\ntH0AQoi3kaeKTY3/ScRMqcAK4N/oc5OEGgH8Hlm4penquzPHD5rT6trqcd0J4Hc6xy9FfzSRB7kD\nGFP3UChahri4OIqKipo9HxkZidXq/zvudrv5/PPPWb58OQ6Hg8GDB3PxxRe3aBax1WJlaMLQFus/\nWEJh/HsgRWPqyUOqjjXl10KIScjl6i2apuV6adNCBFMnNouWLHbimzDk2YMDmY3bheZ/rjCkXv8X\nPvqIQd4g0tEvBQ0QjW+Xjy/WI7OY9Re7ViiMMHPmTN56661mPv9p06YFlEn473//y5YtW3A6pf7V\n5s2b2b17Nw8++CCdOnXMOhOhMP7e3vWmS9FPgbc0TasVQsxHymGe1awjIeZSt9Tu1SvUUSWnAD+b\nuK6+2MkVyLBQf9Qi3SBN3THRQHek+maSwfHD6q7RkOGaVhq7WHoBZ9NcrjkB+BX+Q0KLkEY7H7nS\nPwV53hBV12+WwbmuRhl/RUsxYcIEamtrWbx4MQ6HA5vNxrnnnsu0aU0LFjWmoKCgkeEH0DQNp9PJ\nsmXLmDVrVktPvVUSCuOfh3T61pNKk1AVTdMa7tVeBLwW09Q07d9IXwtjx44NcRhSMF4oDRktNMdP\nm3LgHbyvmCuRYmlZyKSvwQbH/xTfsgtDgIlIaeftyPDPQUj3kC88SNmH2ibPL697gJSOjkO6gPSi\n1T1CL1alaF3k5eXx/vvvk5WVRUxMDNOmTeOMM85oEaGyhkyZMoXJkydTVVWly90DcODAAaxWayPj\nD+B0Otm3b19LTbXVEwrj/zMwQAjRB1k66jKanJQKIbprmlZvvWajX5sghDQ1dEZx1z18fdi+JbCr\nxI2UR+iP/7e+AtiILMPoP3RMGvztyLd9eIC29XxK4PejVkcbRUckPz+fxx57jNpa+fmoqanhvffe\no7i4mAsu8JdEGBosFgsxMfolU5KSkrwmkVmtVlJSUkI5tTZF0KGemqa5gBuAL5FG/V1N07YJIR4U\nQsyua3ajEGKbEGIzcCPyNPMEE4qwSH/GsEBnHy6k8a3w8Xo58C7yrQxk+BvytoG2gZK9zNIdc6v+\nYqTryeg5g+JksGTJEq8hl19//XUzcbaWYvv27fzwww9UVQVW2E1JSaF3797NooFsNhtnndXM+0xB\nQQFff/01GzZsaDU6PC1BSGKjNE1bCixt8tz9DX6+G7g7FGOZZxLB16n15/PXG3UD8kbxJjI6tulh\n8gbkDcIMbyMLx/QweX0wRALnGWivAUvwncw2DrmTUdqDrY3s7GyvRtFqtVJUVESPHi33+du/fz9/\n+9vfjrlwXn31VUBW0Dr33HM5//zziYhoHtJ8ww038Oabb7J+/Xo8Hg8pKSn87ne/IyHhuEKtpmn8\n85//ZPv24y5im83GHXfcQe/exmoAtwU6UIYvSKP7Hcb82PWkADP9vP45jYOe9CCAq2l8D34T37sC\nvUwF/GmH/DvI/usRyPdlNHLVb4QX0XezvAyVQ9C6eOaZZ/jll1+aPW+z2XjssceIjo5ukXE1TeOG\nG27wK/bWqVMnHnroIa83AJAhn263m7Cw5olWS5YsYfHixc2et9vtPP300y1+nhEqTmiGb+vjKNLA\nNX18hFwZz0WGSOr9Y/bFv+EHc+qdGvAS8BPHDWEoijysDPB6msH+ZiKNewTyIDgFmIUs+zgD44Z/\nO/p3Se8a7FvR0kyfPh27vbF+ld1uZ+zYsS1m+AHWrVsXUOWzvLycTz75xOfrVqvVq+EH+PbbphFz\nEqfTydateuTO2xYnPyUu5ARa1X5W9293pPHy1D2X76WtEaG33cjDYDOSx/WF3k8DRiHDS4Mh0EHt\nucgi83rm2gdp7EN5MPajgbYepM7QBNrlx7UN0q9fP+bOnctbb71FaWkpFouFiRMncvHFvlRuQ0Nh\nYaGudt999x0bNmzg3nvvJTZW/66x6TlGQ4qLi3X301ZoZ98mI+Gc9cFHFuTKdi/SCFcj3QyjaBzB\nGogizGvda0iNnDFIY5tQ159Z9Oxo5iDdX+8EaJeFvKH+H6ErRWnU1bgTyERmKLeOKkhtDafTyeHD\nh7FarSQlJekKkfTH8OHDGTZsGDU1NYSFhQXdnx7GjBnDxx9/rKttSUkJDz74II8//rju/vv27cuu\nXd4VbUeMGKG7n7ZCOzP+qwy2/zfyYHEkskDKQP/N/dIVmfJg9gZgQUb3dAZ+jQwJ3YY0lBbkLmQb\nslZAIPQeTn1qYH6vEzqpi6nI4DAjOJEJdJNCNIf2T0lJCU899RQHD3o/VE9MTGTBggU+/eOBEEIQ\nGRnq2tS+SUpKok+fPmRl6Us+LC8vJysriz599GXoX3nllSxYsKBZWOjo0aOJi4szPN/WTjv1+Rth\nLTLhOFjSCU5GwoPMBK5nAtItNRcp8zASfYY/DpnxqwcjhehBVi4zEn7qi96Ye68yQzB2x6C6upq7\n7rrLp+EH6Ua56aab2LnTqCz4yWP27NmBGzUgJydHd9vExERuueWWZs9v2LCBG2+8kR9++MFv1bG2\nhjL+QGiSmSKBC5EJzkajAqxI6Qd/Lo33dPZVamJ8vRQho5H01gT2h79saV+0jWiL1sDLL7+sO0b9\nySefbOHZhI6GoZl6GDRIjzy6xOPx8Pe//93ra7W1tbz66qssWLDgWHJbW6eduX2uAf5j8tqGB8Ux\nyEPRRB9t3cgdQ8NwtwhgPDJ2v96Ia8jV6nJ8u4PCkat6f9m5boytuFcCk/28fgQZmmoGDfgG+I3J\n64NB/xe5o7N7tzG573nz5jF79mxmzJjRQjMKDfHx+gUKe/bsSbdu3XS3X7VqVcAbZlFRER9//DGX\nXnqp7n5bK+3M+FuQ/uRvguynAviw7uc/0njFuQPvoZQ1NNbgvxp5E+iHPEgu5vgNwIJ0z/wafZsv\no1vNXchavFfRfDdRiyxnGUx+Rwmh0fCxoT+hLZzQlNjsGERFRVFdbazM5+LFi4mPj2fChAktNKvg\n8RWm2ZRRo0YxZ46x3WVmpj634nfffcf+/fu5+eabdc+nNdIO3T59kX7yUIWdvdTg52oCx9DX83Ld\nvwIZE5+BdA3Vyx5fgP6338wHzAO84eX5zQRn+EOJXjXFYcCVKLePfn7zG3M7s1dffbXVSxpMnz7d\n7+u33XYb8+fPb5aLEIjhw/VqY8kbxaJFiwz139poZyv/hnRBum30xQb7xg3sRx5S+quu5Y31yPBN\nO3LVGszKtQ/GJZadyPDXwRy/0fgLIe2CFJ3bhP/qZz0IjSHuiky683dDnYxy9xhn5MiRxMTEUFFh\nPFt8/vz53HffffTsqS/U+eDBgyxevJjt27fjcDiwWq2MGDGCGTNmtIjUw+zZszl06BCbNm1q9Hx8\nfDzz5s0LGN3j8XjYvn07RUVF9O7dm7S0NECGklosFq8icN4oLCzkyJEjJCUZlWlvHXQAeYdapAtH\nbw1fX/RCCqIZPey5htBssPQmZXmjJzKj2YJUC/VV12Awx0Mp19c9mhKJ3FUZCfE7AHxF42ilXshz\nFQtyJ5KLVDHNR7rQOiNLPgSqoaDwxqFDh/jrX//qN3HJH0IInnnmmYClEXNycnj00Ud9Zt7279+f\nG264wVBI6Keffspnn33m9bW0tDTuuusuhBAUFhaSm5tLly5ddGvvHD16lL/97W+UlZUdm3NiYiJ3\n3XUXnTp1YuXKlbzxhrcds3cuvPDCgDuRE41eeYd2vPKvJxz4bYPfS5AHsEaVLXOQ/nuj4YbvE5rD\n0WBCzPKQ809DHixv8NKfQBZzqWcMMnx1E3K3EIPcffRC/82sBlmK0hs5HD+cj0QmkYW6gE/Hpbi4\nOKjEK03T2LJlC6NHj/bb7v333/cruZCZmcn//vc/rrnmGl3j3n333Rw96juaLDs7m/nz5zN48GBu\nueUWEhN9BWV456WXXmrWf2FhIQsXLuSRRx4xFB0EGB6/NdEBjH9TOiP1aF7GuO/bjFxtCfAK0o0i\nkFW50oABnLhVrQbsqxvXihRLW4o8hAZp2KfRfDUfhcw3MIsvw9+UauTZyh+CGEvRkNTU1GbFS4yi\nR05h//79fl/XNI2ff/75mNb/wIG+EymzsrL8Gv6G7Ny5k6KiIkOhn5WVlT6Lt1RUVLB+/XpOO82Y\na3bMmLZbt7oDGn+Q/9tX0/gwVw8a0nAa0c6H4/5zDbnjOIwUc4uhSd0bP8Rz3FiboeGhcTRwCcdv\nfi1xkGrU3eBCns+03ZVUayI2NpbJkyezcuVK066foUMDFx+PiYnRpeG/d+9e/vnPfzJ//nyf/b77\nrjERv3vuuYdp06Yxbdo0XYJybrfb72H2zp07Oe2004iNjaWsrCxgf1dddRUWizGXbkVFBQ888IDX\ns5hLL73Ua32BlqIdRvvoxcx9byRS92cuMvokWCqQSqN6uAjzGcRWvJeOFLRcBI2ZmgQfAh/TeqKR\n2jaXXHIJl19+Od27G1VdhS5duuiqcnXeeefpljp2Op1+DbzR6ByAb775hocffljXDS42NpbOnb2X\nNxVCHNtFBKpGFhUVxRNPPGE4JNbtdnPrrbf6PIR/5513mD9/vqE+g6EDG38wZvhikdm79UQgM3qD\njfMtoPkquRpYx3Ep6rfqnpsDnIkUfjPCqZz4FbVZzZcjyP93hRG++eYb5s2b1+gxf/58UlJSWLhw\nIc8++2xA/309/fv3569//auuthMnTmTmzEBy58c5fPiwz2gao3H5IA1qaWkpP/6oTynWl3G12Wyc\nfrqUZZ8wYYJP91S/fv14+OGHDZWRrKe+8Iw/NE0zdOAcDB0g2scf65CHn4EYiTwM9XazcCOrUW1H\nhoSaZUTdGHozlOcibxolyOxfbzLQAriCkxcxY7ZoTDgyQU0RCIfDwZ/+9CddbV944QUOHz7M//t/\n/6+ZRIHFYqFXr17cdtttplbgmZmZPPbYY7raXnHFFUya5F2g7/HHH2fPnj2Gxx8zZgxz5wYWHjx4\n8CDPPPMMRUXNQ56TkpK44YYbSE5ORtM0du3axebNm3E6naSnp5Oenk5UlPnv0p/+9CfdLrhFixYZ\nyk5uiN5onw5q/D1ANjJypwjw5t8bipRrMLI78CClordi7kbQCWMhqQ0/7E1vZFakVHWyiXmEEjM3\nABvq8Fcf8+bNM9T+hRdeIDc3l3fffZd9+/ZhsVhISkri3HPPZcyYMQFDO32xefNmnn/+eV0x8nFx\ncX5vFFu3buXFF1/UXQ/YarUydepUfvWrX/ltl5+fzwMPPKCrz5bwv/tz+Xjj/PPPD+iC8oYK9WyE\nBxmp8xVytWxHHp768ksPxlyUiwWZANUNGU1ktCC50VyEhgekY5E7lFykS8q4n7dlmIvcHb2O/kPg\nUBaOUTTkscce44477uDWW28Nab/x8fHYbDZdK9vS0lI0TfN5VjB06FCeeuopAN58802WL1/utz+r\n1epzJ9EQI+6Ud955h4yMDJKTQ7d4uv7663n00Ud1t1+6dCmzZs0yfKisl3bu83cjV57/QUodHEG6\nSQrwfyC5E+ljN4sV6bZo6ULqHyL//+pXSDZkLH5rMfz11L8fekS5LCjN/pYjMzOTefPmhVzCoWfP\nniQlJekyVImJiQEPiTVNY9GiRQENP0ijqifeXq92Tz0PPPCA7upheujbt6/hOsArV+qVkzFOOzf+\n/w3i2mA1zu3IfIKhtLwmjd54+pOJQGYGT8W3K6oXslqXyuptaf79b7PnMd4RQnDTTTfRr1+/gMll\nF110UcD+3n//fb+1CBqyY8cOXe2MJr1pmsaCBQv46quvDF3nj65duxpqb1Sczwjt2OdfjXQ1mGVM\n3SNYqpEr9Br8Z+kKgg9xtHPcuLYFtcGdyLOXwRgvKq+AwBmxehk9ejR/+MMffB72ut1ufvzxR5Yu\nXUpFRQV9+vThiiuu8GrMiouLefDBB6mqal4sKC0tjbvvvjvgfIwcjgJkZGQwb948wsPDfbZZtmwZ\nb731lu4+67Hb7dx3332mD2AbUlhYyL333qu7/dNPP21YOVQd+HIAWBLE9VakQZpC8BskB8cNXSHy\nJtDwfU8EpiPDI0O5IhsCTAxhf4rWyIIFCzhy5EhI+rr66qubZbk+8cQTAesD/P73v2f8+PHHfv/p\np5944403jhlwIQRhYWHcdddduvIHrr32Wt0Ca03n6i8M0+gBOchIqJkzZ4as1oHeOaSnp3PzzTcb\n7l8d+GJse9UcN9JYb8TcDqACWezFiZRzHl730JA3gFqk1EPTu/pcZNimUQVPb2xHulD0xXcr2iZ/\n+ctfjv1sxrg15OWXX25k/F999VVdhWFeeeUVqqqqOPtsWUL01FNPJTY2lqVLl1JYWEi/fv2YOXOm\n7tVzjx49yM3NNTz/Rx99tNH70ZQXXniB+fPnGz7zONGL5EsuuYSpU6e26BjteOUPoVlF14uO6aE+\nWmcvzZUzewHnGRi3AlkyMRRcjpSSUHQEXn/9dVatWmX6+ujoaObMmXPMlWKEF154wfS4DTl69Kgu\n95A35s2bpyuh7S9/+Qt5eXkB29ntdu6+++6QyVNnZWXxyCOP+Hz9ueeeCyrCR7l9AFmgXG94ly+f\nuxX/9WY3I3V69DAFKeiml3Jkdm8o6Il0LSk6AtnZ2Tz88MOmrxdCcNlllxn2kcfExPDAAw8QGxtr\nemwwFpPvjcmTJ3P55f51s6qrq1m0aBHFxb41s+x2O9OmTWPWLH2Fh0pLS3nvvff4+efmsunPPvvs\nsUPnAwcO8Pzzzzdy102bNi1groIelPFvRCnwjo/XopFZsB/gvdCJP6P5I7JEo17ikYJqZvAAi5Fh\nqmb/ZmcgZZoVHYnKykr+/Oc/G77ObrebUgZNSkpi0aJFQa1eP/jgg6CjbB555BFdNX9zcnLIyspi\nwIAB7Nu3j5ycHKKjo7HZbIwaNUrXGQVIhVO9shih2iF5Q/n8GxEHXIo0nq66hw1pjOt1Sc4APuP4\nYaylrs34pp01wIjhB3NiZ/VYkFpCIHcDZorTrEMZ/45HdHQ0w4cPZ8sWY59Xl8vFaaedpls3p54j\nR45w7bXXAnIHMX36dKZOnapLebOeTp06GRrTG9u2bWPixMABD7169aJXL1lLQq+h98bTTz+tu+28\nefNa9Aagh3Ye59+QOGRRlzOQGjrnIuvo1t//kpBx6EOQSVLDkKt07yqA5jDi8vGH2S+GOWlfRdvH\nn2vDF5qm8etf/1q3IJyvPpYuXcqf//xnrr/+et2HuFOmTDGcENWUE1lcvba2lvJyYwuyefPmtWgc\nfyBCYvyFEOcJIXYJIfYKIe7y8nq4EOKdutd/EkKkhWJcfWgcj7G3IWvUjsR7HdpY4HRkYfFTkS6h\nUDIqRP3oS35pzsnW+VGcLPQmTDWkR48exMbGHlulmi0KX4/L5eKhhx7S5Uqy2+1BRS5ZLBZDBdmD\nxayL6+abbw7qcD4Ygjb+Qggr8C+kY3wI8FshxJAmzeYAxZqm9QeeBPQLXATFPmTEzBvIalqfAt8g\nC4bvJ7jSiCCTqvRixbwef6g45ySPrzhZGHWjhIWFcdtttzV67swzz2TEiBFBlYcEqZvjjV27dnHL\nLbdwyy238OWXXzJkyBCeeeYZLrvsMsO7gOuuu46IiIig5mkEM0qo9bz+ejDJqOYJ+sBXCDEeWKhp\n2rS63+8G0DTt4QZtvqxrs0YIYUNW6e6q+Rk8+APfQ8DnBPazR2C+MIsDeVPRw6VI11Mo+BipU2SE\niwg+90HRVlm+fDnvvfeerlX3rFmzmDFjhleDq2ka2dnZbN68mW+//dZ0lbCJEydyxRVX4HQ6ufHG\nGwO2rw9/vOeee7zKMYPUFxo5ciTnnnvuCXX51GM0e7choYzrP5EHvj2QUpL15CF9Jl7baJrmEkKU\nIiuShE41qRkb0XfAWgO8h7konDBkUtYvwBo/7f4P88VNvDEL/bpF/YCzQzi2oi0yadIkKioqWLJk\nCW637x3vddddx4gRI3y+LoSgT58+9OnThwsvvBCXy4XT6SQiIoI77rhDV/lDgFWrVhEXF8eSJfqy\n8K+99lqeffZZFixYwG233dasaPzll1/O5MmTdfXVUiQmJjJy5Eg2bdpk+FozbrlgCYXP39t+rOmK\nXk8bhBBzhRDrhBDrCgoKgpxWqYG2wdTGBXk4fCHN304b8hA5lIYfvBduaUo48nBbGf6OiKZpLF68\nmIcffpjVq1fjdDr55ZdfvPqmw8PDmTBhAk888YRfw+8Nm81GZGQkQgi/mbXe0Gv467nuuuuIjIzk\nmWeeYdasWaSmpjJ8+HAeffTRk27467n22mt54YUXDBeCnz79xOfghGLln4cMhq8nleYnkvVt8urc\nPnFAMzUqTdPq6xYyduzYIBMQkpBZsicij6ECGUbaVIvEjTx36GKyXzcyrLO5QJZ/jGQlK9oT5eXl\nvPLKK2zduvXYc9nZ2bz2mm/lV4/HQ48ePUyVJmxIREQEM2bMMGzUjTBv3jwyMjK48cYbDZWPPNH8\n/ve/JzMzEz2L2Li4OMNqn6EgFCv/n4EBQog+Qogw4DKkJWzIYo7X5bsY+M6fvz80jObEHbB+iffC\nLRoyA9iM6JaGdO0YNfwglURDI/SlaDvU1tby17/+tZHh14PT6WTFihUhmcPYsQFdzccwWzVs27Zt\n7NwZrOR6yyKE4KGHHuKmm27yKwsxfPhw3eUvQ03QK/86H/4NSAtoBV7SNG2bEOJBYJ2maYuRVux1\nIcRe5Ir/smDHDUw8Mo7/J+TGwx9mpVprkGcL3g+gJG5gN3InYoR9JudUT5GJMRVtmbVr1+r2uTfl\n8OHD/OMf/+Dqq68mLs58YEJKSgpJSUm6VEavueYann/+eVPjPPnkk4SFhXHBBRe0uABaMAwZMoT7\n778fkHISn3zyCV26dOGcc84JOo8hWDqIvIMTeBvv1bnMSi44kAfF1QQu1zgY49WpXiQ4l1Uf5Ll7\ncBorirbDyy+/bDgbtyEWi4XExMSgpRnWrl3La6+95jOyyGKxcM011zBmzBj++9//snbtWtNjNSQs\nLMxQlm17RW+0TwfJ8LUjK0RNAwYhXUJXICN1zGrt7ECu/PVojvcx0X+wf5pspF5RsIfZirZCcnKy\naVcKSN9/aWkpe/bsCWoeo0ePJiEhoVE+gN1uZ8KECTz//PM899xzjBkjZdLnzJkTMpkDh8MRtKR1\nR6KDGH+QAUe9gcnIYufBZu8eQF+SmMCcps+lJq5piIbc8ehVHFW0dU4//fSgE7A0TfMZR98Qt9vN\njh07WL16NXl5ecfCRysrK3nkkUc4evQoQgiEEMTExHDVVVdx5ZVX+nR1vPDCC9x2221BJUvVs29f\nsC7TjkEHEXZrCTqhr/SihlTiNLr6D5X+fn6I+lG0duLi4vjzn//Myy+/TH6+ub+7pmnHRM68UVVV\nxZ133mkouau2tpYjR44E9HEPGDCA++67j88//zwo99Wjjz7qtSKZojEdaOUfajLQF01kw7whn6uz\n3Qg/czlxKe6Kk09aWhqLFi3iiSeeMKxQabfbGTx4MKmpqV5fd7lc3HLLLYazeo1EE3Xr1o2rr76a\nF154gauuusr02cPLL79sWMW0o9FBDnxbiv3AcqR7xZcLKAxZSctsunkZ8rDaF79C1gBejqwg1nAe\nNmAC8sBZ0dF58cUX8fadioiIICoqikmTJnHOOef4PDd4/vnn2bhxo6mxo6KiePLJJ01dq2ka8+fP\nN3xddHQ0f//7302N2ZZRev4nhN7Ig+Qy5FuZA2xCxuYLZC7bWZg3/BB4c1bf9+nIm9D+ums8yMzj\nQUGMrWhP/PGPf6R79+588cUXOJ1OoqOjufLKKxk5cqSu63/55RdT41osFoYNG2bqWpAx8xaLxXBB\n98rKStNjdgSU8Q8aC+pE6YUAABkgSURBVMc1/4fUPaqRvv6oEPQfw3Fj7o16tUYbMLVu7EpkiOeJ\nF7dStG5mzpxpOjPWbrc309TRg81m46KLLjI1Jsh6vkYNf/24Ct+od6dFCJWWTyWwDamB5y1NfBLN\nZZMiQzi+oi3idDr5+eefWbduHYWFUjsxJSWFc889l759+5ru909/+pPpbNTOnc0XRTJzwwE4//zz\nTY/ZEVDGv9VSiKw/4Mb3qv8HIAWVyKWox+l08thjj5GXl9dotXz48OFj/vqbb76Z9HTj5Tz79etH\n79692b9/v6HrHA4Hbrfb9Eo8Kcl4pnpGRgYzZswwNV5HQUX7tFpWIH34/ra7LnxnLis6Ij/88AMH\nDx706yb5xz/+4VfW2R/33HMPjzzyiCGDbLfbg84/0FtFLDU1lWeeeUZXjYCOjlr5t0pc+NcLasoX\nyGIt5tiVW8K/l+xk674iYqPDuP6CIZw50rcYlaL1sn79el1ukttvv52rr77a0EHs0aNHWbx4MVu3\nbiUqKorf/va3TJo0CYfDgc1m4/777/eaIHbeeecFrWMzefJkVqxY4Td/4eyzzw661GRHQoV6tko8\nwEvok44A6ff/o6mRtu8v5tp/rMThav45uGB8T+bPzqBzTLipvhUnHqPhmHoNZnl5OQsXLqSqqurY\nriIsLIzx48dz+eWXA1BWVsYTTzxxzEALITjrrLMMGeTS0lLuvPNOjNqlO++8M6jzjPaECvVs01iQ\nGcFZ6LsBmN9S/+vjbV4NP8Ana3JZu7uIN+85i4iwk11/WKGHyZMnGzL+3377LTNnziQqyn9k2vff\nf09NTU0jd5LD4WD16tXMmDGDuLg4YmNjWbRoEWVlZdTU1JCYmGgoSSszM9P0gfJ7773HnXfeaera\njory+bdazkAmb+m5P5tP4tq2v1lNnUYUFlfxzYZAktiK1kJ6ejqjRo0ydI0eKYU9e/Z4dSfZbDa2\nb9/eaKUeGxtLUlKS4ezcYHTt8/LyOHDggOnrOyLK+LdawpClIWcDQ/206wyY1zCJifAvpOX0wC/7\nlDJoW2L+/Pn069dPd/uIiMASIL6MeU1NDa+88grXX399i1bwCoTD4eCRRx7hhx9+OGlzaGso49/q\nSURKNMwEkpHy1J2AvshC7r8hmD/j76cN9Pu6VUBqUrAKqIoTzR133MHChQsZPXo0p556KmeddZbX\ndkIIxo0bF7C/s88+2++hrdvtZvHixXz00Uem5xwsDoeDN998k5qampM2h7aE8vm3GVKQlclCy68n\n9eWJ932X/YsItzHzVN8qj4rWS/fu3Y/p23s8Hvbs2UNubu6x14UQzJkzR1f8fUpKClFRUZSXl/tt\n9+WXXzJz5syQSDObwWq1snfvXoYO9bdbVoBa+Xd4hBD88M/ZXj8IvZOi+NeNpxPfSUX7tHUsFgv3\n3Xcft9xyCxMmTGD69Ok8/vjjnHLKKbr7qKoKXE9a0zTTctILFiwwdV1TwsPV51UPauWvQAjB6qcv\noKSiljXb8xnQI46unaOIi1baQO2NwYMHM3iwuQCB5ORkDh48GLBdp06dArbxRmpqKo899hh33HGH\nqetBhp8aOe/oyCjjrzhG55hwpo/rfbKnoWilXHzxxTz33HM+a/MC9OzZMygdn7i4uEZlHW+99VYq\nKiqw2Ww+k9dsNtuxx4033hhU/eGOhEryUigUutmxYwcfffQRubm5zSQk4uLiWLhwYcCcAbM8+eST\n7Ny5s9FzI0aMYOzYsURFRZGenh60jER7QG+SlzL+QNbBEv7x4VZ6do1m7swMYpW7Q6EISH5+PmvW\nrKG0tJTRo0czfPjwFh+zuLiYL7/8EovFwqxZs4iMVAq2TVHGPwBVVbVMvfMLvxV4u3eJ4MNF01ps\nDgqFwju1tbX89NNPVFVVkZGRQc+ePU/2lNoMyvgHYPyfPtHdds3ToQ+xVCgU3vnuu+945513vL6m\nxNsCo9f4d8iTkQ9W7DXU/tMfslpoJgqFoiH79+/3afhBahHdc889J3BG7ZcOGe3z9vfGjPlf39rC\nX9/awtePnU9M5MlJXlEoOgIff/xxwDZFRUWUlpYSFxdnqO/NmzezdOlSiouL6devH5dddpnhPtoT\nHXLlf/rQZFPXXbTgyxDPRKFQNKS+7GQgXn/9dUP9LlmyhOeff57s7GxKS0vZsGEDd955J1lZHXdX\n3yGN/82/NheVUFHr5sUlO/B4jJ+T1DjcuNzGi1ArFB0JvQlo0dH69aaqqqpYsmRJs9BUTdN4+umn\nDdcOaC90SLcPwJkjurFss/E09Je+2M3b32fy+cPTCbP7jyl+7J1NfLTKe73T88elcs356XRPaJmY\naIWiLTJ9+nRWrFgRsN3vfvc73X3m5ub6NPBVVVUcOnSIlJQU3f21Fzrkyh/g5136tpfeqKp1s+i1\n9X7bzH9ypU/DD7B0bR6/Wvg1321UGuQKRT1dunRh7ty5ftuMGDHCkHBcbGysT+MvhMDhcBiaY3sh\nKOMvhOgihPhaCLGn7t94H+3cQohNdY/FwYwZKhzO4FwwK7ce9vlaZY2Tzfv8F0mp56E3NlLjCFxz\nVaHoKIwZM4bbb7+9WbauEIL777+f6667zlB/3bt393mwa7fbO2wOQbBun7uAbzVNe0QIcVfd795q\nqVVrmjYyyLFCyqgBCazdWWC+Az9+wh+3+b4xNKXa4Wb+kyt44toJJMQGLqqhUHQE+vfvz7PPPhuy\n/m6//XYWLVrUaJVvtVqZM2dOh5WECNbtcwHwat3PryJLT7UJbr1keFBhm+OH+I4Y6pUcY6ivXXnl\nXLDgK46WqSIUCkVLkJiYyJNPPsmll17K0KFDOeecc1i4cCEjRow42VM7aQSV4SuEKNE0rXOD34s1\nTWvm+hFCuIBNgAt4RNO0gMG8J0Lb52hZDR+szOKlL3Ybui7cbuHzh6cTGe5742Qkg7ieCRnJPDHf\nfElGhUKh0JvhG9DtI4T4Bujm5aV7Dcynl6ZpB4UQfYHvhBC/aJqW6WWsucBcgF69QlM9qrCkklkL\nvvH5eo9YuOb8wbzyxU5cDY4Bwu0W5kwfxKnpSRSX1fDPj7dRWe3inLE9mDtjCHab/01TQmw4RWW1\nhua6btcRQ+0VCoXCLAGNv6ZpU329JoQ4LITormnaISFEd8Cr9dI07WDdv/uEEMuAUUAz469p2r+B\nf4Nc+ev6P/DD+j353PDPn/y2OVAG/1m6k4vG92DpunyEACHgqnMG8rupA47VLf3fEG/3P++4PZph\nw69QKBQnkmAPfBcDVwGP1P3bzNdRFwFUpWlarRAiETgdeCzIcXURyPA35KM1B/j+iZkUV9SS0Ck8\nYAy/P8wmc0VHKOkIRcvj8XjI/vBxqo/k0ueyu4iMT/FbnF3RPgnW+D8CvCuEmAPkAJcACCHGAvM1\nTbsGSAdeEEJ4kAfMj2iatj3IcVuEKbd+xl9+P4apY1KD6ifc5I0jKV6/NnlJRS2X/uUbyqq8h4n2\n7RbN/+71uWlTdEAOfP0ye99YgOY+/pkp+OG9Yz/bOiUy+i+fE5XYMUMfOxpBRftomlakadrZmqYN\nqPv3aN3z6+oMP5qm/aBp2jBN00bU/fvfUEy8pVjwynreXbYn6H4uP6uvofYRYVYumKCvhGJpZS3T\n7/7Cp+EH2Jdfyfg/fcLf391oaB6K9smhFW+z59W7Gxn+prjKC1l78ylUHck5gTNTnCw6bIavP578\nIPiNyZ8uGsac6QMJtJm2Wy1EhFk5NT2J2RPSdPX9x8eX657HeytzOqx2ieI4mW8u0t1240NtJmJb\nEQTtWtvnrl+l8MiHB1t0jM/X5vDg695X16lx8Pa9k/jkxwN8sCKL2gZZxeE2C2eP6cHgnp0Z3rcL\ng3rqL3qdW1htaI6TblzMd0/OChihpGi/uCpLdbd1Hj3Ist/3YvLL+9VZQDumXVuDC6acwoNXprVY\n/0+9v9mn4QfIK4VL/98K3vw2k2mn9CTMZiE6wka43cIlZ/blvitGccnkvoYMvxlcwKRbPqX2/7d3\n79FRVfcCx7+/yQsRDCRBEpFHiNQSwALhUeQVK5aAXlK9VWvFKqJAF9grV72V+mixqGi9vV6jS0DA\nB7SVW9f1ShV8oSAsoggFeWog4REIkfAQwiuQzL5/ZMAAmZlzziSTmTm/z1qzZjJn73N+bM78Zs4+\n5+ytw0i4VtxF9m48pPoUy37VrnGCUREhppM/wHV9f0RhQT6T8rMt10m0cL722InTvLlsh+V1Lly5\nk388OZwZ9w/ivafymJjfzfGvqh9l1juEUlD/8qjOR+BWnW560H4l4+VI8TrH29TuxsgW88n/jNuH\ndWFYb2vDtr7/zPVBy5SUV9qO4b4XVpCR2jzkSzpn/PsQR/UqT1RzyxMfs2XXdyFtX0WflB5DQex/\n3NdOvZ7SxTMtla1YvZhld2eydHQ6S0ens+yOjLOvl4+7ktLFMy8YU181Hdckf4A/julLYUE+bz56\nDcNzMi5Yfv2PL6ewID/gsA1npCXbH4StaE8l1z20iJoQJ3XZWW69//Z8pRXHGPvcMnbtOxpSDCq6\nlH/2P7V3L9pkvDVs//t0Dm1aEbBcxdqP2PT8GMyp+s9H1Rw/TPFffs+Ke6/gtI3zD6rxxPQJX386\ntr2EP9zVjz/c5XwdGSnOJmExwK+fX8GsB5z9egf4bL39SWjOicHAs29+xYu/GRjSelT0qDl5FLw1\njup6T51g9wezaN1tkN8yW16aYG1dVcfZ8J930PvxiBjZ3dVc9cu/oU0f42xEwA07DoW03X5dLw2p\nPkDRbv315SZpOXl4kpzPGnf6yIGAy70nj1le15GiVSwdnU7RvEcdx6NCp8k/BEN7d2LCyKywb/fK\n9s5O+NaVlpzUAJGoaNG6Ry4pPYbiSbD//+5JaEZq7+GBCznoUir7YDa73pthu55qGJr8Q3TniO4U\nFuTz7L39LNfJSrd52V093p4a2tANE/O7hRyDih4iQrffzCH7vldIzRlhvV5cAomt29Ju2JiA5dL6\n3OAorpIF0xzVU6FzZZ9/Yxh8VQbjb+jKrHe3EOwCtz9PvNrWul9btIGZi0vOea99ayiYNIDqmhom\nv7wqYH2PgNd8/3rCqGwGdrc+SqmKHsYYNs39Hfs/fdVvmSGv78ETF8exsq0c3bERr9fL1rkP4D11\n3mRC4qFD/mTa591LfPOWAbfb/d9eoXByP6oqbA4N4a2m7NO/cNk1t9urp0IW0mQujSkck7k0Bq/X\ny9elh1m4cgfvrDz3g5DdMZnnxg+gdUtrh94Vh44x6nH/cxEEkxAHT93Tn0Hd0/n24HEOHq3iysuT\n8Xj0gC9WLR1t/Us9d/73Fw6Uvj+L7QueRDzxIIIxXrrf/2rtJaI2VO76mjW/y7VVx5N4EdkTZ5CW\nE6RrSVlidTIXTf4RzO5sYNf1bkfp/qOkXXIR/bu24dpe7Sx/0ajot3fjSr6ZfpPl8plT3qVjt+9z\nRNV3+zi0/lM8ic1I6TmM+GYXO4rDzhfQGS06XUWfaR862p46V4PN5KWaxqFK+5PBXN29DXl9g/6f\nqxj1zTM/t1V++9M3sLNZSwa/UoSIkNTqUtKH3NpI0QVWdWBP0DKlS+ZR/OpDfpdfMfZFLr/GXhu4\nmR7/R6iDlfYnc5/6xjoG3PeO3lbvVsb+zYPek5Usu+PCGx5DEXdJms0aQsvOPQOWWPv0zQETP8C2\nOZMcHXW4lSb/CNWpbeATbIH8+vnPGjASFS1+cP/rjuvuLfy/Bouj77SP/C5LaNUWSah7d7zgSWxG\n5i1T/Nbxnq7i8Kbllre/YnJ/y2XdTLt9IlRcnPPv5a9KdOweN7qsz3CKHNYtnvcYGQOsjeP/7efv\nsOWliWAuHCU28/Yn6JB3LwNnFbH+2duoLFkH4qHt4FvJunUKiS1TqVi9mJ1v/5mTB/ZwSVZPMm+e\nQsuO3f1u78D6T2z9W6ordlK+eRXp2dYvv3YjPeEb4eye9D2jsCC/gSNR0WLpPT+Ak0ds1WnZuSc5\nT7wftNznD1/Dyd1bgpZrntWPflMbZgiHw1vXsHZq8MEWzxffKoNBL7pvJjurJ3y12yfCFRbk8+Qt\n2o+prMudXUTu/HI8CdYHH+z1+LtByxzauNxS4gc4XryK3V84++FyvuQuOY7qVX+3l5rq0w0SQyzS\n5B8FfjK4P3MeGGy5/NwHrZdVsav/86uJb5EStFzqgBvxxAfvAS753+dsbX9bwXhOVJTaquNP614/\ndVRv+ZhOHNvjtDMstmnyjxLZnVJY+txIMjMCnwh+ckwOXTsG/8Cr2JeUnMagGZsZPHcHPX67AM47\nEkhsm8mQN8roMfFlS+vzVtmbPhTgi8l92bNknu165ztRttVZRVPDl78dyon9DfMlFEu0zz+KTZlV\nyD+LD3BrbmfuHmF9pjKlnDhcvIa1v7ff9454GPjyJhJaOB+QcNld7TEhdOGk9BzGVQ/Od1w/muhN\nXi7w9LgBTR2CcpHkLGd97xgvB9YtIX2Q8xuw4psnc/rIfsf1j2xb47hurNJuH6WUZXXHA7LF4XzV\nZ1xxR2ijfyYmtwmpfizS5K+UsiV3fjlDXisFLCZ0EVJ7hjYEedsBP6Nd3njH9bN+8VhI249F2u2j\nlLLNE59AzrQPWfPYT2vnBQ0ga/QfSbg42fK6vdXVbJzzHxxc/tfv30xqRdd7ppM5ZwdHt69l3fTb\noNraECgdb3qI1F7XWd6+W+gJX6VUSPZ9uYjvvl6JJFzMnnf/++z7zTtkkz1xJi3adbG8rqWjOwCn\ngpYbOm8v4utKqiz9mjVTci8s5IlnyNwdli5jjSU6pLNSKqrsWv4WJTMnWS5f9/zD/nUfs7lgHN6q\n4wAkpbUnZ9qHJIZwhVG00uSvlIoqTkbkHDR3J/GJOmdFXTq8g1Iq5q24uyP/fOrmpg4jKoWU/EXk\nZhHZJCJeEfH7TSMieSLyjYhsE5GHQ9mmUkrVdWTzcozX/lwGbhfqL/+NwE2A3wHkRSQOeAkYAWQD\nt4mI3o6qlDpHzz+tclz3i8f0ah67QjoNbozZApw96+5HP2CbMabEV/ZNIB/YHMq2lVKxpVVGB8d1\nT5bvaLhAXCIcff7tgLqjKu32vaeUUufInV/u6C7irF9ObYRoYlvQ5C8iH4vIxnoeVmcLqe+woN5L\njERknIisFpHVFRUVFlevlIo1ufPLwWO9Y6L9taMbMZrYFDT5G2OGGWO61/OwOlPDbqB9nb8vB8r8\nbGuWMaaPMaZPmzY6FodSbpb7xm4uHXxL0HK1Q00ou8Jx69uXQBcRyQT2AL8AfhmG7Sqlolz2+BfI\nHv8CANvfn8PO+Y9AUgsGvrSBhGYXNXF00S2k5C8iNwIFQBvgPRFZZ4wZLiKXAbONMSONMdUiMgn4\nAIgD5hpjNoUcuVLKVTLzxpKZN7apw4gZoV7t8zbwdj3vlwEj6/y9CFgUyraUUko1HL3DVymlXEiT\nv1JKuZAmf6WUciFN/kop5UKa/JVSyoUidjx/EakAdjqsngbsb8BwYom2jX/aNv5p2/gXaW3T0RgT\n9C7ZiE3+oRCR1VYmM3AjbRv/tG3807bxL1rbRrt9lFLKhTT5K6WUC8Vq8p/V1AFEMG0b/7Rt/NO2\n8S8q2yYm+/yVUkoFFqu//JVSSgUQE8lfJ5L3T0RSROQjEdnqe27tp1yNiKzzPRaGO85wCrYfiEiS\niCzwLf9CRDqFP8rws9Aud4lIRZ395J6miLMpiMhcEdknIhv9LBcRecHXdutFpHe4Y7QrJpI/OpF8\nIA8DS4wxXYAlvr/rc8IY09P3GBW+8MLL4n4wFjhkjLkC+C/gmfBGGX42Ph8L6uwns8MaZNN6DcgL\nsHwE0MX3GAe8HIaYQhITyd8Ys8UY802QYmcnkjfGnALOTCQf6/KB132vXwd+1oSxRAIr+0HdNnsL\nuFZE6puONJa49fNhiTHmM+BggCL5wBum1udAKxHJCE90zsRE8rfIrRPJtzXG7AXwPV/qp1wz3/zJ\nn4tILH9BWNkPzpYxxlQDh4HUsETXdKx+Pv7V163xloi0r2e5W0VdfgnHNI4NQkQ+BtLrWfSIxfmE\nLU8kH20CtY2N1XQwxpSJSGfgExHZYIwpbpgII4qV/SBm95UArPyb/wH8zRhTJSITqD06+kmjRxYd\nom6fiZrkb4wZFuIqLE8kH20CtY2IfCsiGcaYvb7D0H1+1lHmey4RkaVALyAWk7+V/eBMmd0iEg8k\nE/iQPxYEbRdjzIE6f76CC86F2BB1+cVN3T5nJ5IXkURqJ5KP6atafBYCd/pe3wlccJQkIq1FJMn3\nOg0YCGwOW4ThZWU/qNtmPwc+MbF/Q0zQdjmvD3sUsCWM8UW6hcCvfFf9/Bg4fKa7NWIZY6L+AdxI\n7TdvFfAt8IHv/cuARXXKjQSKqP1F+0hTxx2mtkml9iqfrb7nFN/7fYDZvtdXAxuAr3zPY5s67kZu\nkwv2A+AJYJTvdTPg78A2YBXQualjjpB2eRrY5NtPPgV+2NQxh7Ft/gbsBU77cs1YYAIwwbdcqL1a\nqtj3GerT1DEHe+gdvkop5UJu6vZRSinlo8lfKaVcSJO/Ukq5kCZ/pZRyIU3+SinlQpr8lVLKhTT5\nK6WUC2nyV0opF/p/Itm+sqgoo4YAAAAASUVORK5CYII=\n",
      "text/plain": [
       "<matplotlib.figure.Figure at 0x1be044e8f98>"
      ]
     },
     "metadata": {},
     "output_type": "display_data"
    }
   ],
   "source": [
    "#plot the result\n",
    "plt.figure\n",
    "plt.scatter(pca[:,0], pca[:,1], c=clusters, cmap='Accent')  # plot points with cluster dependent colors\n",
    "plt.show()"
   ]
  },
  {
   "cell_type": "markdown",
   "metadata": {},
   "source": [
    "Given that two different cluster number were identified using k-means and HAC, he calinski harabaz score is then applied to compare the two results generated. Comparing k-means to hierarchical, hierarchical would be be selected as it had the highest score as seen below"
   ]
  },
  {
   "cell_type": "code",
   "execution_count": 141,
   "metadata": {},
   "outputs": [
    {
     "data": {
      "text/plain": [
       "1-CHS-PCA    1194.432319\n",
       "2-CHS-HAC    1196.072268\n",
       "dtype: float64"
      ]
     },
     "execution_count": 141,
     "metadata": {},
     "output_type": "execute_result"
    }
   ],
   "source": [
    "#To return .labels for the hierarchical clusters, I use another package\n",
    "hac2 = cluster.AgglomerativeClustering(n_clusters=6, affinity='euclidean', linkage='average').fit(pca)\n",
    "\n",
    "#calculating calinski harabaz score\n",
    "chs_pca = metrics.calinski_harabaz_score(new_stnd, k_pca.labels_)\n",
    "chs_hac = metrics.calinski_harabaz_score(new_stnd, hac2.labels_)\n",
    "\n",
    "pd.Series({'1-CHS-PCA': chs_pca, '2-CHS-HAC': chs_hac})"
   ]
  },
  {
   "cell_type": "code",
   "execution_count": 142,
   "metadata": {
    "collapsed": true
   },
   "outputs": [],
   "source": [
    "# using HAC clusters, add cluster labels to the final data set\n",
    "\n",
    "final['cluster_label']=hac2.labels_"
   ]
  },
  {
   "cell_type": "code",
   "execution_count": 145,
   "metadata": {},
   "outputs": [
    {
     "name": "stdout",
     "output_type": "stream",
     "text": [
      "CLUSTER DESCRIPTIVE STATISTCS\n"
     ]
    },
    {
     "data": {
      "text/html": [
       "<div>\n",
       "<style>\n",
       "    .dataframe thead tr:only-child th {\n",
       "        text-align: right;\n",
       "    }\n",
       "\n",
       "    .dataframe thead th {\n",
       "        text-align: left;\n",
       "    }\n",
       "\n",
       "    .dataframe tbody tr th {\n",
       "        vertical-align: top;\n",
       "    }\n",
       "</style>\n",
       "<table border=\"1\" class=\"dataframe\">\n",
       "  <thead>\n",
       "    <tr style=\"text-align: right;\">\n",
       "      <th></th>\n",
       "      <th>0</th>\n",
       "      <th>1</th>\n",
       "      <th>2</th>\n",
       "      <th>3</th>\n",
       "      <th>4</th>\n",
       "      <th>5</th>\n",
       "    </tr>\n",
       "  </thead>\n",
       "  <tbody>\n",
       "    <tr>\n",
       "      <th>total_score</th>\n",
       "      <td>40.537779</td>\n",
       "      <td>40.921633</td>\n",
       "      <td>34.801616</td>\n",
       "      <td>35.647652</td>\n",
       "      <td>38.733390</td>\n",
       "      <td>38.753523</td>\n",
       "    </tr>\n",
       "    <tr>\n",
       "      <th>num_of_prev_attempts</th>\n",
       "      <td>0.108798</td>\n",
       "      <td>0.116999</td>\n",
       "      <td>0.172752</td>\n",
       "      <td>0.142751</td>\n",
       "      <td>0.120932</td>\n",
       "      <td>0.108194</td>\n",
       "    </tr>\n",
       "    <tr>\n",
       "      <th>studied_credits</th>\n",
       "      <td>80.172935</td>\n",
       "      <td>73.289745</td>\n",
       "      <td>80.612151</td>\n",
       "      <td>76.684015</td>\n",
       "      <td>82.868622</td>\n",
       "      <td>76.982233</td>\n",
       "    </tr>\n",
       "    <tr>\n",
       "      <th>sum_clicks</th>\n",
       "      <td>1907.692747</td>\n",
       "      <td>2628.148658</td>\n",
       "      <td>1456.225529</td>\n",
       "      <td>1923.188104</td>\n",
       "      <td>1310.616312</td>\n",
       "      <td>2168.740918</td>\n",
       "    </tr>\n",
       "  </tbody>\n",
       "</table>\n",
       "</div>"
      ],
      "text/plain": [
       "                                0            1            2            3  \\\n",
       "total_score             40.537779    40.921633    34.801616    35.647652   \n",
       "num_of_prev_attempts     0.108798     0.116999     0.172752     0.142751   \n",
       "studied_credits         80.172935    73.289745    80.612151    76.684015   \n",
       "sum_clicks            1907.692747  2628.148658  1456.225529  1923.188104   \n",
       "\n",
       "                                4            5  \n",
       "total_score             38.733390    38.753523  \n",
       "num_of_prev_attempts     0.120932     0.108194  \n",
       "studied_credits         82.868622    76.982233  \n",
       "sum_clicks            1310.616312  2168.740918  "
      ]
     },
     "execution_count": 145,
     "metadata": {},
     "output_type": "execute_result"
    }
   ],
   "source": [
    "print('CLUSTER DESCRIPTIVE STATISTCS')\n",
    "use_data = final[['total_score', 'num_of_prev_attempts', 'studied_credits', 'sum_clicks']]\n",
    "use_data.groupby(hac2.labels_)\\\n",
    "        .mean()\\\n",
    "        .T"
   ]
  },
  {
   "cell_type": "code",
   "execution_count": 147,
   "metadata": {
    "scrolled": false
   },
   "outputs": [
    {
     "data": {
      "image/png": "iVBORw0KGgoAAAANSUhEUgAAAcEAAAGtCAYAAABujc/JAAAABHNCSVQICAgIfAhkiAAAAAlwSFlz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\nAAAASUVORK5CYII=\n",
      "text/plain": [
       "<matplotlib.figure.Figure at 0x1be044f9828>"
      ]
     },
     "metadata": {},
     "output_type": "display_data"
    }
   ],
   "source": [
    "s = pd.Series(clusters)\n",
    "cluster = s.unique()\n",
    "lis = []\n",
    "\n",
    "fig = plt.figure(figsize=(7,7))\n",
    "lis = [] #for positioning the graphs on the fig\n",
    "\n",
    "for i in cluster: \n",
    "    cluster_data = final.loc[final['cluster_label']==i]\n",
    "    lis.append(i) #add new clusters to the list\n",
    "    ax = plt.subplot(3,2,int(len(lis)))\n",
    "    sns.kdeplot(final['sum_clicks'], final['total_score'], shade=True, cmap='viridis');\n",
    "    plt.xlabel('Cluster %s'%(str(i)))\n",
    "plt.show()\n"
   ]
  },
  {
   "cell_type": "markdown",
   "metadata": {},
   "source": [
    "Above plots shows there is no clear divide in identified groups. This is supported by the descriptive statistics in table above which shows mean score of all clusters to be very close, same with number of\n",
    "studied credits. The sum of clicks seem to be one of the key variables in the cluster generation.\n"
   ]
  },
  {
   "cell_type": "markdown",
   "metadata": {},
   "source": [
    "## Prediction"
   ]
  },
  {
   "cell_type": "markdown",
   "metadata": {},
   "source": [
    "Given that the clustering result do not produce a very clear divide in student groups, predictive models would be developed on all students. First a base model would be produced and attempts through inclusion of more variables, use supervised approach would be tested to see which model is better suited. This judgement would be made by using R-squared as the main performance measure, complemeted with mean square error(MSE) and mean absolute error(MAE). To enable prediction, the categorical variables were transformed into numerical variables and then supervised learning approach uses a train (70%) and test (30%) data split.\n",
    "\n",
    "\n",
    "The base model uses just the continous variables: sum of clicks, studied credits and number of previous attempt. This is done using an ordinary least square method implemented via the stats model. This enables us to see the result parameters gotten from the regression analysis. Though statsmodel produces detailed summary including coefficients of the predictors, Scikit-Learn is later  harnessed for its ability to test and train datasets. "
   ]
  },
  {
   "cell_type": "markdown",
   "metadata": {},
   "source": [
    "###### Base Model"
   ]
  },
  {
   "cell_type": "code",
   "execution_count": 148,
   "metadata": {},
   "outputs": [
    {
     "data": {
      "text/html": [
       "<table class=\"simpletable\">\n",
       "<caption>OLS Regression Results</caption>\n",
       "<tr>\n",
       "  <th>Dep. Variable:</th>       <td>total_score</td>   <th>  R-squared:         </th> <td>   0.081</td> \n",
       "</tr>\n",
       "<tr>\n",
       "  <th>Model:</th>                   <td>OLS</td>       <th>  Adj. R-squared:    </th> <td>   0.081</td> \n",
       "</tr>\n",
       "<tr>\n",
       "  <th>Method:</th>             <td>Least Squares</td>  <th>  F-statistic:       </th> <td>   450.3</td> \n",
       "</tr>\n",
       "<tr>\n",
       "  <th>Date:</th>             <td>Fri, 11 May 2018</td> <th>  Prob (F-statistic):</th> <td>2.33e-280</td>\n",
       "</tr>\n",
       "<tr>\n",
       "  <th>Time:</th>                 <td>13:30:53</td>     <th>  Log-Likelihood:    </th> <td> -67489.</td> \n",
       "</tr>\n",
       "<tr>\n",
       "  <th>No. Observations:</th>      <td> 15295</td>      <th>  AIC:               </th> <td>1.350e+05</td>\n",
       "</tr>\n",
       "<tr>\n",
       "  <th>Df Residuals:</th>          <td> 15291</td>      <th>  BIC:               </th> <td>1.350e+05</td>\n",
       "</tr>\n",
       "<tr>\n",
       "  <th>Df Model:</th>              <td>     3</td>      <th>                     </th>     <td> </td>    \n",
       "</tr>\n",
       "<tr>\n",
       "  <th>Covariance Type:</th>      <td>nonrobust</td>    <th>                     </th>     <td> </td>    \n",
       "</tr>\n",
       "</table>\n",
       "<table class=\"simpletable\">\n",
       "<tr>\n",
       "            <td></td>              <th>coef</th>     <th>std err</th>      <th>t</th>      <th>P>|t|</th>  <th>[0.025</th>    <th>0.975]</th>  \n",
       "</tr>\n",
       "<tr>\n",
       "  <th>Intercept</th>            <td>   35.8320</td> <td>    0.419</td> <td>   85.447</td> <td> 0.000</td> <td>   35.010</td> <td>   36.654</td>\n",
       "</tr>\n",
       "<tr>\n",
       "  <th>sum_clicks</th>           <td>    0.0027</td> <td> 8.21e-05</td> <td>   33.317</td> <td> 0.000</td> <td>    0.003</td> <td>    0.003</td>\n",
       "</tr>\n",
       "<tr>\n",
       "  <th>studied_credits</th>      <td>   -0.0274</td> <td>    0.005</td> <td>   -5.976</td> <td> 0.000</td> <td>   -0.036</td> <td>   -0.018</td>\n",
       "</tr>\n",
       "<tr>\n",
       "  <th>num_of_prev_attempts</th> <td>   -4.2037</td> <td>    0.383</td> <td>  -10.979</td> <td> 0.000</td> <td>   -4.954</td> <td>   -3.453</td>\n",
       "</tr>\n",
       "</table>\n",
       "<table class=\"simpletable\">\n",
       "<tr>\n",
       "  <th>Omnibus:</th>       <td>1491.710</td> <th>  Durbin-Watson:     </th> <td>   1.288</td>\n",
       "</tr>\n",
       "<tr>\n",
       "  <th>Prob(Omnibus):</th>  <td> 0.000</td>  <th>  Jarque-Bera (JB):  </th> <td>1983.747</td>\n",
       "</tr>\n",
       "<tr>\n",
       "  <th>Skew:</th>           <td> 0.824</td>  <th>  Prob(JB):          </th> <td>    0.00</td>\n",
       "</tr>\n",
       "<tr>\n",
       "  <th>Kurtosis:</th>       <td> 3.630</td>  <th>  Cond. No.          </th> <td>7.03e+03</td>\n",
       "</tr>\n",
       "</table>"
      ],
      "text/plain": [
       "<class 'statsmodels.iolib.summary.Summary'>\n",
       "\"\"\"\n",
       "                            OLS Regression Results                            \n",
       "==============================================================================\n",
       "Dep. Variable:            total_score   R-squared:                       0.081\n",
       "Model:                            OLS   Adj. R-squared:                  0.081\n",
       "Method:                 Least Squares   F-statistic:                     450.3\n",
       "Date:                Fri, 11 May 2018   Prob (F-statistic):          2.33e-280\n",
       "Time:                        13:30:53   Log-Likelihood:                -67489.\n",
       "No. Observations:               15295   AIC:                         1.350e+05\n",
       "Df Residuals:                   15291   BIC:                         1.350e+05\n",
       "Df Model:                           3                                         \n",
       "Covariance Type:            nonrobust                                         \n",
       "========================================================================================\n",
       "                           coef    std err          t      P>|t|      [0.025      0.975]\n",
       "----------------------------------------------------------------------------------------\n",
       "Intercept               35.8320      0.419     85.447      0.000      35.010      36.654\n",
       "sum_clicks               0.0027   8.21e-05     33.317      0.000       0.003       0.003\n",
       "studied_credits         -0.0274      0.005     -5.976      0.000      -0.036      -0.018\n",
       "num_of_prev_attempts    -4.2037      0.383    -10.979      0.000      -4.954      -3.453\n",
       "==============================================================================\n",
       "Omnibus:                     1491.710   Durbin-Watson:                   1.288\n",
       "Prob(Omnibus):                  0.000   Jarque-Bera (JB):             1983.747\n",
       "Skew:                           0.824   Prob(JB):                         0.00\n",
       "Kurtosis:                       3.630   Cond. No.                     7.03e+03\n",
       "==============================================================================\n",
       "\n",
       "Warnings:\n",
       "[1] Standard Errors assume that the covariance matrix of the errors is correctly specified.\n",
       "[2] The condition number is large, 7.03e+03. This might indicate that there are\n",
       "strong multicollinearity or other numerical problems.\n",
       "\"\"\""
      ]
     },
     "execution_count": 148,
     "metadata": {},
     "output_type": "execute_result"
    }
   ],
   "source": [
    "#dataset for prediction - no final result == total scores\n",
    "base = sm.ols('total_score ~ sum_clicks + studied_credits + num_of_prev_attempts', continous).fit()\n",
    "base.summary()\n",
    "#If the p<0.05 by definition it is a good one"
   ]
  },
  {
   "cell_type": "markdown",
   "metadata": {},
   "source": [
    "All the variables are significant but explains very low variablity of the model (R2 = 0.081). Thus, the model can be improved on. So the categorical variables are included (this would be converted to dummies by the stats model)"
   ]
  },
  {
   "cell_type": "markdown",
   "metadata": {},
   "source": [
    "######  Augumented Model - improve R2 by adding more variable"
   ]
  },
  {
   "cell_type": "code",
   "execution_count": 149,
   "metadata": {
    "scrolled": true
   },
   "outputs": [
    {
     "data": {
      "text/html": [
       "<table class=\"simpletable\">\n",
       "<caption>OLS Regression Results</caption>\n",
       "<tr>\n",
       "  <th>Dep. Variable:</th>       <td>total_score</td>   <th>  R-squared:         </th> <td>   0.127</td> \n",
       "</tr>\n",
       "<tr>\n",
       "  <th>Model:</th>                   <td>OLS</td>       <th>  Adj. R-squared:    </th> <td>   0.126</td> \n",
       "</tr>\n",
       "<tr>\n",
       "  <th>Method:</th>             <td>Least Squares</td>  <th>  F-statistic:       </th> <td>   111.6</td> \n",
       "</tr>\n",
       "<tr>\n",
       "  <th>Date:</th>             <td>Fri, 11 May 2018</td> <th>  Prob (F-statistic):</th>  <td>  0.00</td>  \n",
       "</tr>\n",
       "<tr>\n",
       "  <th>Time:</th>                 <td>13:31:19</td>     <th>  Log-Likelihood:    </th> <td> -67094.</td> \n",
       "</tr>\n",
       "<tr>\n",
       "  <th>No. Observations:</th>      <td> 15295</td>      <th>  AIC:               </th> <td>1.342e+05</td>\n",
       "</tr>\n",
       "<tr>\n",
       "  <th>Df Residuals:</th>          <td> 15274</td>      <th>  BIC:               </th> <td>1.344e+05</td>\n",
       "</tr>\n",
       "<tr>\n",
       "  <th>Df Model:</th>              <td>    20</td>      <th>                     </th>     <td> </td>    \n",
       "</tr>\n",
       "<tr>\n",
       "  <th>Covariance Type:</th>      <td>nonrobust</td>    <th>                     </th>     <td> </td>    \n",
       "</tr>\n",
       "</table>\n",
       "<table class=\"simpletable\">\n",
       "<tr>\n",
       "                          <td></td>                            <th>coef</th>     <th>std err</th>      <th>t</th>      <th>P>|t|</th>  <th>[0.025</th>    <th>0.975]</th>  \n",
       "</tr>\n",
       "<tr>\n",
       "  <th>Intercept</th>                                        <td>   33.9472</td> <td>    0.696</td> <td>   48.798</td> <td> 0.000</td> <td>   32.584</td> <td>   35.311</td>\n",
       "</tr>\n",
       "<tr>\n",
       "  <th>gender[T.M]</th>                                      <td>    0.8953</td> <td>    0.323</td> <td>    2.772</td> <td> 0.006</td> <td>    0.262</td> <td>    1.528</td>\n",
       "</tr>\n",
       "<tr>\n",
       "  <th>highest_education[T.HE Qualification]</th>            <td>    2.5925</td> <td>    0.464</td> <td>    5.585</td> <td> 0.000</td> <td>    1.683</td> <td>    3.502</td>\n",
       "</tr>\n",
       "<tr>\n",
       "  <th>highest_education[T.Lower Than A Level]</th>          <td>   -6.1781</td> <td>    0.352</td> <td>  -17.560</td> <td> 0.000</td> <td>   -6.868</td> <td>   -5.489</td>\n",
       "</tr>\n",
       "<tr>\n",
       "  <th>highest_education[T.No Formal quals]</th>             <td>  -10.4061</td> <td>    1.976</td> <td>   -5.266</td> <td> 0.000</td> <td>  -14.280</td> <td>   -6.532</td>\n",
       "</tr>\n",
       "<tr>\n",
       "  <th>highest_education[T.Post Graduate Qualification]</th> <td>    9.3446</td> <td>    2.014</td> <td>    4.640</td> <td> 0.000</td> <td>    5.397</td> <td>   13.292</td>\n",
       "</tr>\n",
       "<tr>\n",
       "  <th>imd_band[T.10-20%]</th>                               <td>   -0.3107</td> <td>    0.717</td> <td>   -0.433</td> <td> 0.665</td> <td>   -1.716</td> <td>    1.094</td>\n",
       "</tr>\n",
       "<tr>\n",
       "  <th>imd_band[T.20-30%]</th>                               <td>    1.9447</td> <td>    0.712</td> <td>    2.730</td> <td> 0.006</td> <td>    0.548</td> <td>    3.341</td>\n",
       "</tr>\n",
       "<tr>\n",
       "  <th>imd_band[T.30-40%]</th>                               <td>    2.9511</td> <td>    0.702</td> <td>    4.204</td> <td> 0.000</td> <td>    1.575</td> <td>    4.327</td>\n",
       "</tr>\n",
       "<tr>\n",
       "  <th>imd_band[T.40-50%]</th>                               <td>    3.4277</td> <td>    0.717</td> <td>    4.782</td> <td> 0.000</td> <td>    2.023</td> <td>    4.833</td>\n",
       "</tr>\n",
       "<tr>\n",
       "  <th>imd_band[T.50-60%]</th>                               <td>    3.5397</td> <td>    0.714</td> <td>    4.957</td> <td> 0.000</td> <td>    2.140</td> <td>    4.940</td>\n",
       "</tr>\n",
       "<tr>\n",
       "  <th>imd_band[T.60-70%]</th>                               <td>    5.3857</td> <td>    0.731</td> <td>    7.365</td> <td> 0.000</td> <td>    3.952</td> <td>    6.819</td>\n",
       "</tr>\n",
       "<tr>\n",
       "  <th>imd_band[T.70-80%]</th>                               <td>    5.4173</td> <td>    0.725</td> <td>    7.476</td> <td> 0.000</td> <td>    3.997</td> <td>    6.838</td>\n",
       "</tr>\n",
       "<tr>\n",
       "  <th>imd_band[T.80-90%]</th>                               <td>    5.9536</td> <td>    0.734</td> <td>    8.113</td> <td> 0.000</td> <td>    4.515</td> <td>    7.392</td>\n",
       "</tr>\n",
       "<tr>\n",
       "  <th>imd_band[T.90-100%]</th>                              <td>    6.6431</td> <td>    0.752</td> <td>    8.836</td> <td> 0.000</td> <td>    5.170</td> <td>    8.117</td>\n",
       "</tr>\n",
       "<tr>\n",
       "  <th>age_band[T.35-55]</th>                                <td>   -0.8172</td> <td>    0.356</td> <td>   -2.296</td> <td> 0.022</td> <td>   -1.515</td> <td>   -0.119</td>\n",
       "</tr>\n",
       "<tr>\n",
       "  <th>age_band[T.55>=]</th>                                 <td>    0.9986</td> <td>    1.847</td> <td>    0.541</td> <td> 0.589</td> <td>   -2.622</td> <td>    4.620</td>\n",
       "</tr>\n",
       "<tr>\n",
       "  <th>disability[T.Y]</th>                                  <td>   -0.4902</td> <td>    0.590</td> <td>   -0.831</td> <td> 0.406</td> <td>   -1.647</td> <td>    0.666</td>\n",
       "</tr>\n",
       "<tr>\n",
       "  <th>sum_clicks</th>                                       <td>    0.0026</td> <td> 8.23e-05</td> <td>   32.023</td> <td> 0.000</td> <td>    0.002</td> <td>    0.003</td>\n",
       "</tr>\n",
       "<tr>\n",
       "  <th>studied_credits</th>                                  <td>   -0.0261</td> <td>    0.004</td> <td>   -5.810</td> <td> 0.000</td> <td>   -0.035</td> <td>   -0.017</td>\n",
       "</tr>\n",
       "<tr>\n",
       "  <th>num_of_prev_attempts</th>                             <td>   -3.4937</td> <td>    0.375</td> <td>   -9.325</td> <td> 0.000</td> <td>   -4.228</td> <td>   -2.759</td>\n",
       "</tr>\n",
       "</table>\n",
       "<table class=\"simpletable\">\n",
       "<tr>\n",
       "  <th>Omnibus:</th>       <td>1367.608</td> <th>  Durbin-Watson:     </th> <td>   1.320</td>\n",
       "</tr>\n",
       "<tr>\n",
       "  <th>Prob(Omnibus):</th>  <td> 0.000</td>  <th>  Jarque-Bera (JB):  </th> <td>1781.447</td>\n",
       "</tr>\n",
       "<tr>\n",
       "  <th>Skew:</th>           <td> 0.780</td>  <th>  Prob(JB):          </th> <td>    0.00</td>\n",
       "</tr>\n",
       "<tr>\n",
       "  <th>Kurtosis:</th>       <td> 3.601</td>  <th>  Cond. No.          </th> <td>3.49e+04</td>\n",
       "</tr>\n",
       "</table>"
      ],
      "text/plain": [
       "<class 'statsmodels.iolib.summary.Summary'>\n",
       "\"\"\"\n",
       "                            OLS Regression Results                            \n",
       "==============================================================================\n",
       "Dep. Variable:            total_score   R-squared:                       0.127\n",
       "Model:                            OLS   Adj. R-squared:                  0.126\n",
       "Method:                 Least Squares   F-statistic:                     111.6\n",
       "Date:                Fri, 11 May 2018   Prob (F-statistic):               0.00\n",
       "Time:                        13:31:19   Log-Likelihood:                -67094.\n",
       "No. Observations:               15295   AIC:                         1.342e+05\n",
       "Df Residuals:                   15274   BIC:                         1.344e+05\n",
       "Df Model:                          20                                         \n",
       "Covariance Type:            nonrobust                                         \n",
       "====================================================================================================================\n",
       "                                                       coef    std err          t      P>|t|      [0.025      0.975]\n",
       "--------------------------------------------------------------------------------------------------------------------\n",
       "Intercept                                           33.9472      0.696     48.798      0.000      32.584      35.311\n",
       "gender[T.M]                                          0.8953      0.323      2.772      0.006       0.262       1.528\n",
       "highest_education[T.HE Qualification]                2.5925      0.464      5.585      0.000       1.683       3.502\n",
       "highest_education[T.Lower Than A Level]             -6.1781      0.352    -17.560      0.000      -6.868      -5.489\n",
       "highest_education[T.No Formal quals]               -10.4061      1.976     -5.266      0.000     -14.280      -6.532\n",
       "highest_education[T.Post Graduate Qualification]     9.3446      2.014      4.640      0.000       5.397      13.292\n",
       "imd_band[T.10-20%]                                  -0.3107      0.717     -0.433      0.665      -1.716       1.094\n",
       "imd_band[T.20-30%]                                   1.9447      0.712      2.730      0.006       0.548       3.341\n",
       "imd_band[T.30-40%]                                   2.9511      0.702      4.204      0.000       1.575       4.327\n",
       "imd_band[T.40-50%]                                   3.4277      0.717      4.782      0.000       2.023       4.833\n",
       "imd_band[T.50-60%]                                   3.5397      0.714      4.957      0.000       2.140       4.940\n",
       "imd_band[T.60-70%]                                   5.3857      0.731      7.365      0.000       3.952       6.819\n",
       "imd_band[T.70-80%]                                   5.4173      0.725      7.476      0.000       3.997       6.838\n",
       "imd_band[T.80-90%]                                   5.9536      0.734      8.113      0.000       4.515       7.392\n",
       "imd_band[T.90-100%]                                  6.6431      0.752      8.836      0.000       5.170       8.117\n",
       "age_band[T.35-55]                                   -0.8172      0.356     -2.296      0.022      -1.515      -0.119\n",
       "age_band[T.55>=]                                     0.9986      1.847      0.541      0.589      -2.622       4.620\n",
       "disability[T.Y]                                     -0.4902      0.590     -0.831      0.406      -1.647       0.666\n",
       "sum_clicks                                           0.0026   8.23e-05     32.023      0.000       0.002       0.003\n",
       "studied_credits                                     -0.0261      0.004     -5.810      0.000      -0.035      -0.017\n",
       "num_of_prev_attempts                                -3.4937      0.375     -9.325      0.000      -4.228      -2.759\n",
       "==============================================================================\n",
       "Omnibus:                     1367.608   Durbin-Watson:                   1.320\n",
       "Prob(Omnibus):                  0.000   Jarque-Bera (JB):             1781.447\n",
       "Skew:                           0.780   Prob(JB):                         0.00\n",
       "Kurtosis:                       3.601   Cond. No.                     3.49e+04\n",
       "==============================================================================\n",
       "\n",
       "Warnings:\n",
       "[1] Standard Errors assume that the covariance matrix of the errors is correctly specified.\n",
       "[2] The condition number is large, 3.49e+04. This might indicate that there are\n",
       "strong multicollinearity or other numerical problems.\n",
       "\"\"\""
      ]
     },
     "execution_count": 149,
     "metadata": {},
     "output_type": "execute_result"
    }
   ],
   "source": [
    "categorical = ['gender', 'region', 'highest_education', 'imd_band', 'age_band', 'disability']\n",
    "new1 =  final[categorical]\n",
    "df = new1.join(continous) #new dataset of just relevant variables\n",
    "augumented = sm.ols('total_score ~ sum_clicks + studied_credits + num_of_prev_attempts + gender + highest_education\\\n",
    "              + imd_band + age_band + disability', df).fit()\n",
    "augumented.summary()\n",
    "#If the p<0.05 by definition it is a good one"
   ]
  },
  {
   "cell_type": "markdown",
   "metadata": {},
   "source": [
    "This augumented model includes categorical variables (statsmodel creates dummy of these) as well as the continous variable.It is found that age band 55 & over, imd band 10-20% and presence of disability had no significance on total score.\n",
    "The R2 increased to 0.127, still small but an improvement from the baseline model. To further improve the R2, supervised learning is adopted, below, graphical evidence of the augumented being a better fit is shown"
   ]
  },
  {
   "cell_type": "markdown",
   "metadata": {},
   "source": [
    "###### Performance Measurement"
   ]
  },
  {
   "cell_type": "code",
   "execution_count": 150,
   "metadata": {
    "scrolled": true
   },
   "outputs": [
    {
     "data": {
      "image/png": "iVBORw0KGgoAAAANSUhEUgAAAiUAAAFpCAYAAABDH1hhAAAABHNCSVQICAgIfAhkiAAAAAlwSFlz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\nsVgsFsuM4P8BW0e5rSpkIMQAAAAASUVORK5CYII=\n",
      "text/plain": [
       "<matplotlib.figure.Figure at 0x1be04c0e278>"
      ]
     },
     "metadata": {},
     "output_type": "display_data"
    }
   ],
   "source": [
    "f, ax = plt.subplots(1, figsize=(9, 6))\n",
    "sns.kdeplot(df['total_score'], shade=True, ax=ax, label='$y$') #plot the total scores\n",
    "sns.kdeplot(base.fittedvalues, shade=True, ax=ax, label='$\\hat{y1}$') #plot the fitted values using the base model\n",
    "sns.kdeplot(augumented.fittedvalues, shade=True, ax=ax, label='$\\hat{y2}$') #plot the fitted values using the augumented model\n",
    "plt.ylim((0,0.18))\n",
    "plt.show()"
   ]
  },
  {
   "cell_type": "markdown",
   "metadata": {},
   "source": [
    "With the baseline model(green) producing a very much higher peak than the original data, the augumented model produces a closer pear and wider tails. It indicates that the augumented is better at identifying the correct pattern"
   ]
  },
  {
   "cell_type": "code",
   "execution_count": 154,
   "metadata": {},
   "outputs": [],
   "source": [
    "r2 = pd.Series({'Baseline': metrics.r2_score(df['total_score'], base.fittedvalues), \n",
    "                'Augmented': metrics.r2_score(df['total_score'],augumented.fittedvalues)})"
   ]
  },
  {
   "cell_type": "code",
   "execution_count": 155,
   "metadata": {
    "collapsed": true
   },
   "outputs": [],
   "source": [
    "MSE = pd.Series({'Baseline': metrics.mean_squared_error(df['total_score'], base.fittedvalues),\n",
    "                'Augmented': metrics.mean_squared_error(df['total_score'], augumented.fittedvalues)})"
   ]
  },
  {
   "cell_type": "code",
   "execution_count": 156,
   "metadata": {
    "collapsed": true
   },
   "outputs": [],
   "source": [
    "MAE = pd.Series({'Baseline': metrics.mean_absolute_error(df['total_score'], base.fittedvalues),\n",
    "                 'Augmented': metrics.mean_absolute_error(df['total_score'], augumented.fittedvalues)})"
   ]
  },
  {
   "cell_type": "code",
   "execution_count": 157,
   "metadata": {},
   "outputs": [
    {
     "data": {
      "text/html": [
       "<div>\n",
       "<style>\n",
       "    .dataframe thead tr:only-child th {\n",
       "        text-align: right;\n",
       "    }\n",
       "\n",
       "    .dataframe thead th {\n",
       "        text-align: left;\n",
       "    }\n",
       "\n",
       "    .dataframe tbody tr th {\n",
       "        vertical-align: top;\n",
       "    }\n",
       "</style>\n",
       "<table border=\"1\" class=\"dataframe\">\n",
       "  <thead>\n",
       "    <tr style=\"text-align: right;\">\n",
       "      <th></th>\n",
       "      <th>MAE</th>\n",
       "      <th>MSE</th>\n",
       "      <th>R-squared</th>\n",
       "    </tr>\n",
       "  </thead>\n",
       "  <tbody>\n",
       "    <tr>\n",
       "      <th>Augmented</th>\n",
       "      <td>14.359495</td>\n",
       "      <td>378.187189</td>\n",
       "      <td>0.127456</td>\n",
       "    </tr>\n",
       "    <tr>\n",
       "      <th>Baseline</th>\n",
       "      <td>14.551630</td>\n",
       "      <td>398.249575</td>\n",
       "      <td>0.081169</td>\n",
       "    </tr>\n",
       "  </tbody>\n",
       "</table>\n",
       "</div>"
      ],
      "text/plain": [
       "                 MAE         MSE  R-squared\n",
       "Augmented  14.359495  378.187189   0.127456\n",
       "Baseline   14.551630  398.249575   0.081169"
      ]
     },
     "execution_count": 157,
     "metadata": {},
     "output_type": "execute_result"
    }
   ],
   "source": [
    "#make a dataframe of the performance measures for base and augumented models\n",
    "perf = pd.DataFrame({'MAE': MAE, 'MSE': MSE, 'R-squared': r2})\n",
    "perf"
   ]
  },
  {
   "cell_type": "markdown",
   "metadata": {},
   "source": [
    "From the performance measurement table, the augumented model is doing better that the baseline with lower error rates and capturing higher variability in total score.\n",
    "\n",
    "To avoid overfitting, the model needs to be trained and tested on an unseen data. This should give an indication of how well it would perform predicting their final scores of future students."
   ]
  },
  {
   "cell_type": "markdown",
   "metadata": {},
   "source": [
    "### Over Fitting and Cross Validation"
   ]
  },
  {
   "cell_type": "markdown",
   "metadata": {},
   "source": [
    "#### Supervised Linear Regression Model"
   ]
  },
  {
   "cell_type": "code",
   "execution_count": 158,
   "metadata": {},
   "outputs": [
    {
     "name": "stdout",
     "output_type": "stream",
     "text": [
      "(10706, 9) (10706,)\n",
      "(4589, 9) (4589,)\n"
     ]
    }
   ],
   "source": [
    "#to train model\n",
    "#first created the X and y variable\n",
    "column = ['sum_clicks', 'studied_credits', 'num_of_prev_attempts', 'gender', \n",
    "          'region', 'highest_education', 'imd_band', 'age_band', 'disability']\n",
    "X1 = df[column] #independent variables\n",
    "y1 = df['total_score'] #dependent variable\n",
    "\n",
    "#then split dataset into 30% for test and 70% for train\n",
    "X_train, X_test, y_train, y_test = cross_validation.train_test_split(X1, y1, test_size=0.30, random_state=12345)\n",
    "#check length\n",
    "print (X_train.shape, y_train.shape)\n",
    "print (X_test.shape, y_test.shape)"
   ]
  },
  {
   "cell_type": "code",
   "execution_count": 159,
   "metadata": {
    "collapsed": true
   },
   "outputs": [],
   "source": [
    "#define the OLS function\n",
    "function = 'total_score ~ sum_clicks + studied_credits + num_of_prev_attempts + gender + highest_education\\\n",
    "              + imd_band + age_band + disability'\n",
    "\n",
    "#then train the model using the stats model\n",
    "aug_train = sm.ols(function, X_train.assign(total_score=y_train))\n",
    "results = aug_train.fit()"
   ]
  },
  {
   "cell_type": "code",
   "execution_count": 160,
   "metadata": {},
   "outputs": [
    {
     "data": {
      "text/html": [
       "<div>\n",
       "<style>\n",
       "    .dataframe thead tr:only-child th {\n",
       "        text-align: right;\n",
       "    }\n",
       "\n",
       "    .dataframe thead th {\n",
       "        text-align: left;\n",
       "    }\n",
       "\n",
       "    .dataframe tbody tr th {\n",
       "        vertical-align: top;\n",
       "    }\n",
       "</style>\n",
       "<table border=\"1\" class=\"dataframe\">\n",
       "  <thead>\n",
       "    <tr style=\"text-align: right;\">\n",
       "      <th></th>\n",
       "      <th>Full Dataset</th>\n",
       "      <th>Train Set</th>\n",
       "    </tr>\n",
       "  </thead>\n",
       "  <tbody>\n",
       "    <tr>\n",
       "      <th>Intercept</th>\n",
       "      <td>33.947177</td>\n",
       "      <td>33.838057</td>\n",
       "    </tr>\n",
       "    <tr>\n",
       "      <th>gender[T.M]</th>\n",
       "      <td>0.895288</td>\n",
       "      <td>0.638938</td>\n",
       "    </tr>\n",
       "    <tr>\n",
       "      <th>highest_education[T.HE Qualification]</th>\n",
       "      <td>2.592468</td>\n",
       "      <td>3.224626</td>\n",
       "    </tr>\n",
       "    <tr>\n",
       "      <th>highest_education[T.Lower Than A Level]</th>\n",
       "      <td>-6.178139</td>\n",
       "      <td>-5.663537</td>\n",
       "    </tr>\n",
       "    <tr>\n",
       "      <th>highest_education[T.No Formal quals]</th>\n",
       "      <td>-10.406115</td>\n",
       "      <td>-10.669094</td>\n",
       "    </tr>\n",
       "    <tr>\n",
       "      <th>highest_education[T.Post Graduate Qualification]</th>\n",
       "      <td>9.344627</td>\n",
       "      <td>8.110902</td>\n",
       "    </tr>\n",
       "    <tr>\n",
       "      <th>imd_band[T.10-20%]</th>\n",
       "      <td>-0.310711</td>\n",
       "      <td>-1.201876</td>\n",
       "    </tr>\n",
       "    <tr>\n",
       "      <th>imd_band[T.20-30%]</th>\n",
       "      <td>1.944664</td>\n",
       "      <td>1.720046</td>\n",
       "    </tr>\n",
       "    <tr>\n",
       "      <th>imd_band[T.30-40%]</th>\n",
       "      <td>2.951074</td>\n",
       "      <td>3.097931</td>\n",
       "    </tr>\n",
       "    <tr>\n",
       "      <th>imd_band[T.40-50%]</th>\n",
       "      <td>3.427724</td>\n",
       "      <td>2.985789</td>\n",
       "    </tr>\n",
       "    <tr>\n",
       "      <th>imd_band[T.50-60%]</th>\n",
       "      <td>3.539720</td>\n",
       "      <td>3.419007</td>\n",
       "    </tr>\n",
       "    <tr>\n",
       "      <th>imd_band[T.60-70%]</th>\n",
       "      <td>5.385716</td>\n",
       "      <td>5.188233</td>\n",
       "    </tr>\n",
       "    <tr>\n",
       "      <th>imd_band[T.70-80%]</th>\n",
       "      <td>5.417347</td>\n",
       "      <td>5.050793</td>\n",
       "    </tr>\n",
       "    <tr>\n",
       "      <th>imd_band[T.80-90%]</th>\n",
       "      <td>5.953617</td>\n",
       "      <td>5.951260</td>\n",
       "    </tr>\n",
       "    <tr>\n",
       "      <th>imd_band[T.90-100%]</th>\n",
       "      <td>6.643121</td>\n",
       "      <td>5.972553</td>\n",
       "    </tr>\n",
       "    <tr>\n",
       "      <th>age_band[T.35-55]</th>\n",
       "      <td>-0.817225</td>\n",
       "      <td>-0.679182</td>\n",
       "    </tr>\n",
       "    <tr>\n",
       "      <th>age_band[T.55&gt;=]</th>\n",
       "      <td>0.998632</td>\n",
       "      <td>0.541828</td>\n",
       "    </tr>\n",
       "    <tr>\n",
       "      <th>disability[T.Y]</th>\n",
       "      <td>-0.490176</td>\n",
       "      <td>-0.274769</td>\n",
       "    </tr>\n",
       "    <tr>\n",
       "      <th>sum_clicks</th>\n",
       "      <td>0.002637</td>\n",
       "      <td>0.002695</td>\n",
       "    </tr>\n",
       "    <tr>\n",
       "      <th>studied_credits</th>\n",
       "      <td>-0.026068</td>\n",
       "      <td>-0.026139</td>\n",
       "    </tr>\n",
       "    <tr>\n",
       "      <th>num_of_prev_attempts</th>\n",
       "      <td>-3.493671</td>\n",
       "      <td>-3.469803</td>\n",
       "    </tr>\n",
       "  </tbody>\n",
       "</table>\n",
       "</div>"
      ],
      "text/plain": [
       "                                                  Full Dataset  Train Set\n",
       "Intercept                                            33.947177  33.838057\n",
       "gender[T.M]                                           0.895288   0.638938\n",
       "highest_education[T.HE Qualification]                 2.592468   3.224626\n",
       "highest_education[T.Lower Than A Level]              -6.178139  -5.663537\n",
       "highest_education[T.No Formal quals]                -10.406115 -10.669094\n",
       "highest_education[T.Post Graduate Qualification]      9.344627   8.110902\n",
       "imd_band[T.10-20%]                                   -0.310711  -1.201876\n",
       "imd_band[T.20-30%]                                    1.944664   1.720046\n",
       "imd_band[T.30-40%]                                    2.951074   3.097931\n",
       "imd_band[T.40-50%]                                    3.427724   2.985789\n",
       "imd_band[T.50-60%]                                    3.539720   3.419007\n",
       "imd_band[T.60-70%]                                    5.385716   5.188233\n",
       "imd_band[T.70-80%]                                    5.417347   5.050793\n",
       "imd_band[T.80-90%]                                    5.953617   5.951260\n",
       "imd_band[T.90-100%]                                   6.643121   5.972553\n",
       "age_band[T.35-55]                                    -0.817225  -0.679182\n",
       "age_band[T.55>=]                                      0.998632   0.541828\n",
       "disability[T.Y]                                      -0.490176  -0.274769\n",
       "sum_clicks                                            0.002637   0.002695\n",
       "studied_credits                                      -0.026068  -0.026139\n",
       "num_of_prev_attempts                                 -3.493671  -3.469803"
      ]
     },
     "execution_count": 160,
     "metadata": {},
     "output_type": "execute_result"
    }
   ],
   "source": [
    "#compare the coefficients generated using the full dataset and the tain dataset\n",
    "pd.DataFrame({'Full Dataset': augumented.params, 'Train Set': results.params})"
   ]
  },
  {
   "cell_type": "markdown",
   "metadata": {},
   "source": [
    "From the comparison above, it can seen that the coefficients does reduce which maybe because the augumented model was overfitting. To check for the better performing model, first, out of sample prediction is done and a comparison of its R2 to that of the augumented model is done"
   ]
  },
  {
   "cell_type": "code",
   "execution_count": 161,
   "metadata": {
    "collapsed": true
   },
   "outputs": [],
   "source": [
    "#prediction\n",
    "y_pred = results.predict(X_test)"
   ]
  },
  {
   "cell_type": "code",
   "execution_count": 162,
   "metadata": {
    "scrolled": false
   },
   "outputs": [
    {
     "data": {
      "text/plain": [
       "0-Full Dataset    0.127456\n",
       "1-Train Set       0.129773\n",
       "2-Test Set        0.120170\n",
       "dtype: float64"
      ]
     },
     "execution_count": 162,
     "metadata": {},
     "output_type": "execute_result"
    }
   ],
   "source": [
    "pd.Series({'0-Full Dataset': augumented.rsquared,\n",
    "           '1-Train Set': results.rsquared,\n",
    "           '2-Test Set': metrics.r2_score(y_test,\n",
    "                                        y_pred)})"
   ]
  },
  {
   "cell_type": "markdown",
   "metadata": {},
   "source": [
    "The trained data R2 is smaller than that of the full dataset but the results of the out of sample prediction give a higher R2. This is a good result, as the test prediction is performing well.\n",
    "Given that some of the variables were not significant, there is an argument that variables selection is needed and this may lead to an improved result. Below attempts to do this using Least Absolute Shrinkage and Selection Operator (LASSO)."
   ]
  },
  {
   "cell_type": "markdown",
   "metadata": {},
   "source": [
    "#### LASSO"
   ]
  },
  {
   "cell_type": "markdown",
   "metadata": {},
   "source": [
    "With the aim of improving R2 score of the model as well as select only significant variables and also avoiding multicollinerity, LASSO has been adopted.\n",
    "\n",
    "Tibshirani (1996) introduced LASSO to improve the prediction accuracy and interpretability of regression models by altering the model fitting process to select only a subset of the provided covariates for use in the final model rather than using all of them. Interpretability and avoiding overfitting is achieved by forcing certain regression coefficients to be zero, this is done by forcing the sum of the absolute value of the regression coefficients to be less than a fixed value.\n",
    "\n",
    "LASSO is implemented here using the least angle regression (LARS) module and for prediction the cross-validation (CV) approach was adopted. This approach is particularly helpful to help ascertain the best lambda value to adopt, it would aid in the selection of an optimal point of lowest bias and variance in the model. This process is called regularization. CV also has an advantage at being better than train_test in avoiding overfitting, there are both similar but CV splits data into k subsets, training k-1 of them and holding out the last for test. For this essay, k = 5 (it is typically 5 or 10 depending on size of dataset). "
   ]
  },
  {
   "cell_type": "markdown",
   "metadata": {},
   "source": [
    "First a new dataset is created from already existing dataset _category dummies_ (as name, it contains all categorical variables) and _df_ (contains all necessary variables in its original form).\n",
    "The independent variables are standardized using again MinMaxScaler, this ensures that variables on different scales contribute to the analysis equally."
   ]
  },
  {
   "cell_type": "code",
   "execution_count": 163,
   "metadata": {
    "collapsed": true
   },
   "outputs": [],
   "source": [
    "#remove final results from the categorical variables\n",
    "new_dummies = category_dummies.drop(['final_result_Distinction', 'final_result_Fail', 'final_result_Pass'],axis=1)\n",
    "\n",
    "#join the continous and categorical variables\n",
    "newLASSO = df[['total_score', 'sum_clicks', 'studied_credits', 'num_of_prev_attempts']].join(new_dummies)\n",
    "\n",
    "#standardise\n",
    "min_max_scaler = preprocessing.MinMaxScaler()\n",
    "forLASSO = pd.DataFrame(min_max_scaler.fit_transform(newLASSO), index=newLASSO.index, columns=newLASSO.columns)"
   ]
  },
  {
   "cell_type": "code",
   "execution_count": 164,
   "metadata": {
    "collapsed": true
   },
   "outputs": [],
   "source": [
    "#create the dependent and independent variable\n",
    "X2 = forLASSO.drop('total_score', axis=1)\n",
    "y2 = forLASSO['total_score']"
   ]
  },
  {
   "cell_type": "code",
   "execution_count": 166,
   "metadata": {
    "scrolled": true
   },
   "outputs": [],
   "source": [
    "#split into test and train\n",
    "X_train, X_test, Y_train, Y_test = cross_validation.train_test_split(X2, y2, test_size=0.30, random_state=12345)\n",
    "\n",
    "#specify the model and fit to train set\n",
    "#splitting dataset into 5 to aid the selction of alpha to use\n",
    "model=LassoLarsCV(cv=5, precompute=False).fit(X_train,Y_train)"
   ]
  },
  {
   "cell_type": "code",
   "execution_count": 169,
   "metadata": {
    "scrolled": true
   },
   "outputs": [
    {
     "data": {
      "text/plain": [
       "Text(0,0.5,'Mean squared error')"
      ]
     },
     "execution_count": 169,
     "metadata": {},
     "output_type": "execute_result"
    },
    {
     "data": {
      "image/png": "iVBORw0KGgoAAAANSUhEUgAAAZIAAAEKCAYAAAA4t9PUAAAABHNCSVQICAgIfAhkiAAAAAlwSFlz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\nSUVORK5CYII=\n",
      "text/plain": [
       "<matplotlib.figure.Figure at 0x1be04df0710>"
      ]
     },
     "metadata": {},
     "output_type": "display_data"
    }
   ],
   "source": [
    "# plot mean square error for each fold\n",
    "m_log_alphascv = -np.log10(model.cv_alphas_)\n",
    "plt.figure()\n",
    "plt.plot(m_log_alphascv, model.mse_path_, ':')\n",
    "plt.plot(m_log_alphascv, model.mse_path_.mean(axis=-1), 'k', label='Average across the folds', linewidth=2)\n",
    "plt.axvline(-np.log10(model.alpha_), linestyle='--', color='k', label='alpha CV')\n",
    "plt.legend()\n",
    "plt.xlabel('-log(alpha)')\n",
    "plt.ylabel('Mean squared error')"
   ]
  },
  {
   "cell_type": "markdown",
   "metadata": {},
   "source": [
    "In Figure above shows the MSE for each 5 folds with the different coloured dotted lines and average MSE shown as the solid line, the vertical dotted line highlights the optimal lambda value as 5.1 which would then be used as the lambda penalty for shrinking coefficients."
   ]
  },
  {
   "cell_type": "code",
   "execution_count": 171,
   "metadata": {
    "scrolled": false
   },
   "outputs": [
    {
     "data": {
      "text/plain": [
       "Text(0.5,0,'-log(alpha)')"
      ]
     },
     "execution_count": 171,
     "metadata": {},
     "output_type": "execute_result"
    },
    {
     "data": {
      "image/png": "iVBORw0KGgoAAAANSUhEUgAAAYQAAAEKCAYAAAASByJ7AAAABHNCSVQICAgIfAhkiAAAAAlwSFlz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\n",
      "text/plain": [
       "<matplotlib.figure.Figure at 0x1be04c455f8>"
      ]
     },
     "metadata": {},
     "output_type": "display_data"
    }
   ],
   "source": [
    "# plot coefficient progression\n",
    "m_log_alphas = -np.log10(model.alphas_)\n",
    "ax = plt.gca()\n",
    "plt.plot(m_log_alphas, model.coef_path_.T);\n",
    "plt.axvline(5.1, linestyle='--', color='k', label='alpha CV')\n",
    "plt.ylabel('Regression Coefficients')\n",
    "plt.xlabel('-log(alpha)')"
   ]
  },
  {
   "cell_type": "markdown",
   "metadata": {},
   "source": [
    "With a shrinking coefficient selected as 5.1, the graph above shows the variables which make the cut and are selected as significant. The lines above zero are those variables that positively influence the final scores of students while those below zero have a negative influence. \n",
    "Those that are zero do not contribute to the final score, from below table, the variables are: \n",
    "1. region_Scotland\n",
    "2. highest_education_A Level or Equivalent\n",
    "3. imd_band_50-60%\n",
    "4. age_band_0-35\n",
    "5. disability_N"
   ]
  },
  {
   "cell_type": "code",
   "execution_count": 187,
   "metadata": {
    "scrolled": false
   },
   "outputs": [
    {
     "name": "stdout",
     "output_type": "stream",
     "text": [
      "sum_clicks                                       0.560462\n",
      "studied_credits                                 -0.155901\n",
      "num_of_prev_attempts                            -0.199715\n",
      "gender_F                                        -0.005127\n",
      "gender_M                                         0.000000\n",
      "region_England                                   0.014831\n",
      "region_Ireland                                  -0.021508\n",
      "region_Scotland                                  0.000000\n",
      "region_Wales                                    -0.008528\n",
      "highest_education_A Level or Equivalent          0.000000\n",
      "highest_education_HE Qualification               0.033907\n",
      "highest_education_Lower Than A Level            -0.055561\n",
      "highest_education_No Formal quals               -0.102630\n",
      "highest_education_Post Graduate Qualification    0.080036\n",
      "imd_band_0-10%                                  -0.030043\n",
      "imd_band_10-20%                                 -0.042820\n",
      "imd_band_20-30%                                 -0.013368\n",
      "imd_band_30-40%                                  0.000000\n",
      "imd_band_40-50%                                 -0.001246\n",
      "imd_band_50-60%                                  0.001036\n",
      "imd_band_60-70%                                  0.017916\n",
      "imd_band_70-80%                                  0.016521\n",
      "imd_band_80-90%                                  0.025836\n",
      "imd_band_90-100%                                 0.025362\n",
      "age_band_0-35                                    0.000000\n",
      "age_band_35-55                                  -0.004971\n",
      "age_band_55>=                                    0.000000\n",
      "disability_N                                     0.001176\n",
      "disability_Y                                    -0.001084\n",
      "dtype: float64\n"
     ]
    }
   ],
   "source": [
    "# print variable names and regression coefficients\n",
    "dict(zip(X2.columns, model.coef_)) #extract the model parameters\n",
    "coeff = pd.Series(model.coef_, index=X2.columns)\n",
    "print(coeff)"
   ]
  },
  {
   "cell_type": "code",
   "execution_count": 188,
   "metadata": {
    "collapsed": true
   },
   "outputs": [],
   "source": [
    "#Out of sample prediction\n",
    "Y_pred = model.predict(X_test)\n",
    "\n",
    "\n",
    "rsquared_train=model.score(X_train,Y_train) #get r2 for the train set"
   ]
  },
  {
   "cell_type": "code",
   "execution_count": 189,
   "metadata": {
    "scrolled": false
   },
   "outputs": [
    {
     "data": {
      "text/plain": [
       "0-Full Dataset    0.127456\n",
       "1-Train Set       0.129773\n",
       "2-Test Set        0.120170\n",
       "3-LASSOTrain      0.132177\n",
       "4-LASSOTest       0.123032\n",
       "dtype: float64"
      ]
     },
     "execution_count": 189,
     "metadata": {},
     "output_type": "execute_result"
    }
   ],
   "source": [
    "pd.Series({'0-Full Dataset': augumented.rsquared,\n",
    "           '1-Train Set': results.rsquared,\n",
    "           '2-Test Set': metrics.r2_score(y_test,\n",
    "                                        y_pred),\n",
    "           '3-LASSOTrain': rsquared_train,\n",
    "          '4-LASSOTest':metrics.r2_score(Y_test, Y_pred)})"
   ]
  },
  {
   "cell_type": "markdown",
   "metadata": {},
   "source": [
    "From the above performance test, LASSO performs better which makes it the best predictive model in this experiment."
   ]
  },
  {
   "cell_type": "markdown",
   "metadata": {},
   "source": [
    "## Conclusion"
   ]
  },
  {
   "cell_type": "markdown",
   "metadata": {},
   "source": [
    "For online courses, it was found that the students performing well (pass & distinction) were more than those failing. There is however a hump in the fail category, efforts of course providers may therefore be geared to making the scpre distribution look perfectly normal. This as shown above can be achieved by exploring the available data and for new students developing a model which can identify students who are most likely to fail and can be aided into performing better.\n",
    "\n",
    "It was found that male students petrformed better than their female counterparts and those from not deprived backgrounds also performed better. The variables with the highest correlation to final score was identified to be sum of clicks which indicates how much students engage with courses.\n",
    "\n",
    "It was found that a trained OLS model performed better than a LASSO model in predicting out of sample scores.\n",
    "\n",
    "Using this essay as ground work, further work can be aimed at drastically improving the R-squared of the predictive model to be adopted. This can be done by creating a bayesian model which first predicts with student demographic information and then updates with each new score (assessment and exam) obtained as well as with each VLE click and total minutes spent engaging with materials at each visit. This may not only improve scores but is able to from student sign on, predict their probability of success and then iteratively update this prediction with more information gathered. This can then be used by the course providers to guide students in improving this probability of success. "
   ]
  },
  {
   "cell_type": "markdown",
   "metadata": {},
   "source": [
    "# References"
   ]
  },
  {
   "cell_type": "markdown",
   "metadata": {},
   "source": [
    "1. Arabie P., Hubert L. J., and Soete G. D., (1996) Clustering and Classification. Singapore: World Scientific.\n",
    "2. Bawa P., (2016) Retention in Online Courses: Exploring Issues and Solutions—A Literature Review. SAGE Open \n",
    "https://doi.org/10.1177/2158244015621777\n",
    "3. Chen Q., Zobel J., Verspoor K., (2017) Duplicates, redundancies and inconsistencies in the primary nucleotide databases: a descriptive study, Database, https://doi.org/10.1093/database/baw163\n",
    "4.  Pedregosa et al., (2011) Scikit-learn: Machine Learning in Python. JMLR 12, pp. 2825-2830, 2011\n",
    "5. Tibshirani, R. (1996), ‘Regression shrinkage and selection via the lasso’, Journal of the Royal Statistical Society. Series B (Methodological), pp. 267-288.\n",
    "6. Wolff A., Zdrahal Z., Herrmannova D., Knoth P. (2014) Predicting Student Performance from Combined Data Sources. In: Peña-Ayala A. (eds) Educational Data Mining. Studies in Computational Intelligence, vol 524. Springer, Cham https://doi.org/10.1007/978-3-319-02738-8_7"
   ]
  }
 ],
 "metadata": {
  "kernelspec": {
   "display_name": "Python 3",
   "language": "python",
   "name": "python3"
  },
  "language_info": {
   "codemirror_mode": {
    "name": "ipython",
    "version": 3
   },
   "file_extension": ".py",
   "mimetype": "text/x-python",
   "name": "python",
   "nbconvert_exporter": "python",
   "pygments_lexer": "ipython3",
   "version": "3.6.3"
  }
 },
 "nbformat": 4,
 "nbformat_minor": 2
}
